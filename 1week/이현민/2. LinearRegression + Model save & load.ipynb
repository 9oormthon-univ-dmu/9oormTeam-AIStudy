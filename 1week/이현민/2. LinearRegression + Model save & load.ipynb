{
 "cells": [
  {
   "cell_type": "code",
   "execution_count": 1,
   "id": "a7286f9e",
   "metadata": {
    "id": "a7286f9e",
    "outputId": "d568b85d-f8aa-4d8a-88b0-b84d4a5494b2"
   },
   "outputs": [
    {
     "data": {
      "text/plain": [
       "'2.4.0'"
      ]
     },
     "execution_count": 1,
     "metadata": {},
     "output_type": "execute_result"
    }
   ],
   "source": [
    "import numpy as np\n",
    "import matplotlib.pyplot as plt\n",
    "\n",
    "import torch\n",
    "from torch import nn # 'n'eural 'n'etworks <- PyTorch's building blocks for neural networks\n",
    "\n",
    "torch.__version__"
   ]
  },
  {
   "cell_type": "markdown",
   "id": "c27858eb",
   "metadata": {
    "id": "c27858eb"
   },
   "source": [
    "<br>\n",
    "<br>\n",
    "\n",
    "# 1. Preparing the dataset"
   ]
  },
  {
   "cell_type": "code",
   "execution_count": 3,
   "id": "2c15a451",
   "metadata": {
    "id": "2c15a451",
    "outputId": "da18aa69-d802-4dd3-fd70-cea79d35a6c6"
   },
   "outputs": [
    {
     "data": {
      "text/plain": [
       "tensor([0.0000, 0.0200, 0.0400, 0.0600, 0.0800, 0.1000, 0.1200, 0.1400, 0.1600,\n",
       "        0.1800, 0.2000, 0.2200, 0.2400, 0.2600, 0.2800, 0.3000, 0.3200, 0.3400,\n",
       "        0.3600, 0.3800, 0.4000, 0.4200, 0.4400, 0.4600, 0.4800, 0.5000, 0.5200,\n",
       "        0.5400, 0.5600, 0.5800, 0.6000, 0.6200, 0.6400, 0.6600, 0.6800, 0.7000,\n",
       "        0.7200, 0.7400, 0.7600, 0.7800, 0.8000, 0.8200, 0.8400, 0.8600, 0.8800,\n",
       "        0.9000, 0.9200, 0.9400, 0.9600, 0.9800])"
      ]
     },
     "execution_count": 3,
     "metadata": {},
     "output_type": "execute_result"
    }
   ],
   "source": [
    "torch.arange(0, 1, 0.02) # array of range"
   ]
  },
  {
   "cell_type": "code",
   "execution_count": 8,
   "id": "a80d3459",
   "metadata": {
    "id": "a80d3459",
    "outputId": "3437afb0-fefa-4787-8dfc-a8e10b1b1302"
   },
   "outputs": [
    {
     "data": {
      "text/plain": [
       "torch.Size([50])"
      ]
     },
     "execution_count": 8,
     "metadata": {},
     "output_type": "execute_result"
    }
   ],
   "source": [
    "# torch.arange(0, 1, 0.02).reshape(-1, 1).shape # 모양을 다시 바꾸다 (like numpy)\n",
    "\n",
    "torch.arange(0, 1, 0.02).shape #unsqueeze(dim=1) # index 번호 기준 1번 위치의 차원(2번째 차원)으로 1개 차원을 추가"
   ]
  },
  {
   "cell_type": "code",
   "execution_count": 10,
   "id": "21105526",
   "metadata": {
    "id": "21105526"
   },
   "outputs": [],
   "source": [
    "X = torch.arange(0, 1, 0.02).reshape(-1, 1)"
   ]
  },
  {
   "cell_type": "code",
   "execution_count": 11,
   "id": "730d02f9",
   "metadata": {
    "id": "730d02f9"
   },
   "outputs": [],
   "source": [
    "weight = 0.7 # <- 모델이 Gradient descent로 찾아낼 parameter \n",
    "bias = 0.3   # <- 모델이 Gradient descent로 찾아낼 parameter \n",
    "\n",
    "y = weight * X + bias"
   ]
  },
  {
   "cell_type": "code",
   "execution_count": 12,
   "id": "68039977",
   "metadata": {
    "id": "68039977",
    "outputId": "ef70c444-be52-491b-a148-d3b5e9b18162"
   },
   "outputs": [
    {
     "name": "stdout",
     "output_type": "stream",
     "text": [
      "tensor([[0.0000],\n",
      "        [0.0200],\n",
      "        [0.0400],\n",
      "        [0.0600],\n",
      "        [0.0800]])\n",
      "tensor([[0.3000],\n",
      "        [0.3140],\n",
      "        [0.3280],\n",
      "        [0.3420],\n",
      "        [0.3560]])\n"
     ]
    }
   ],
   "source": [
    "print(X[:5])\n",
    "print(y[:5])"
   ]
  },
  {
   "cell_type": "code",
   "execution_count": 13,
   "id": "45167c40",
   "metadata": {
    "id": "45167c40"
   },
   "outputs": [],
   "source": [
    "from sklearn.model_selection import train_test_split\n",
    "\n",
    "X_train, X_test, y_train, y_test = train_test_split(X, \n",
    "                                                    y, \n",
    "                                                    test_size=0.3, \n",
    "                                                    random_state=42) "
   ]
  },
  {
   "cell_type": "code",
   "execution_count": 16,
   "id": "a59e9156",
   "metadata": {
    "id": "a59e9156"
   },
   "outputs": [],
   "source": [
    "def scatter_predictions(X_train=X_train, y_train=y_train, \n",
    "                        X_test=X_test, y_test=y_test, \n",
    "                        y_predicted=None):\n",
    "    \n",
    "    plt.figure(figsize=(10, 7), dpi=100) # figure size & dot per inch\n",
    "\n",
    "    # train data\n",
    "    plt.scatter(X_train, y_train, c=\"black\", s=3, label=\"Train data\") # 산점도 (Scatter plots)\n",
    "\n",
    "    # test data\n",
    "    plt.scatter(X_test, y_test, c=\"blue\", s=10, label=\"Test data\")\n",
    "\n",
    "    if y_predicted is not None:\n",
    "        plt.scatter(X_test, y_predicted, c=\"red\", s=20, label=\"Predictions\")\n",
    "\n",
    "    plt.legend(prop={\"size\": 16})"
   ]
  },
  {
   "cell_type": "code",
   "execution_count": 17,
   "id": "05300242",
   "metadata": {
    "id": "05300242",
    "outputId": "d1686e03-3a97-4c2b-af51-4667cfc3cfcc"
   },
   "outputs": [
    {
     "data": {
      "image/png": "[encoded data removed]",
      "text/plain": [
       "<Figure size 1000x700 with 1 Axes>"
      ]
     },
     "metadata": {},
     "output_type": "display_data"
    }
   ],
   "source": [
    "scatter_predictions()"
   ]
  },
  {
   "cell_type": "markdown",
   "id": "88f5be07",
   "metadata": {
    "id": "88f5be07"
   },
   "source": [
    "<br>\n",
    "<br>\n",
    "\n",
    "# 2. Build the model (Linear Regression)\n",
    "\n",
    "<br>\n",
    "\n",
    "## Pytorch Cheet sheet @ https://pytorch.org/tutorials/beginner/ptcheat.html"
   ]
  },
  {
   "cell_type": "markdown",
   "id": "e4ab2843",
   "metadata": {
    "id": "e4ab2843"
   },
   "source": [
    "<hr>\n",
    "<br>\n",
    "\n",
    "#### torch.**nn** <br><br> :\t 계산 그래프(computational graphs)를 만들기 위한 모든 building blocks (**layers**) 를 포함\n",
    "<br>\n",
    "\n",
    "<hr>\n",
    "<br>\n",
    "\n",
    "#### torch.**nn.Module** <br><br> : 모든 인공신경망 구조를 위한 기본 클래스. <br><br>  PyTorch 에서 인공신경망을 만들 때에는 **언제나 nn.Module 클래스를 상속받아 모델의 클래스를 만들어야 함**<br><br>+ **\"forward()\" 메서드를 필수로 재정의(override)**해주어야 함\n",
    "<br>\n",
    "\n",
    "<hr>\n",
    "<br>\n",
    "\n",
    "#### torch.**nn.Parameter**<br><br> : nn.Module 에서 활용되는 tensor들을 저장 <br><br>  [ **requires_grad=True** ] 가 설정되어 있을 경우 자동으로 gradients 를 계산 (== \"autograd\")\n",
    "<br>\n",
    "\n",
    "<hr>\n",
    "<br>\n",
    "\n",
    "#### method \"**forward()**\"\t: nn.Module 클래스를 상속받은 모든 클래스(우리가 만들 모델의 클래스)들은 forward() 메서드를 재정의(override)해주어야 함 <br><br> (forward computation에 대한 정의)\n",
    "<br>\n",
    "\n",
    "<hr>\n",
    "<br>\n",
    "\n",
    "#### torch.**optim** : 다양한 Optimizer 들을 포함\n",
    "<br>\n",
    "\n",
    "<hr>\n",
    "<br>"
   ]
  },
  {
   "cell_type": "code",
   "execution_count": 35,
   "id": "3e4276b7",
   "metadata": {
    "id": "3e4276b7"
   },
   "outputs": [],
   "source": [
    "class LinearRegressionModel(nn.Module): # nn.Module == neural network lego blocks\n",
    "    \n",
    "    def __init__(self): # 생성자 함수 (Constructor)\n",
    "        \n",
    "        super().__init__() # 상속받은 nn.Module 클래스의 생성자 함수 호출\n",
    "        \n",
    "        # Parameter 초기화를 위한 세팅\n",
    "        self.weights = nn.Parameter(torch.randn(1, requires_grad=True, dtype=torch.float)) # Parameter 생성 (requires_grad=True)\n",
    "        self.bias = nn.Parameter(torch.randn(1, requires_grad=True, dtype=torch.float))    # Parameter 생성 (requires_grad=True)\n",
    "        \n",
    "        # requires_grad=True (default == False) : update this value with gradient descent\n",
    "        # PyTorch's default float type is \"float32\" (preferable)\n",
    "        \n",
    "\n",
    "    # def forward(self, x: torch.Tensor) -> torch.Tensor: \n",
    "    def forward(self, x): # 순방향 전파 (Forward pass)\n",
    "        \n",
    "        return self.weights * x + self.bias # y = ax + b"
   ]
  },
  {
   "cell_type": "code",
   "execution_count": 19,
   "id": "84bf8005",
   "metadata": {},
   "outputs": [
    {
     "name": "stdout",
     "output_type": "stream",
     "text": [
      "['cat', 'Dog', 'Tiger']\n"
     ]
    }
   ],
   "source": [
    "class Cage:\n",
    "    def __init__(self): #생성자 함수, constructor\n",
    "        self.cage = ['cat', 'Dog', 'Tiger']\n",
    "    \n",
    "    def print_cage(self):\n",
    "        print(self.cage)\n",
    "\n",
    "cage_1 = Cage()\n",
    "cage_1.print_cage()"
   ]
  },
  {
   "cell_type": "code",
   "execution_count": null,
   "id": "26395798",
   "metadata": {},
   "outputs": [],
   "source": []
  },
  {
   "cell_type": "markdown",
   "id": "d7c55b8e",
   "metadata": {
    "id": "d7c55b8e"
   },
   "source": [
    "<br>\n",
    "<br>\n",
    "\n",
    "# 3. Initialize the model "
   ]
  },
  {
   "cell_type": "code",
   "execution_count": 36,
   "id": "fd778327",
   "metadata": {
    "id": "fd778327",
    "outputId": "23101de1-7c52-427b-9075-45eedd5a077a"
   },
   "outputs": [
    {
     "data": {
      "text/plain": [
       "<torch._C.Generator at 0x12e56c470>"
      ]
     },
     "execution_count": 36,
     "metadata": {},
     "output_type": "execute_result"
    }
   ],
   "source": [
    "torch.manual_seed(42) # \"Manually\" set the \"seed\" for [ nn.Parameter ]"
   ]
  },
  {
   "cell_type": "code",
   "execution_count": 37,
   "id": "de9df0d2",
   "metadata": {
    "id": "de9df0d2"
   },
   "outputs": [],
   "source": [
    "model = LinearRegressionModel() # 모델 초기화 "
   ]
  },
  {
   "cell_type": "code",
   "execution_count": 38,
   "id": "6bdf16b0",
   "metadata": {
    "id": "6bdf16b0",
    "outputId": "6796cb46-f896-44fe-9779-18f1e4627929"
   },
   "outputs": [
    {
     "data": {
      "text/plain": [
       "[Parameter containing:\n",
       " tensor([0.3367], requires_grad=True),\n",
       " Parameter containing:\n",
       " tensor([0.1288], requires_grad=True)]"
      ]
     },
     "execution_count": 38,
     "metadata": {},
     "output_type": "execute_result"
    }
   ],
   "source": [
    "# 초기화가 된 parameter theta - 1\n",
    "\n",
    "list(model.parameters()) # 모델에 포함된 \"Parameters\" 조회"
   ]
  },
  {
   "cell_type": "code",
   "execution_count": null,
   "id": "7a1aa69e",
   "metadata": {
    "id": "7a1aa69e",
    "outputId": "be0502bc-c132-426b-b52d-96548782cc13"
   },
   "outputs": [
    {
     "data": {
      "text/plain": [
       "OrderedDict([('weights', tensor([0.3367])), ('bias', tensor([0.1288]))])"
      ]
     },
     "execution_count": 73,
     "metadata": {},
     "output_type": "execute_result"
    }
   ],
   "source": [
    "# 초기화가 된 parameter theta - 2\n",
    "\n",
    "model.state_dict()"
   ]
  },
  {
   "cell_type": "code",
   "execution_count": 39,
   "id": "700ac1fd",
   "metadata": {
    "id": "700ac1fd"
   },
   "outputs": [],
   "source": [
    "# with torch.no_grad(): # older version of PyTorch\n",
    "with torch.inference_mode(): # Set \"inference mode\"\n",
    "    \n",
    "    y_predicted = model(X_test) # 순방향 전파 (Forward pass)"
   ]
  },
  {
   "cell_type": "code",
   "execution_count": 41,
   "id": "1b889892",
   "metadata": {},
   "outputs": [
    {
     "data": {
      "text/plain": [
       "tensor([[0.2163],\n",
       "        [0.3914],\n",
       "        [0.3308],\n",
       "        [0.4318],\n",
       "        [0.2433],\n",
       "        [0.4520],\n",
       "        [0.3039],\n",
       "        [0.2972],\n",
       "        [0.3443],\n",
       "        [0.2568],\n",
       "        [0.2096],\n",
       "        [0.1557],\n",
       "        [0.3780],\n",
       "        [0.1827],\n",
       "        [0.1490]])"
      ]
     },
     "execution_count": 41,
     "metadata": {},
     "output_type": "execute_result"
    }
   ],
   "source": [
    "y_predicted"
   ]
  },
  {
   "cell_type": "code",
   "execution_count": 40,
   "id": "b720a2f1",
   "metadata": {
    "id": "b720a2f1",
    "outputId": "80f84b17-7e17-4dd1-9636-83ceabe74265"
   },
   "outputs": [
    {
     "data": {
      "image/png": "[encoded data removed]",
      "text/plain": [
       "<Figure size 1000x700 with 1 Axes>"
      ]
     },
     "metadata": {},
     "output_type": "display_data"
    }
   ],
   "source": [
    "scatter_predictions(y_predicted=y_predicted)"
   ]
  },
  {
   "cell_type": "markdown",
   "id": "2e93124d",
   "metadata": {
    "id": "2e93124d"
   },
   "source": [
    "<br>\n",
    "<br>\n",
    "\n",
    "# 4. Train the model "
   ]
  },
  {
   "cell_type": "code",
   "execution_count": null,
   "id": "0b70c4ba",
   "metadata": {
    "id": "0b70c4ba"
   },
   "outputs": [],
   "source": [
    "# # Activations @ https://pytorch.org/docs/stable/nn.html#non-linear-activations-weighted-sum-nonlinearity\n",
    "\n",
    "torch.nn.ReLU\n",
    "torch.nn.ELU \n",
    "torch.nn.PReLU \n",
    "torch.nn.LeakyReLU\n",
    "torch.nn.Sigmoid \n",
    "torch.nn.Tanh \n",
    "torch.nn.Softmax\n",
    "\n",
    "# # RReLu, SELU, CELU, GELU, ReLU6, \n",
    "# # Threshold, Hardshrink, HardTanh,LogSigmoid, Softplus, SoftShrink,\n",
    "# # Softsign, TanhShrink, Softmin, Softmax2d, LogSoftmax, AdaptiveSoftmaxWithLoss"
   ]
  },
  {
   "cell_type": "code",
   "execution_count": null,
   "id": "7820c7d3",
   "metadata": {
    "id": "7820c7d3"
   },
   "outputs": [],
   "source": [
    "# Cost Functions @ https://pytorch.org/docs/stable/nn.html#loss-functions\n",
    "\n",
    "torch.nn.L1Loss == MAE\n",
    "torch.nn.MSELoss == MSE \n",
    "torch.nn.CrossEntropyLoss == Multi-class CrossEntropy\n",
    "torch.nn.BCELoss == Binary-CrossEntropy\n",
    "torch.nn.BCEWithLogitsLoss == Sigmoid layer + torch.nn.BCELoss @ https://bit.ly/3AbUSR9\n",
    "\n",
    "# CTCLoss, NLLLoss, PoissonNLLLoss, KLDivLoss, MarginRankingLoss, HingeEmbeddingLoss, MultiLabelMarginLoss, \n",
    "# SmoothL1Loss, SoftMarginLoss, MultiLabelSoftMarginLoss, CosineEmbeddingLoss, MultiMarginLoss, TripletMarginLoss"
   ]
  },
  {
   "cell_type": "code",
   "execution_count": null,
   "id": "72ee944a",
   "metadata": {
    "id": "72ee944a"
   },
   "outputs": [],
   "source": [
    "# Optimizers @ https://pytorch.org/docs/stable/optim.html\n",
    "\n",
    "torch.optim.SGD\n",
    "torch.optim.Adam\n",
    "torch.optim.RAdam\n",
    "torch.optim.AdamW\n",
    "torch.optim.Adagrad\n",
    "torch.optim.Adadelta\n",
    "torch.optim.RMSprop\n",
    "\n",
    "# SparseAdam, Adamax, ASGD, LBFGS, Rprop"
   ]
  },
  {
   "cell_type": "code",
   "execution_count": 42,
   "id": "7ec3be27",
   "metadata": {
    "id": "7ec3be27"
   },
   "outputs": [],
   "source": [
    "torch.manual_seed(42) # \"Manually\" set the \"seed\" for [ nn.Parameter ]\n",
    "\n",
    "model = LinearRegressionModel() # 모델 초기화 \n",
    "\n",
    "loss_fn = nn.MSELoss() # Mean squared error\n",
    "\n",
    "optimizer = torch.optim.Adam(params=model.parameters(), # \"parameters\" to optimize (apply gradient descent)\n",
    "                             lr=0.01) # \"l\"earning \"r\"ate "
   ]
  },
  {
   "cell_type": "code",
   "execution_count": 43,
   "id": "2af6923a",
   "metadata": {
    "id": "2af6923a",
    "outputId": "020c9f59-25c8-407b-bd7a-98eb00c32c93"
   },
   "outputs": [
    {
     "name": "stdout",
     "output_type": "stream",
     "text": [
      "Epoch: 0 | Train MSE : 0.13457220792770386 | Test MSE : 0.11861804127693176\n",
      "Epoch: 10 | Train MSE : 0.047810107469558716 | Test MSE : 0.03970817103981972\n",
      "Epoch: 20 | Train MSE : 0.008682653307914734 | Test MSE : 0.0063242255710065365\n",
      "Epoch: 30 | Train MSE : 0.0012723570689558983 | Test MSE : 0.0012832541251555085\n",
      "Epoch: 40 | Train MSE : 0.002298720646649599 | Test MSE : 0.002411391818895936\n",
      "Epoch: 50 | Train MSE : 0.0017212432576343417 | Test MSE : 0.001661107991822064\n",
      "Epoch: 60 | Train MSE : 0.0009067069040611386 | Test MSE : 0.0008533020154573023\n",
      "Epoch: 70 | Train MSE : 0.0007432317943312228 | Test MSE : 0.0006821426213718951\n",
      "Epoch: 80 | Train MSE : 0.0006369306356646121 | Test MSE : 0.0005742000648751855\n",
      "Epoch: 90 | Train MSE : 0.0004997766809538007 | Test MSE : 0.00046104416833259165\n"
     ]
    }
   ],
   "source": [
    "train_losses = []\n",
    "test_losses = []\n",
    "\n",
    "for epoch in range(100): # epochs == 100\n",
    "\n",
    "    # 모델을 training mode로 설정 (default state)\n",
    "    model.train() \n",
    "    \n",
    "    y_predicted = model(X_train) # 1. (x 데이터를 모델에 넣고) 순방향 계산 진행 (forward pass)\n",
    "    \n",
    "    train_loss = loss_fn(y_predicted, y_train) # 2. Training cost 계산 (Cost function 계산)\n",
    "    \n",
    "    optimizer.zero_grad() # 3. Optimizer 내부의 이전 gradient 값 초기화 (Make \"grad\" to \"zero\")\n",
    "    \n",
    "    train_loss.backward() # 4. Back-propagation (\"Backward\" propagation)\n",
    "\n",
    "    optimizer.step() # 5. Gradient descent 진행 (Take a \"step\" to update parameters)\n",
    "\n",
    "    \n",
    "    # 모델을 evaluation mode로 설정\n",
    "    model.eval()\n",
    "\n",
    "    with torch.inference_mode (): # Set \"inference mode\"\n",
    "        \n",
    "        y_predicted = model(X_test) # (x 데이터를 모델에 넣고) 순방향 계산 진행 (forward pass)\n",
    "        \n",
    "        test_loss = loss_fn(y_predicted, y_test.type(torch.float)) # Test cost 계산 (y_test 역시도 동일한 type으로 type-casting)\n",
    "\n",
    "        if epoch % 10 == 0:\n",
    "            train_losses.append(train_loss.detach().numpy()) # detach() : 기존 Tensor에서 gradient 전파가 안되는 Tensor 생성 (backward 적용 X, https://bit.ly/3g9dTNt)\n",
    "            test_losses.append(test_loss.detach().numpy())\n",
    "            print(f\"Epoch: {epoch} | Train MSE : {train_loss} | Test MSE : {test_loss}\")"
   ]
  },
  {
   "cell_type": "code",
   "execution_count": 44,
   "id": "524c5611",
   "metadata": {
    "id": "524c5611",
    "outputId": "6cbd50c9-1a14-414b-88b9-f167fba5edbc"
   },
   "outputs": [
    {
     "data": {
      "image/png": "[encoded data removed]",
      "text/plain": [
       "<Figure size 1000x700 with 1 Axes>"
      ]
     },
     "metadata": {},
     "output_type": "display_data"
    }
   ],
   "source": [
    "x_values = np.arange(len(train_losses)) # array of range\n",
    "\n",
    "plt.figure(figsize=(10, 7), dpi=100)\n",
    "\n",
    "plt.plot(x_values, train_losses, label=\"Train loss\")\n",
    "plt.plot(x_values, test_losses, label=\"Test loss\")\n",
    "\n",
    "plt.title(\"Train loss vs Test loss\")\n",
    "plt.ylabel(\"Loss\")\n",
    "plt.xlabel(\"Epochs\")\n",
    "plt.legend()\n",
    "\n",
    "plt.show()"
   ]
  },
  {
   "cell_type": "markdown",
   "id": "a088ee2d",
   "metadata": {
    "id": "a088ee2d"
   },
   "source": [
    "<br>\n",
    "<br>\n",
    "\n",
    "# 5. Test the model "
   ]
  },
  {
   "cell_type": "code",
   "execution_count": 49,
   "id": "f329f706",
   "metadata": {
    "id": "f329f706"
   },
   "outputs": [],
   "source": [
    "# 1. 모델을 evaluation mode로 설정\n",
    "model.eval()\n",
    "\n",
    "# 2. inference mode 세팅\n",
    "with torch.inference_mode():\n",
    "    \n",
    "    # 3. 모델과 데이터는 동일한 디바이스 위에 있어야 함 (GPU or CPU)\n",
    "    y_predicted = model(X_test) # (x 데이터를 모델에 넣고) 순방향 계산 진행 (forward pass)\n",
    "    \n",
    "    # # GPU 활용 시\n",
    "    # model.to(device)\n",
    "    # X_test = X_test.to(device)\n",
    "    # y_predicted = model(X_test)"
   ]
  },
  {
   "cell_type": "code",
   "execution_count": 50,
   "id": "ec358310",
   "metadata": {
    "id": "ec358310",
    "outputId": "5e16d313-becc-4cce-f237-c8835b083eb4"
   },
   "outputs": [
    {
     "data": {
      "text/plain": [
       "tensor([[0.5025],\n",
       "        [0.8317],\n",
       "        [0.7177],\n",
       "        [0.9076],\n",
       "        [0.5532],\n",
       "        [0.9456],\n",
       "        [0.6671],\n",
       "        [0.6544],\n",
       "        [0.7431],\n",
       "        [0.5785],\n",
       "        [0.4899],\n",
       "        [0.3886],\n",
       "        [0.8064],\n",
       "        [0.4392],\n",
       "        [0.3759]])"
      ]
     },
     "execution_count": 50,
     "metadata": {},
     "output_type": "execute_result"
    }
   ],
   "source": [
    "y_predicted"
   ]
  },
  {
   "cell_type": "code",
   "execution_count": 47,
   "id": "d7b4924e",
   "metadata": {
    "id": "d7b4924e",
    "outputId": "a58c121b-0876-4a1d-db73-a626bfbe968c"
   },
   "outputs": [
    {
     "data": {
      "image/png": "[encoded data removed]",
      "text/plain": [
       "<Figure size 1000x700 with 1 Axes>"
      ]
     },
     "metadata": {},
     "output_type": "display_data"
    }
   ],
   "source": [
    "scatter_predictions(y_predicted=y_predicted)"
   ]
  },
  {
   "cell_type": "code",
   "execution_count": 51,
   "id": "26ad081a",
   "metadata": {
    "id": "26ad081a",
    "outputId": "059e91d0-156e-4fe4-df68-0370dea4e4b7"
   },
   "outputs": [
    {
     "data": {
      "text/plain": [
       "0.00038936955388635397"
      ]
     },
     "execution_count": 51,
     "metadata": {},
     "output_type": "execute_result"
    }
   ],
   "source": [
    "cost = loss_fn(y_predicted, y_test.type(torch.float)) # y_test 역시도 동일한 type으로 type-casting\n",
    "\n",
    "cost.item() # Tensor로부터 값(item) 꺼내기 (Test MSE)"
   ]
  },
  {
   "cell_type": "code",
   "execution_count": 52,
   "id": "70635682",
   "metadata": {
    "id": "70635682",
    "outputId": "14692878-0ef2-43ae-9bd5-ba4ef528f880"
   },
   "outputs": [
    {
     "name": "stdout",
     "output_type": "stream",
     "text": [
      "0.7\n",
      "0.3\n"
     ]
    }
   ],
   "source": [
    "# 데이터 준비 시 활용했던 original params\n",
    "\n",
    "print(weight)\n",
    "print(bias)"
   ]
  },
  {
   "cell_type": "code",
   "execution_count": 53,
   "id": "57d5f8a1",
   "metadata": {
    "id": "57d5f8a1",
    "outputId": "5418dcf2-8a01-4fff-d149-6240fa53f7da",
    "scrolled": true
   },
   "outputs": [
    {
     "data": {
      "text/plain": [
       "OrderedDict([('weights', tensor([0.6330])), ('bias', tensor([0.3380]))])"
      ]
     },
     "execution_count": 53,
     "metadata": {},
     "output_type": "execute_result"
    }
   ],
   "source": [
    "# 학습이 마쳐진 parameters\n",
    "\n",
    "model.state_dict()"
   ]
  },
  {
   "cell_type": "markdown",
   "id": "77fbbf19",
   "metadata": {
    "id": "77fbbf19"
   },
   "source": [
    "<br>\n",
    "<br>\n",
    "\n",
    "# (Appendix 1) Save & Load the model"
   ]
  },
  {
   "cell_type": "markdown",
   "id": "7442e02a",
   "metadata": {
    "id": "7442e02a"
   },
   "source": [
    "<hr>\n",
    "<br>\n",
    "\n",
    "#### torch.**save** <br><br> :\t다양한 객체를 pickle 파일로 저장 (models, tensors, python objects like dicts)\n",
    "<br>\n",
    "\n",
    "<hr>\n",
    "<br>\n",
    "\n",
    "#### torch.**load** <br><br> :\t다양한 객체를 pickle 파일로부터 로딩 (models, tensors, python objects like dicts) & 로딩 시 적재될 device도 결정 가능 (CPU, GPU, etc)\n",
    "<br>\n",
    "\n",
    "<hr>\n",
    "<br>\n",
    "\n",
    "#### torch.**nn.Module.load_state_dict** <br><br> :\t저장된 **model.state_dict()** 파일로부터 모델 파라미터 값들을 로딩\n",
    "<br>\n",
    "\n",
    "<hr>\n",
    "<br>"
   ]
  },
  {
   "cell_type": "markdown",
   "id": "ead7b818",
   "metadata": {
    "id": "ead7b818"
   },
   "source": [
    "<br>\n",
    "<br>\n",
    "\n",
    "### 1) **Save**\n",
    "\n",
    "<br>\n",
    "\n",
    "#### 모델을 통째로 저장하고 불러오는 것도 가능 @ https://pytorch.org/tutorials/beginner/saving_loading_models.html\n",
    "\n",
    "#### -> **torch.save(model, PATH)** & **model = torch.load(PATH)**"
   ]
  },
  {
   "cell_type": "code",
   "execution_count": 55,
   "id": "b7a9dbbb",
   "metadata": {
    "id": "b7a9dbbb"
   },
   "outputs": [
    {
     "ename": "RuntimeError",
     "evalue": "Parent directory models does not exist.",
     "output_type": "error",
     "traceback": [
      "\u001b[0;31m---------------------------------------------------------------------------\u001b[0m",
      "\u001b[0;31mRuntimeError\u001b[0m                              Traceback (most recent call last)",
      "Cell \u001b[0;32mIn[55], line 3\u001b[0m\n\u001b[1;32m      1\u001b[0m \u001b[38;5;66;03m# Shorter version\u001b[39;00m\n\u001b[1;32m      2\u001b[0m \u001b[38;5;66;03m# pickle.dump()\u001b[39;00m\n\u001b[0;32m----> 3\u001b[0m torch\u001b[38;5;241m.\u001b[39msave(obj\u001b[38;5;241m=\u001b[39mmodel\u001b[38;5;241m.\u001b[39mstate_dict(), \u001b[38;5;66;03m# only parameters\u001b[39;00m\n\u001b[1;32m      4\u001b[0m            f\u001b[38;5;241m=\u001b[39m\u001b[38;5;124m'\u001b[39m\u001b[38;5;124mmodels/linear_regression_01.pth\u001b[39m\u001b[38;5;124m'\u001b[39m)\n",
      "File \u001b[0;32m/opt/anaconda3/lib/python3.12/site-packages/torch/serialization.py:651\u001b[0m, in \u001b[0;36msave\u001b[0;34m(obj, f, pickle_module, pickle_protocol, _use_new_zipfile_serialization, _disable_byteorder_record)\u001b[0m\n\u001b[1;32m    648\u001b[0m _check_save_filelike(f)\n\u001b[1;32m    650\u001b[0m \u001b[38;5;28;01mif\u001b[39;00m _use_new_zipfile_serialization:\n\u001b[0;32m--> 651\u001b[0m     \u001b[38;5;28;01mwith\u001b[39;00m _open_zipfile_writer(f) \u001b[38;5;28;01mas\u001b[39;00m opened_zipfile:\n\u001b[1;32m    652\u001b[0m         _save(obj, opened_zipfile, pickle_module, pickle_protocol, _disable_byteorder_record)\n\u001b[1;32m    653\u001b[0m         \u001b[38;5;28;01mreturn\u001b[39;00m\n",
      "File \u001b[0;32m/opt/anaconda3/lib/python3.12/site-packages/torch/serialization.py:525\u001b[0m, in \u001b[0;36m_open_zipfile_writer\u001b[0;34m(name_or_buffer)\u001b[0m\n\u001b[1;32m    523\u001b[0m \u001b[38;5;28;01melse\u001b[39;00m:\n\u001b[1;32m    524\u001b[0m     container \u001b[38;5;241m=\u001b[39m _open_zipfile_writer_buffer\n\u001b[0;32m--> 525\u001b[0m \u001b[38;5;28;01mreturn\u001b[39;00m container(name_or_buffer)\n",
      "File \u001b[0;32m/opt/anaconda3/lib/python3.12/site-packages/torch/serialization.py:496\u001b[0m, in \u001b[0;36m_open_zipfile_writer_file.__init__\u001b[0;34m(self, name)\u001b[0m\n\u001b[1;32m    494\u001b[0m     \u001b[38;5;28msuper\u001b[39m()\u001b[38;5;241m.\u001b[39m\u001b[38;5;21m__init__\u001b[39m(torch\u001b[38;5;241m.\u001b[39m_C\u001b[38;5;241m.\u001b[39mPyTorchFileWriter(\u001b[38;5;28mself\u001b[39m\u001b[38;5;241m.\u001b[39mfile_stream))\n\u001b[1;32m    495\u001b[0m \u001b[38;5;28;01melse\u001b[39;00m:\n\u001b[0;32m--> 496\u001b[0m     \u001b[38;5;28msuper\u001b[39m()\u001b[38;5;241m.\u001b[39m\u001b[38;5;21m__init__\u001b[39m(torch\u001b[38;5;241m.\u001b[39m_C\u001b[38;5;241m.\u001b[39mPyTorchFileWriter(\u001b[38;5;28mself\u001b[39m\u001b[38;5;241m.\u001b[39mname))\n",
      "\u001b[0;31mRuntimeError\u001b[0m: Parent directory models does not exist."
     ]
    }
   ],
   "source": [
    "# Shorter version\n",
    "# pickle.dump()\n",
    "torch.save(obj=model.state_dict(), # only parameters\n",
    "           f='models/')"
   ]
  },
  {
   "cell_type": "code",
   "execution_count": null,
   "id": "ccbba29d",
   "metadata": {
    "id": "ccbba29d",
    "outputId": "479e6860-2648-41c5-c76a-d8f9b0b6ee92",
    "scrolled": true
   },
   "outputs": [
    {
     "name": "stdout",
     "output_type": "stream",
     "text": [
      "Saving model to : models\\linear_regression_01.pth\n"
     ]
    }
   ],
   "source": [
    "# Longer version (디렉토리부터 생성)\n",
    "\n",
    "\n",
    "# 1. 모델 파라미터 파일 저장을 위한 디렉토리 생성 (os.mkdir 함수로 대체하여 사용 가능)\n",
    "\n",
    "from pathlib import Path\n",
    "MODEL_PATH = Path(\"models\")\n",
    "MODEL_PATH.mkdir(parents=True, exist_ok=True) # make directory\n",
    "# parents=True : any missing parents of this path are created as needed.\n",
    "# exist_ok=True : FileExistsError exceptions will be ignored.\n",
    "\n",
    "\n",
    "# 2. 모델 파라미터 저장경로 지정 \n",
    "\n",
    "MODEL_NAME = \"linear_regression_01.pth\" # common convention for PyTorch saved models or objects : .pt or .pth\n",
    "MODEL_SAVE_PATH = MODEL_PATH / MODEL_NAME # WindowsPath('models/linear_regression_01.pth')\n",
    "\n",
    "\n",
    "# 3. 모델 파라미터 저장\n",
    "\n",
    "print('Saving model to :', MODEL_SAVE_PATH)\n",
    "\n",
    "torch.save(obj=model.state_dict(), # only parameters\n",
    "           f=MODEL_SAVE_PATH)"
   ]
  },
  {
   "cell_type": "markdown",
   "id": "c3e448db",
   "metadata": {
    "id": "c3e448db"
   },
   "source": [
    "<br>\n",
    "<br>\n",
    "\n",
    "### 2) **Load**"
   ]
  },
  {
   "cell_type": "code",
   "execution_count": 57,
   "id": "73ee1a1f",
   "metadata": {
    "id": "73ee1a1f",
    "outputId": "e6ed0c2e-96a6-427c-f05a-0160ace50392"
   },
   "outputs": [
    {
     "name": "stderr",
     "output_type": "stream",
     "text": [
      "/var/folders/8w/h5yd3csn7kn369tbplylx3280000gn/T/ipykernel_10290/457315837.py:3: FutureWarning: You are using `torch.load` with `weights_only=False` (the current default value), which uses the default pickle module implicitly. It is possible to construct malicious pickle data which will execute arbitrary code during unpickling (See https://github.com/pytorch/pytorch/blob/main/SECURITY.md#untrusted-models for more details). In a future release, the default value for `weights_only` will be flipped to `True`. This limits the functions that could be executed during unpickling. Arbitrary objects will no longer be allowed to be loaded via this mode unless they are explicitly allowlisted by the user via `torch.serialization.add_safe_globals`. We recommend you start setting `weights_only=True` for any use case where you don't have full control of the loaded file. Please open an issue on GitHub for any issues related to this experimental feature.\n",
      "  loaded_model.load_state_dict(torch.load(f='models/linear_regression_01.pth'))\n"
     ]
    },
    {
     "ename": "FileNotFoundError",
     "evalue": "[Errno 2] No such file or directory: 'models/linear_regression_01.pth'",
     "output_type": "error",
     "traceback": [
      "\u001b[0;31m---------------------------------------------------------------------------\u001b[0m",
      "\u001b[0;31mFileNotFoundError\u001b[0m                         Traceback (most recent call last)",
      "Cell \u001b[0;32mIn[57], line 3\u001b[0m\n\u001b[1;32m      1\u001b[0m loaded_model \u001b[38;5;241m=\u001b[39m LinearRegressionModel() \u001b[38;5;66;03m# 모델 구조 생성 \u001b[39;00m\n\u001b[0;32m----> 3\u001b[0m loaded_model\u001b[38;5;241m.\u001b[39mload_state_dict(torch\u001b[38;5;241m.\u001b[39mload(f\u001b[38;5;241m=\u001b[39m\u001b[38;5;124m'\u001b[39m\u001b[38;5;124mmodels/linear_regression_01.pth\u001b[39m\u001b[38;5;124m'\u001b[39m))\n",
      "File \u001b[0;32m/opt/anaconda3/lib/python3.12/site-packages/torch/serialization.py:1065\u001b[0m, in \u001b[0;36mload\u001b[0;34m(f, map_location, pickle_module, weights_only, mmap, **pickle_load_args)\u001b[0m\n\u001b[1;32m   1062\u001b[0m \u001b[38;5;28;01mif\u001b[39;00m \u001b[38;5;124m'\u001b[39m\u001b[38;5;124mencoding\u001b[39m\u001b[38;5;124m'\u001b[39m \u001b[38;5;129;01mnot\u001b[39;00m \u001b[38;5;129;01min\u001b[39;00m pickle_load_args\u001b[38;5;241m.\u001b[39mkeys():\n\u001b[1;32m   1063\u001b[0m     pickle_load_args[\u001b[38;5;124m'\u001b[39m\u001b[38;5;124mencoding\u001b[39m\u001b[38;5;124m'\u001b[39m] \u001b[38;5;241m=\u001b[39m \u001b[38;5;124m'\u001b[39m\u001b[38;5;124mutf-8\u001b[39m\u001b[38;5;124m'\u001b[39m\n\u001b[0;32m-> 1065\u001b[0m \u001b[38;5;28;01mwith\u001b[39;00m _open_file_like(f, \u001b[38;5;124m'\u001b[39m\u001b[38;5;124mrb\u001b[39m\u001b[38;5;124m'\u001b[39m) \u001b[38;5;28;01mas\u001b[39;00m opened_file:\n\u001b[1;32m   1066\u001b[0m     \u001b[38;5;28;01mif\u001b[39;00m _is_zipfile(opened_file):\n\u001b[1;32m   1067\u001b[0m         \u001b[38;5;66;03m# The zipfile reader is going to advance the current file position.\u001b[39;00m\n\u001b[1;32m   1068\u001b[0m         \u001b[38;5;66;03m# If we want to actually tail call to torch.jit.load, we need to\u001b[39;00m\n\u001b[1;32m   1069\u001b[0m         \u001b[38;5;66;03m# reset back to the original position.\u001b[39;00m\n\u001b[1;32m   1070\u001b[0m         orig_position \u001b[38;5;241m=\u001b[39m opened_file\u001b[38;5;241m.\u001b[39mtell()\n",
      "File \u001b[0;32m/opt/anaconda3/lib/python3.12/site-packages/torch/serialization.py:468\u001b[0m, in \u001b[0;36m_open_file_like\u001b[0;34m(name_or_buffer, mode)\u001b[0m\n\u001b[1;32m    466\u001b[0m \u001b[38;5;28;01mdef\u001b[39;00m \u001b[38;5;21m_open_file_like\u001b[39m(name_or_buffer, mode):\n\u001b[1;32m    467\u001b[0m     \u001b[38;5;28;01mif\u001b[39;00m _is_path(name_or_buffer):\n\u001b[0;32m--> 468\u001b[0m         \u001b[38;5;28;01mreturn\u001b[39;00m _open_file(name_or_buffer, mode)\n\u001b[1;32m    469\u001b[0m     \u001b[38;5;28;01melse\u001b[39;00m:\n\u001b[1;32m    470\u001b[0m         \u001b[38;5;28;01mif\u001b[39;00m \u001b[38;5;124m'\u001b[39m\u001b[38;5;124mw\u001b[39m\u001b[38;5;124m'\u001b[39m \u001b[38;5;129;01min\u001b[39;00m mode:\n",
      "File \u001b[0;32m/opt/anaconda3/lib/python3.12/site-packages/torch/serialization.py:449\u001b[0m, in \u001b[0;36m_open_file.__init__\u001b[0;34m(self, name, mode)\u001b[0m\n\u001b[1;32m    448\u001b[0m \u001b[38;5;28;01mdef\u001b[39;00m \u001b[38;5;21m__init__\u001b[39m(\u001b[38;5;28mself\u001b[39m, name, mode):\n\u001b[0;32m--> 449\u001b[0m     \u001b[38;5;28msuper\u001b[39m()\u001b[38;5;241m.\u001b[39m\u001b[38;5;21m__init__\u001b[39m(\u001b[38;5;28mopen\u001b[39m(name, mode))\n",
      "\u001b[0;31mFileNotFoundError\u001b[0m: [Errno 2] No such file or directory: 'models/linear_regression_01.pth'"
     ]
    }
   ],
   "source": [
    "loaded_model = LinearRegressionModel() # 모델 구조 생성 \n",
    "\n",
    "loaded_model.load_state_dict(torch.load(f='models/linear_regression_01.pth')) \n",
    "# pickle 파일을 먼저 \"load\" 후 paramter 값들을 꺼내어 모델로 load (\"load\" the \"state_dict\")"
   ]
  },
  {
   "cell_type": "code",
   "execution_count": null,
   "id": "caaef030",
   "metadata": {
    "id": "caaef030"
   },
   "outputs": [],
   "source": [
    "# 1. 모델을 evaluation mode로 설정\n",
    "loaded_model.eval() \n",
    "\n",
    "# 2. inference mode 세팅\n",
    "with torch.inference_mode():\n",
    "    loaded_model_preds = loaded_model(X_test)"
   ]
  },
  {
   "cell_type": "code",
   "execution_count": null,
   "id": "fd75cb95",
   "metadata": {
    "id": "fd75cb95",
    "outputId": "52b1f2be-f1bc-4341-b696-1c4bf40bc15e"
   },
   "outputs": [
    {
     "data": {
      "text/plain": [
       "0.0003893698158208281"
      ]
     },
     "execution_count": 113,
     "metadata": {},
     "output_type": "execute_result"
    }
   ],
   "source": [
    "cost = loss_fn(loaded_model_preds, y_test.type(torch.float)) # y_test 역시도 동일한 type으로 type-casting\n",
    "\n",
    "cost.item() # Test MSE"
   ]
  },
  {
   "cell_type": "code",
   "execution_count": null,
   "id": "61455b6d",
   "metadata": {
    "id": "61455b6d",
    "outputId": "190a8662-e37d-4ed0-eb48-5834a00332f4"
   },
   "outputs": [
    {
     "data": {
      "text/plain": [
       "tensor([[True],\n",
       "        [True],\n",
       "        [True],\n",
       "        [True],\n",
       "        [True],\n",
       "        [True],\n",
       "        [True],\n",
       "        [True],\n",
       "        [True],\n",
       "        [True],\n",
       "        [True],\n",
       "        [True],\n",
       "        [True],\n",
       "        [True],\n",
       "        [True]])"
      ]
     },
     "execution_count": 114,
     "metadata": {},
     "output_type": "execute_result"
    }
   ],
   "source": [
    "y_predicted == loaded_model_preds"
   ]
  },
  {
   "cell_type": "markdown",
   "id": "48d7f7e0",
   "metadata": {
    "id": "48d7f7e0"
   },
   "source": [
    "<br>\n",
    "<br>\n",
    "\n",
    "# (Appendix 2) Using GPUs\n",
    "<br>\n",
    "\n",
    "### Colab (GPU로 런타임 변경 필요) 혹은 Nvidia GPU가 있는 로컬환경에서 실행해주세요. \n",
    "#### (PyTorch installation guide @ https://pytorch.org/get-started/locally/)"
   ]
  },
  {
   "cell_type": "code",
   "execution_count": 58,
   "id": "70648cbe",
   "metadata": {
    "colab": {
     "base_uri": "https://localhost:8080/",
     "height": 35
    },
    "id": "70648cbe",
    "outputId": "5d1332c6-6219-4a5e-c7e0-b04ee5bddb36"
   },
   "outputs": [
    {
     "data": {
      "text/plain": [
       "'2.4.0'"
      ]
     },
     "execution_count": 58,
     "metadata": {},
     "output_type": "execute_result"
    }
   ],
   "source": [
    "import torch\n",
    "from torch import nn\n",
    "import matplotlib.pyplot as plt\n",
    "from sklearn.model_selection import train_test_split\n",
    "\n",
    "torch.__version__"
   ]
  },
  {
   "cell_type": "code",
   "execution_count": 59,
   "id": "42f61d24",
   "metadata": {
    "id": "42f61d24"
   },
   "outputs": [],
   "source": [
    "X = torch.arange(0, 1, 0.02).reshape(-1, 1)\n",
    "\n",
    "weight = 0.7 # <- 모델이 Gradient descent로 찾아낼 parameter \n",
    "bias = 0.3 # <- 모델이 Gradient descent로 찾아낼 parameter \n",
    "\n",
    "y = weight * X + bias\n",
    "\n",
    "\n",
    "X_train, X_test, y_train, y_test = train_test_split(X, \n",
    "                                                    y, \n",
    "                                                    test_size=0.3, \n",
    "                                                    random_state=42) "
   ]
  },
  {
   "cell_type": "code",
   "execution_count": 60,
   "id": "7fe7358c",
   "metadata": {
    "id": "7fe7358c"
   },
   "outputs": [],
   "source": [
    "class LinearRegressionModel(nn.Module):\n",
    "    \n",
    "    \n",
    "    def __init__(self):\n",
    "        \n",
    "        super().__init__()\n",
    "        \n",
    "        self.linear_layer = nn.Linear(in_features=1, out_features=1) # \"Linear\" model (y = ax + b)\n",
    "        # self.weights = nn.Parameter(torch.randn(1, requires_grad=True, dtype=torch.float))\n",
    "        # self.bias = nn.Parameter(torch.randn(1, requires_grad=True, dtype=torch.float))\n",
    "        \n",
    "        \n",
    "    def forward(self, x): # 순방향 전파 (Forward pass)\n",
    "        \n",
    "        return self.linear_layer(x) # y = ax + b\n",
    "        # return self.weights * x + self.bias # y = ax + b"
   ]
  },
  {
   "cell_type": "code",
   "execution_count": 61,
   "id": "dee329fd",
   "metadata": {
    "id": "dee329fd"
   },
   "outputs": [],
   "source": [
    "torch.manual_seed(42) # for [ nn.Parameter ]\n",
    "\n",
    "model = LinearRegressionModel() # 모델 초기화 \n",
    "\n",
    "loss_fn = nn.MSELoss() # Mean squared error\n",
    "\n",
    "optimizer = torch.optim.Adam(params=model.parameters(), # \"parameters\" to optimize (apply gradient descent)\n",
    "                             lr=0.01) # learning rate "
   ]
  },
  {
   "cell_type": "code",
   "execution_count": 62,
   "id": "2ecc9e3d",
   "metadata": {
    "colab": {
     "base_uri": "https://localhost:8080/"
    },
    "id": "2ecc9e3d",
    "outputId": "228a6d8d-5583-42d3-954c-1e0497249bc3"
   },
   "outputs": [
    {
     "name": "stdout",
     "output_type": "stream",
     "text": [
      "Using device :  cpu\n"
     ]
    },
    {
     "data": {
      "text/plain": [
       "LinearRegressionModel(\n",
       "  (linear_layer): Linear(in_features=1, out_features=1, bias=True)\n",
       ")"
      ]
     },
     "execution_count": 62,
     "metadata": {},
     "output_type": "execute_result"
    }
   ],
   "source": [
    "# Put the model & parameters on GPU\n",
    "\n",
    "device = \"cuda\" if torch.cuda.is_available() else \"cpu\" # 사용 가능하다면 (If available)\n",
    "print(\"Using device : \", device)\n",
    "\n",
    "model.to(device) # 모델을 device\"로\""
   ]
  },
  {
   "cell_type": "code",
   "execution_count": 63,
   "id": "c1543bfd",
   "metadata": {
    "colab": {
     "base_uri": "https://localhost:8080/"
    },
    "id": "c1543bfd",
    "outputId": "73218a71-01ae-4405-f64a-e1ed3005a76f"
   },
   "outputs": [
    {
     "name": "stdout",
     "output_type": "stream",
     "text": [
      "Epoch: 0 | Train MSE : 0.31617864966392517 | Test MSE : 0.2983948886394501\n",
      "Epoch: 10 | Train MSE : 0.1715792715549469 | Test MSE : 0.1605445295572281\n",
      "Epoch: 20 | Train MSE : 0.0778036117553711 | Test MSE : 0.07226549834012985\n",
      "Epoch: 30 | Train MSE : 0.029186179861426353 | Test MSE : 0.027156438678503036\n",
      "Epoch: 40 | Train MSE : 0.011117120273411274 | Test MSE : 0.010560511611402035\n",
      "Epoch: 50 | Train MSE : 0.007230356801301241 | Test MSE : 0.006867787800729275\n",
      "Epoch: 60 | Train MSE : 0.006859943270683289 | Test MSE : 0.006348811089992523\n",
      "Epoch: 70 | Train MSE : 0.00636050570756197 | Test MSE : 0.005827686283737421\n",
      "Epoch: 80 | Train MSE : 0.0056063211522996426 | Test MSE : 0.0051825023256242275\n",
      "Epoch: 90 | Train MSE : 0.004944991786032915 | Test MSE : 0.004639407154172659\n"
     ]
    }
   ],
   "source": [
    "# 모델을 GPU 위에 올려서 활용할 경우 데이터도 GPU 위에 올려줘야 합니다.\n",
    "\n",
    "X_train = X_train.to(device) # 데이터를 device\"로\"\n",
    "X_test = X_test.to(device)\n",
    "y_train = y_train.to(device)\n",
    "y_test = y_test.to(device)\n",
    "\n",
    "\n",
    "for epoch in range(100): # epochs == 100\n",
    "\n",
    "    # 모델을 training mode로 설정\n",
    "    model.train() \n",
    "    \n",
    "    y_predicted = model(X_train) # (x 데이터를 모델에 넣고) 순방향 전파\n",
    "    \n",
    "    train_loss = loss_fn(y_predicted, y_train) # Training cost 계산\n",
    "    \n",
    "    optimizer.zero_grad() # grad 값을 0으로 초기화\n",
    "    \n",
    "    train_loss.backward() # 에러를 뒤쪽(backward)으로 전파(propagation)\n",
    "    \n",
    "    optimizer.step() # Gradient descent \"step\"\n",
    "    \n",
    "    \n",
    "    # 모델을 evaluation mode로 설정\n",
    "    model.eval()\n",
    "\n",
    "    with torch.inference_mode():\n",
    "        \n",
    "        y_predicted = model(X_test) \n",
    "        \n",
    "        test_loss = loss_fn(y_predicted, y_test.type(torch.float)) \n",
    "        \n",
    "        if epoch % 10 == 0:\n",
    "            print(f\"Epoch: {epoch} | Train MSE : {train_loss} | Test MSE : {test_loss}\")"
   ]
  },
  {
   "cell_type": "code",
   "execution_count": 65,
   "id": "b1840f07",
   "metadata": {
    "colab": {
     "base_uri": "https://localhost:8080/"
    },
    "id": "b1840f07",
    "outputId": "f0b99610-f024-42ec-ab4c-f8a9fef01534"
   },
   "outputs": [
    {
     "data": {
      "text/plain": [
       "0.0042188214138150215"
      ]
     },
     "execution_count": 65,
     "metadata": {},
     "output_type": "execute_result"
    }
   ],
   "source": [
    "model.eval()\n",
    "\n",
    "with torch.inference_mode():\n",
    "    \n",
    "    y_predicted = model(X_test)\n",
    "    \n",
    "cost = loss_fn(y_predicted, y_test.type(torch.float))\n",
    "\n",
    "cost.item() # CPU & GPU 차이로 인해 결과 상 근소한 차이가 발생 (seed를 세팅하여도 발생하는 차이)"
   ]
  },
  {
   "cell_type": "code",
   "execution_count": null,
   "id": "H3wd7VjwjC6n",
   "metadata": {
    "id": "H3wd7VjwjC6n"
   },
   "outputs": [],
   "source": []
  }
 ],
 "metadata": {
  "accelerator": "GPU",
  "colab": {
   "collapsed_sections": [
    "2e93124d",
    "a088ee2d",
    "77fbbf19",
    "7442e02a",
    "ead7b818",
    "c3e448db"
   ],
   "provenance": []
  },
  "gpuClass": "standard",
  "kernelspec": {
   "display_name": "Python 3",
   "language": "python",
   "name": "python3"
  },
  "language_info": {
   "codemirror_mode": {
    "name": "ipython",
    "version": 3
   },
   "file_extension": ".py",
   "mimetype": "text/x-python",
   "name": "python",
   "nbconvert_exporter": "python",
   "pygments_lexer": "ipython3",
   "version": "3.12.4"
  }
 },
 "nbformat": 4,
 "nbformat_minor": 5
}
