{
 "cells": [
  {
   "cell_type": "code",
   "execution_count": 22,
   "id": "9690cf1a",
   "metadata": {},
   "outputs": [
    {
     "data": {
      "text/plain": [
       "'1.10.2'"
      ]
     },
     "execution_count": 22,
     "metadata": {},
     "output_type": "execute_result"
    }
   ],
   "source": [
    "import pandas as pd\n",
    "import numpy as np\n",
    "import matplotlib.pyplot as plt\n",
    "\n",
    "from sklearn import model_selection # Scikit-learn (sklearn)\n",
    "\n",
    "import torch\n",
    "from torch import nn # PyTorch's building blocks for neural networks\n",
    "from torchmetrics import Accuracy\n",
    "\n",
    "torch.__version__"
   ]
  },
  {
   "cell_type": "markdown",
   "id": "42214b2c",
   "metadata": {},
   "source": [
    "<br>\n",
    "\n",
    "## 1. Data loading & preprocessing"
   ]
  },
  {
   "cell_type": "code",
   "execution_count": 2,
   "id": "bea09605",
   "metadata": {},
   "outputs": [
    {
     "data": {
      "text/html": [
       "<div>\n",
       "<style scoped>\n",
       "    .dataframe tbody tr th:only-of-type {\n",
       "        vertical-align: middle;\n",
       "    }\n",
       "\n",
       "    .dataframe tbody tr th {\n",
       "        vertical-align: top;\n",
       "    }\n",
       "\n",
       "    .dataframe thead th {\n",
       "        text-align: right;\n",
       "    }\n",
       "</style>\n",
       "<table border=\"1\" class=\"dataframe\">\n",
       "  <thead>\n",
       "    <tr style=\"text-align: right;\">\n",
       "      <th></th>\n",
       "      <th>PassengerId</th>\n",
       "      <th>Survived</th>\n",
       "      <th>Pclass</th>\n",
       "      <th>Name</th>\n",
       "      <th>Sex</th>\n",
       "      <th>Age</th>\n",
       "      <th>SibSp</th>\n",
       "      <th>Parch</th>\n",
       "      <th>Ticket</th>\n",
       "      <th>Fare</th>\n",
       "      <th>Cabin</th>\n",
       "      <th>Embarked</th>\n",
       "    </tr>\n",
       "  </thead>\n",
       "  <tbody>\n",
       "    <tr>\n",
       "      <th>0</th>\n",
       "      <td>1</td>\n",
       "      <td>0</td>\n",
       "      <td>3</td>\n",
       "      <td>Braund, Mr. Owen Harris</td>\n",
       "      <td>male</td>\n",
       "      <td>22.0</td>\n",
       "      <td>1</td>\n",
       "      <td>0</td>\n",
       "      <td>A/5 21171</td>\n",
       "      <td>7.2500</td>\n",
       "      <td>NaN</td>\n",
       "      <td>S</td>\n",
       "    </tr>\n",
       "    <tr>\n",
       "      <th>1</th>\n",
       "      <td>2</td>\n",
       "      <td>1</td>\n",
       "      <td>1</td>\n",
       "      <td>Cumings, Mrs. John Bradley (Florence Briggs Th...</td>\n",
       "      <td>female</td>\n",
       "      <td>38.0</td>\n",
       "      <td>1</td>\n",
       "      <td>0</td>\n",
       "      <td>PC 17599</td>\n",
       "      <td>71.2833</td>\n",
       "      <td>C85</td>\n",
       "      <td>C</td>\n",
       "    </tr>\n",
       "    <tr>\n",
       "      <th>2</th>\n",
       "      <td>3</td>\n",
       "      <td>1</td>\n",
       "      <td>3</td>\n",
       "      <td>Heikkinen, Miss. Laina</td>\n",
       "      <td>female</td>\n",
       "      <td>26.0</td>\n",
       "      <td>0</td>\n",
       "      <td>0</td>\n",
       "      <td>STON/O2. 3101282</td>\n",
       "      <td>7.9250</td>\n",
       "      <td>NaN</td>\n",
       "      <td>S</td>\n",
       "    </tr>\n",
       "  </tbody>\n",
       "</table>\n",
       "</div>"
      ],
      "text/plain": [
       "   PassengerId  Survived  Pclass  \\\n",
       "0            1         0       3   \n",
       "1            2         1       1   \n",
       "2            3         1       3   \n",
       "\n",
       "                                                Name     Sex   Age  SibSp  \\\n",
       "0                            Braund, Mr. Owen Harris    male  22.0      1   \n",
       "1  Cumings, Mrs. John Bradley (Florence Briggs Th...  female  38.0      1   \n",
       "2                             Heikkinen, Miss. Laina  female  26.0      0   \n",
       "\n",
       "   Parch            Ticket     Fare Cabin Embarked  \n",
       "0      0         A/5 21171   7.2500   NaN        S  \n",
       "1      0          PC 17599  71.2833   C85        C  \n",
       "2      0  STON/O2. 3101282   7.9250   NaN        S  "
      ]
     },
     "execution_count": 2,
     "metadata": {},
     "output_type": "execute_result"
    }
   ],
   "source": [
    "titanic_df = pd.read_csv(\"titanic.csv\")\n",
    "titanic_df.head(3)"
   ]
  },
  {
   "cell_type": "code",
   "execution_count": 3,
   "id": "aab9e963",
   "metadata": {},
   "outputs": [
    {
     "data": {
      "text/html": [
       "<div>\n",
       "<style scoped>\n",
       "    .dataframe tbody tr th:only-of-type {\n",
       "        vertical-align: middle;\n",
       "    }\n",
       "\n",
       "    .dataframe tbody tr th {\n",
       "        vertical-align: top;\n",
       "    }\n",
       "\n",
       "    .dataframe thead th {\n",
       "        text-align: right;\n",
       "    }\n",
       "</style>\n",
       "<table border=\"1\" class=\"dataframe\">\n",
       "  <thead>\n",
       "    <tr style=\"text-align: right;\">\n",
       "      <th></th>\n",
       "      <th>Survived</th>\n",
       "      <th>Pclass</th>\n",
       "      <th>Sex</th>\n",
       "      <th>Age</th>\n",
       "      <th>Fare</th>\n",
       "      <th>Embarked</th>\n",
       "      <th>Title</th>\n",
       "      <th>FamilySize</th>\n",
       "      <th>isAlone</th>\n",
       "    </tr>\n",
       "  </thead>\n",
       "  <tbody>\n",
       "    <tr>\n",
       "      <th>0</th>\n",
       "      <td>0</td>\n",
       "      <td>3</td>\n",
       "      <td>0</td>\n",
       "      <td>1.0</td>\n",
       "      <td>0.0</td>\n",
       "      <td>0</td>\n",
       "      <td>3</td>\n",
       "      <td>0.4</td>\n",
       "      <td>0</td>\n",
       "    </tr>\n",
       "    <tr>\n",
       "      <th>1</th>\n",
       "      <td>1</td>\n",
       "      <td>1</td>\n",
       "      <td>1</td>\n",
       "      <td>2.0</td>\n",
       "      <td>0.0</td>\n",
       "      <td>2</td>\n",
       "      <td>4</td>\n",
       "      <td>0.4</td>\n",
       "      <td>0</td>\n",
       "    </tr>\n",
       "    <tr>\n",
       "      <th>2</th>\n",
       "      <td>1</td>\n",
       "      <td>3</td>\n",
       "      <td>1</td>\n",
       "      <td>1.0</td>\n",
       "      <td>0.0</td>\n",
       "      <td>0</td>\n",
       "      <td>2</td>\n",
       "      <td>0.0</td>\n",
       "      <td>1</td>\n",
       "    </tr>\n",
       "  </tbody>\n",
       "</table>\n",
       "</div>"
      ],
      "text/plain": [
       "   Survived  Pclass  Sex  Age  Fare  Embarked  Title  FamilySize  isAlone\n",
       "0         0       3    0  1.0   0.0         0      3         0.4        0\n",
       "1         1       1    1  2.0   0.0         2      4         0.4        0\n",
       "2         1       3    1  1.0   0.0         0      2         0.0        1"
      ]
     },
     "execution_count": 3,
     "metadata": {},
     "output_type": "execute_result"
    }
   ],
   "source": [
    "del titanic_df['Cabin'] # 너무 많은 결측치가 존재\n",
    "del titanic_df['PassengerId'] # Passenger 번호는 큰 의미를 갖고있지 않은 일련번호\n",
    "del titanic_df['Ticket'] # ticket 번호에서 패턴이 확인되지 않음\n",
    "\n",
    "\n",
    "titanic_df['Title'] = titanic_df['Name'].str.extract('([A-Za-z]+)\\.', expand=False)\n",
    "del titanic_df['Name'] # 호칭만 남김\n",
    "\n",
    "rare_title = []\n",
    "for title in set(titanic_df['Title']):\n",
    "    if list(titanic_df['Title']).count(title) < 10:\n",
    "        rare_title.append(title)\n",
    "\n",
    "titanic_df['Title'] = titanic_df['Title'].replace('Mlle', 'Miss') # Mademoiselle\n",
    "titanic_df['Title'] = titanic_df['Title'].replace('Ms', 'Miss') \n",
    "titanic_df['Title'] = titanic_df['Title'].replace('Mme', 'Mrs') # Madame\n",
    "titanic_df['Title'] = titanic_df['Title'].replace(rare_title, 'Rare')\n",
    "\n",
    "title_mapping = {\"Master\":1, \"Miss\":2, \"Mr\":3, \"Mrs\":4, \"Rare\":5 }\n",
    "titanic_df['Title'] = titanic_df['Title'].map(title_mapping)\n",
    "titanic_df['Title'] = titanic_df['Title'].fillna(0)\n",
    "titanic_df['Title'].astype(int)\n",
    "\n",
    "\n",
    "sex_mapping = {\"male\": 0 , \"female\":1} \n",
    "titanic_df['Sex'] = titanic_df['Sex'].map(sex_mapping)\n",
    "\n",
    "\n",
    "titanic_df['Embarked'] = titanic_df['Embarked'].fillna('S')\n",
    "mapping_data ={\"S\":0, \"Q\":1, \"C\":2}\n",
    "titanic_df[\"Embarked\"] = titanic_df[\"Embarked\"].map(mapping_data)\n",
    "\n",
    "\n",
    "titanic_df.loc[ titanic_df['Fare'] <= 102, 'Fare'] = 0\n",
    "titanic_df.loc[(titanic_df['Fare'] > 102) & (titanic_df['Fare'] <= 204), 'Fare'] = 1\n",
    "titanic_df.loc[(titanic_df['Fare'] > 204) & (titanic_df['Fare'] <= 307), 'Fare'] = 2\n",
    "titanic_df.loc[ titanic_df['Fare'] > 307, 'Fare'] = 4\n",
    "\n",
    "\n",
    "titanic_df[\"FamilySize\"] = titanic_df[\"SibSp\"] + titanic_df[\"Parch\"] +1\n",
    "del titanic_df['SibSp']\n",
    "del titanic_df['Parch']\n",
    "\n",
    "titanic_df['isAlone'] = 0\n",
    "titanic_df.loc[titanic_df['FamilySize'] == 1, 'isAlone'] = 1\n",
    "\n",
    "family_mapping = {1: 0, 2: 0.4, 3: 0.8, 4: 1.2, 5: 1.6, 6: 2, 7: 2.4, 8: 2.8, 9: 3.2, 10: 3.6, 11: 4}\n",
    "titanic_df['FamilySize'] = titanic_df['FamilySize'].map(family_mapping)\n",
    "\n",
    "\n",
    "titanic_df[\"Age\"].fillna(titanic_df.groupby(\"Title\")[\"Age\"].transform(\"median\"), inplace=True)\n",
    "\n",
    "titanic_df.loc[ titanic_df['Age'] <= 16, 'Age'] = 0\n",
    "titanic_df.loc[(titanic_df['Age'] > 16) & (titanic_df['Age'] <= 32), 'Age'] = 1\n",
    "titanic_df.loc[(titanic_df['Age'] > 32) & (titanic_df['Age'] <= 48), 'Age'] = 2\n",
    "titanic_df.loc[(titanic_df['Age'] > 48) & (titanic_df['Age'] <= 64), 'Age'] = 3\n",
    "titanic_df.loc[ titanic_df['Age'] > 64, 'Age'] = 4\n",
    "\n",
    "titanic_df.head(3)"
   ]
  },
  {
   "cell_type": "markdown",
   "id": "99b9fae3",
   "metadata": {},
   "source": [
    "<br>\n",
    "\n",
    "## 2. Devide dataframe into X & Y -> Train X / Test X / Train Y / Test Y"
   ]
  },
  {
   "cell_type": "code",
   "execution_count": 4,
   "id": "86708ac5",
   "metadata": {},
   "outputs": [],
   "source": [
    "titanic_target = titanic_df[['Survived']].copy()\n",
    "titanic_data = titanic_df.copy()\n",
    "\n",
    "del titanic_data['Survived']"
   ]
  },
  {
   "cell_type": "code",
   "execution_count": 31,
   "id": "f6be165c",
   "metadata": {},
   "outputs": [],
   "source": [
    "X = torch.from_numpy(np.array(titanic_data)).type(torch.float)\n",
    "y = torch.from_numpy(np.array(titanic_target)).type(torch.LongTensor) # IntTensor == Int32 vs LongTensor == Int64\n",
    "\n",
    "y = y.reshape(-1) # PyTorch 기반 classification에서는 label을 1차원 배열 형태로 준비"
   ]
  },
  {
   "cell_type": "code",
   "execution_count": 32,
   "id": "d81ad1fe",
   "metadata": {},
   "outputs": [
    {
     "name": "stdout",
     "output_type": "stream",
     "text": [
      "torch.Size([623, 8])\n",
      "torch.Size([268, 8])\n",
      "torch.Size([623])\n",
      "torch.Size([268])\n"
     ]
    }
   ],
   "source": [
    "train_data, test_data, train_label, test_label = model_selection.train_test_split(X, y,\n",
    "                                                                                 test_size=0.3,\n",
    "                                                                                 random_state=0)\n",
    "print(train_data.shape)\n",
    "print(test_data.shape)\n",
    "print(train_label.shape)\n",
    "print(test_label.shape)"
   ]
  },
  {
   "cell_type": "markdown",
   "id": "0f82f65e",
   "metadata": {},
   "source": [
    "<br>\n",
    "\n",
    "## 3. Build & Train the model "
   ]
  },
  {
   "cell_type": "markdown",
   "id": "206edcb8",
   "metadata": {},
   "source": [
    "<br>\n",
    "<br>\n",
    "\n",
    "### 1) Build the model"
   ]
  },
  {
   "cell_type": "code",
   "execution_count": 10,
   "id": "e5b754e3",
   "metadata": {},
   "outputs": [],
   "source": [
    "device = \"cuda\" if torch.cuda.is_available() else \"cpu\"\n",
    "\n",
    "device"
   ]
  },
  {
   "cell_type": "code",
   "execution_count": 60,
   "id": "9c8f18ec",
   "metadata": {},
   "outputs": [],
   "source": [
    "class MLP_Classifier(nn.Module):\n",
    "    \n",
    "    \n",
    "    def __init__(self, num_features, num_classes, num_nodes=256):\n",
    "        \n",
    "        super().__init__()\n",
    "        \n",
    "        self.sequential_stack = nn.Sequential(\n",
    "            nn.Linear(in_features=num_features, out_features=num_nodes),\n",
    "            # nn.BatchNorm1d(num_nodes),\n",
    "            nn.ELU(),\n",
    "            nn.Linear(in_features=num_nodes, out_features=num_nodes * 2),\n",
    "            nn.ELU(), \n",
    "            nn.Linear(in_features=num_nodes * 2, out_features=num_nodes * 2),\n",
    "            nn.ELU(), \n",
    "            nn.Linear(in_features=num_nodes * 2, out_features=num_nodes),\n",
    "            nn.ELU(), \n",
    "            nn.Dropout(0.5),\n",
    "            nn.Linear(in_features=num_nodes, out_features=num_classes),\n",
    "            # We don't need to use nn.Softmax() (check the following source codes)\n",
    "        )\n",
    "    \n",
    "    def forward(self, x):\n",
    "        \n",
    "        return self.sequential_stack(x)"
   ]
  },
  {
   "cell_type": "markdown",
   "id": "0deed982",
   "metadata": {},
   "source": [
    "<br>\n",
    "<br>\n",
    "\n",
    "### 2) Check the model"
   ]
  },
  {
   "cell_type": "code",
   "execution_count": 61,
   "id": "d10526af",
   "metadata": {},
   "outputs": [],
   "source": [
    "torch.manual_seed(42) # \"Manually\" set the \"seed\" for [ nn.Parameter ]\n",
    "\n",
    "model = MLP_Classifier(num_features=8, \n",
    "                       num_classes=2, \n",
    "                       num_nodes=256).to(device)"
   ]
  },
  {
   "cell_type": "code",
   "execution_count": 62,
   "id": "240c3d0b",
   "metadata": {},
   "outputs": [
    {
     "name": "stdout",
     "output_type": "stream",
     "text": [
      "tensor([[ 0.0386, -0.1033],\n",
      "        [ 0.0287, -0.1151],\n",
      "        [ 0.0279, -0.0357],\n",
      "        [ 0.0051, -0.1376],\n",
      "        [ 0.0441, -0.1176],\n",
      "        [ 0.0258, -0.1491],\n",
      "        [-0.0019, -0.1038],\n",
      "        [-0.0241, -0.0874],\n",
      "        [ 0.0134, -0.1174],\n",
      "        [ 0.0624, -0.1300]])\n"
     ]
    }
   ],
   "source": [
    "model.eval()\n",
    "\n",
    "with torch.inference_mode(): \n",
    "    \n",
    "    untrained_logits = model(test_data.to(device)) # 모델 & 데이터는 동일한 디바이스 위에 위치해있어야 함\n",
    "    \n",
    "print(untrained_logits[:10])"
   ]
  },
  {
   "cell_type": "markdown",
   "id": "1960c377",
   "metadata": {},
   "source": [
    "<br>\n",
    "<br>\n",
    "\n",
    "### 3) Train the model"
   ]
  },
  {
   "cell_type": "code",
   "execution_count": 63,
   "id": "e289f898",
   "metadata": {},
   "outputs": [],
   "source": [
    "torch.manual_seed(42) # \"Manually\" set the \"seed\" for [ nn.Parameter ]\n",
    "\n",
    "model = MLP_Classifier(num_features=8, \n",
    "                       num_classes=2, \n",
    "                       num_nodes=256).to(device)"
   ]
  },
  {
   "cell_type": "code",
   "execution_count": 64,
   "id": "1a5892a9",
   "metadata": {},
   "outputs": [],
   "source": [
    "loss_fn = nn.CrossEntropyLoss() # Softmax + CrossEntropy\n",
    "# loss_fn = nn.BCEWithLogitsLoss() # Binary Cross-entropy + built-in Sigmoid (accepting \"logits\")\n",
    "\n",
    "optimizer = torch.optim.Adam(params=model.parameters(),  # \"parameters\" to optimize (apply gradient descent)\n",
    "                             lr=0.001) # \"l\"earning \"r\"ate \n",
    "\n",
    "metric_accuracy = Accuracy().to(device)"
   ]
  },
  {
   "cell_type": "code",
   "execution_count": 65,
   "id": "97d8acea",
   "metadata": {},
   "outputs": [
    {
     "name": "stdout",
     "output_type": "stream",
     "text": [
      "Epoch: 0 | Loss: 0.67967, Acc: 0.61% | Test loss: 0.78830, Test acc: 0.63%\n",
      "Epoch: 1 | Loss: 0.82692, Acc: 0.61% | Test loss: 0.59005, Test acc: 0.69%\n",
      "Epoch: 2 | Loss: 0.60194, Acc: 0.68% | Test loss: 0.69342, Test acc: 0.37%\n",
      "Epoch: 3 | Loss: 0.68035, Acc: 0.49% | Test loss: 0.60847, Test acc: 0.71%\n",
      "Epoch: 4 | Loss: 0.60183, Acc: 0.74% | Test loss: 0.54041, Test acc: 0.73%\n",
      "Epoch: 5 | Loss: 0.55121, Acc: 0.72% | Test loss: 0.54615, Test acc: 0.71%\n",
      "Epoch: 6 | Loss: 0.57740, Acc: 0.68% | Test loss: 0.52634, Test acc: 0.73%\n",
      "Epoch: 7 | Loss: 0.54974, Acc: 0.71% | Test loss: 0.49027, Test acc: 0.78%\n",
      "Epoch: 8 | Loss: 0.50701, Acc: 0.75% | Test loss: 0.50418, Test acc: 0.75%\n",
      "Epoch: 9 | Loss: 0.49924, Acc: 0.78% | Test loss: 0.52629, Test acc: 0.75%\n",
      "Epoch: 10 | Loss: 0.51278, Acc: 0.76% | Test loss: 0.48383, Test acc: 0.75%\n",
      "Epoch: 11 | Loss: 0.48201, Acc: 0.78% | Test loss: 0.45026, Test acc: 0.78%\n",
      "Epoch: 12 | Loss: 0.46866, Acc: 0.80% | Test loss: 0.45369, Test acc: 0.81%\n",
      "Epoch: 13 | Loss: 0.48205, Acc: 0.80% | Test loss: 0.44787, Test acc: 0.79%\n",
      "Epoch: 14 | Loss: 0.47025, Acc: 0.81% | Test loss: 0.44825, Test acc: 0.80%\n",
      "Epoch: 15 | Loss: 0.45649, Acc: 0.79% | Test loss: 0.47256, Test acc: 0.78%\n",
      "Epoch: 16 | Loss: 0.46327, Acc: 0.78% | Test loss: 0.47590, Test acc: 0.79%\n",
      "Epoch: 17 | Loss: 0.46493, Acc: 0.78% | Test loss: 0.45203, Test acc: 0.80%\n",
      "Epoch: 18 | Loss: 0.45212, Acc: 0.79% | Test loss: 0.44088, Test acc: 0.80%\n",
      "Epoch: 19 | Loss: 0.45102, Acc: 0.80% | Test loss: 0.44235, Test acc: 0.80%\n"
     ]
    }
   ],
   "source": [
    "torch.manual_seed(42)\n",
    "\n",
    "\n",
    "train_data, train_label = train_data.to(device), train_label.to(device)\n",
    "test_data, test_label   = test_data.to(device), test_label.to(device)\n",
    " \n",
    "    \n",
    "loss_train_list = []\n",
    "loss_test_list = []\n",
    "acc_train_list = []\n",
    "acc_test_list = []\n",
    "\n",
    "for epoch in range(20):\n",
    "    \n",
    "    # 모델을 training mode로 설정 (default state)\n",
    "    model.train()\n",
    "\n",
    "    # 1. (x 데이터를 모델에 넣고) 순방향 계산 진행 (forward pass)\n",
    "    logits = model(train_data)\n",
    "    y_predicted = torch.softmax(logits, dim=1).argmax(dim=1) # logits -> predicted probabilities -> predicted class numbers\n",
    "\n",
    "    # 2. Training cost 계산 (Cost function 계산)\n",
    "    loss_train = loss_fn(logits, train_label) # <- nn.CrossEntropyLoss() : built-in Softmax\n",
    "    loss_train_list.append(loss_train.item())\n",
    "    \n",
    "    # 3. Optimizer 내부의 이전 gradient 값 초기화 (Make \"grad\" to \"zero\")\n",
    "    optimizer.zero_grad()\n",
    "\n",
    "    # 4. Back-propagation (\"Backward\" propagation)\n",
    "    loss_train.backward()\n",
    "\n",
    "    # 5. Gradient descent 진행 (Take a \"step\" to update parameters)\n",
    "    optimizer.step()\n",
    "\n",
    "    \n",
    "    # 모델을 evaluation mode로 설정\n",
    "    model.eval()\n",
    "    \n",
    "    with torch.inference_mode(): # Set \"inference mode\"\n",
    "        \n",
    "        # (x 데이터를 모델에 넣고) 순방향 계산 진행 (forward pass)\n",
    "        logits_test = model(test_data)\n",
    "        y_predicted_test = torch.softmax(logits_test, dim=1).argmax(dim=1)\n",
    "        \n",
    "        # Test cost 계산\n",
    "        loss_test = loss_fn(logits_test, test_label)\n",
    "        loss_test_list.append(loss_test.item())\n",
    "        \n",
    "\n",
    "    acc_train = metric_accuracy(y_predicted, train_label) \n",
    "    acc_train_list.append(acc_train.item())\n",
    "    \n",
    "    acc_test  = metric_accuracy(y_predicted_test, test_label)\n",
    "    acc_test_list.append(acc_test.item())\n",
    "    \n",
    "    print(f\"Epoch: {epoch} | Loss: {loss_train:.5f}, Acc: {acc_train:.2f}% | Test loss: {loss_test:.5f}, Test acc: {acc_test:.2f}%\")"
   ]
  },
  {
   "cell_type": "markdown",
   "id": "9e3f5a48",
   "metadata": {},
   "source": [
    "<br>\n",
    "\n",
    "## 4. Test the model "
   ]
  },
  {
   "cell_type": "code",
   "execution_count": 66,
   "id": "6a3b1c27",
   "metadata": {},
   "outputs": [
    {
     "name": "stdout",
     "output_type": "stream",
     "text": [
      "Test accuracy : 0.8022388219833374 %\n"
     ]
    }
   ],
   "source": [
    "# 1. 모델을 evaluation mode로 설정\n",
    "model.eval()\n",
    "\n",
    "# 2. inference mode 세팅\n",
    "with torch.inference_mode():\n",
    "    \n",
    "    # 3. 모델과 데이터는 동일한 디바이스 위에 있어야 함 (GPU or CPU)\n",
    "    logits = model(test_data.to(device))\n",
    "    y_predicted = torch.softmax(logits, dim=1).argmax(dim=1) #  logits -> predicted probs -> predicted class nums\n",
    "\n",
    "acc_test = metric_accuracy(y_predicted, test_label.to(device)) \n",
    "\n",
    "print('Test accuracy : {} %'.format(acc_test))"
   ]
  },
  {
   "cell_type": "code",
   "execution_count": 67,
   "id": "e55e6c01",
   "metadata": {},
   "outputs": [
    {
     "data": {
      "image/png": "[encoded data removed]",
      "text/plain": [
       "<Figure size 1500x750 with 1 Axes>"
      ]
     },
     "metadata": {
      "needs_background": "light"
     },
     "output_type": "display_data"
    }
   ],
   "source": [
    "epochs = np.arange(len(loss_train_list))\n",
    "\n",
    "plt.figure(figsize=(10, 5), dpi=150)\n",
    "\n",
    "plt.plot(epochs, acc_train_list, marker='.', c='blue', label=\"Train-set Acc.\")\n",
    "plt.plot(epochs, acc_test_list, marker='.', c='red', label=\"Test-set Acc.\")\n",
    "\n",
    "plt.legend(loc='lower right')\n",
    "plt.grid()\n",
    "plt.xlabel('epoch')\n",
    "plt.ylabel('Accuracy')\n",
    "plt.show()"
   ]
  },
  {
   "cell_type": "code",
   "execution_count": 68,
   "id": "59136ced",
   "metadata": {},
   "outputs": [
    {
     "data": {
      "image/png": "[encoded data removed]",
      "text/plain": [
       "<Figure size 1500x750 with 1 Axes>"
      ]
     },
     "metadata": {
      "needs_background": "light"
     },
     "output_type": "display_data"
    }
   ],
   "source": [
    "epochs = np.arange(len(loss_train_list))\n",
    "\n",
    "plt.figure(figsize=(10, 5), dpi=150)\n",
    "\n",
    "plt.plot(epochs, loss_train_list, marker='.', c='blue', label=\"Train-set Loss.\")\n",
    "plt.plot(epochs, loss_test_list, marker='.', c='red', label=\"Test-set Loss.\")\n",
    "\n",
    "plt.legend(loc='upper right')\n",
    "plt.grid()\n",
    "plt.xlabel('epoch')\n",
    "plt.ylabel('Accuracy')\n",
    "plt.show()"
   ]
  },
  {
   "cell_type": "code",
   "execution_count": 69,
   "id": "ba4d6799",
   "metadata": {},
   "outputs": [
    {
     "name": "stdout",
     "output_type": "stream",
     "text": [
      "tensor([[ 1.4539, -1.3914]])\n",
      "tensor([[0.9451, 0.0549]])\n",
      "tensor([0])\n",
      "Not survived\n"
     ]
    }
   ],
   "source": [
    "sample_data = np.array([[3, 0, 0.0, 0.0, 1, 1, 2.0, 0]])\n",
    "data_tensor = torch.from_numpy(sample_data).type(torch.float)\n",
    "\n",
    "\n",
    "# 1. 모델을 evaluation mode로 설정\n",
    "model.eval()\n",
    "\n",
    "# 2. inference mode 세팅\n",
    "with torch.inference_mode():\n",
    "    \n",
    "    # 3. 모델과 데이터는 동일한 디바이스 위에 있어야 함 (GPU or CPU)\n",
    "    logits = model(data_tensor.to(device))\n",
    "    y_probs = torch.softmax(logits, dim=1)\n",
    "    y_predicted = torch.softmax(logits, dim=1).argmax(dim=1) #  logits -> predicted probs -> predicted class nums\n",
    "\n",
    "\n",
    "print(logits)\n",
    "print(y_probs)\n",
    "print(y_predicted)\n",
    "print(['Not survived', 'Survived'][y_predicted])"
   ]
  },
  {
   "cell_type": "markdown",
   "id": "2996e433",
   "metadata": {},
   "source": [
    "<br>\n",
    "\n",
    "## 5. Save the model "
   ]
  },
  {
   "cell_type": "markdown",
   "id": "003df45e",
   "metadata": {},
   "source": [
    "<br>\n",
    "\n",
    "#### * 모델을 통째로 저장하고 불러오는 것도 가능 @ https://pytorch.org/tutorials/beginner/saving_loading_models.html\n",
    "\n",
    "#### -> **torch.save(model, PATH)** & **model = torch.load(PATH)**"
   ]
  },
  {
   "cell_type": "code",
   "execution_count": 70,
   "id": "5e4909e8",
   "metadata": {},
   "outputs": [],
   "source": [
    "# Shorter version\n",
    "\n",
    "torch.save(obj=model.state_dict(), # only parameters\n",
    "           f='models/usethis_classifier.pth')"
   ]
  },
  {
   "cell_type": "code",
   "execution_count": 55,
   "id": "9e53616c",
   "metadata": {},
   "outputs": [],
   "source": [
    "# # Longer version (디렉토리부터 생성)\n",
    "\n",
    "\n",
    "# # 1. 모델 파라미터 파일 저장을 위한 디렉토리 생성 (os.mkdir 함수로 대체하여 사용 가능)\n",
    "\n",
    "# from pathlib import Path\n",
    "# MODEL_PATH = Path(\"models\")\n",
    "# MODEL_PATH.mkdir(parents=True, exist_ok=True)\n",
    "# # parents=True : any missing parents of this path are created as needed.\n",
    "# # exist_ok=True : FileExistsError exceptions will be ignored.\n",
    "\n",
    "\n",
    "# # 2. 모델 파라미터 저장경로 지정 \n",
    "\n",
    "# MODEL_NAME = \"usethis_classifier.pth\" # common convention for PyTorch saved models or objects : .pt or .pth\n",
    "# MODEL_SAVE_PATH = MODEL_PATH / MODEL_NAME # WindowsPath('models/usethis_classifier.pth')\n",
    "\n",
    "\n",
    "# # 3. 모델 파라미터 저장\n",
    "\n",
    "# print('Saving model to :', MODEL_SAVE_PATH)\n",
    "\n",
    "# torch.save(obj=model.state_dict(), # only parameters\n",
    "#            f=MODEL_SAVE_PATH)"
   ]
  },
  {
   "cell_type": "code",
   "execution_count": 71,
   "id": "baf46930",
   "metadata": {},
   "outputs": [
    {
     "data": {
      "text/plain": [
       "MLP_Classifier(\n",
       "  (sequential_stack): Sequential(\n",
       "    (0): Linear(in_features=8, out_features=256, bias=True)\n",
       "    (1): ELU(alpha=1.0)\n",
       "    (2): Linear(in_features=256, out_features=512, bias=True)\n",
       "    (3): ELU(alpha=1.0)\n",
       "    (4): Linear(in_features=512, out_features=512, bias=True)\n",
       "    (5): ELU(alpha=1.0)\n",
       "    (6): Linear(in_features=512, out_features=256, bias=True)\n",
       "    (7): ELU(alpha=1.0)\n",
       "    (8): Dropout(p=0.5, inplace=False)\n",
       "    (9): Linear(in_features=256, out_features=2, bias=True)\n",
       "  )\n",
       ")"
      ]
     },
     "execution_count": 71,
     "metadata": {},
     "output_type": "execute_result"
    }
   ],
   "source": [
    "loaded_model = MLP_Classifier(num_features=8, \n",
    "                              num_classes=2, \n",
    "                              num_nodes=256) # 모델 구조 생성 \n",
    "\n",
    "loaded_model.load_state_dict(torch.load(f='models/usethis_classifier.pth')) \n",
    "# pickle 파일을 먼저 load 후 paramter 값들을 꺼내어 모델로 load\n",
    "\n",
    "loaded_model.to(device)"
   ]
  },
  {
   "cell_type": "code",
   "execution_count": 72,
   "id": "1c56ae00",
   "metadata": {},
   "outputs": [
    {
     "name": "stdout",
     "output_type": "stream",
     "text": [
      "Test accuracy : 0.8022388219833374 %\n"
     ]
    }
   ],
   "source": [
    "# 1. 모델을 evaluation mode로 설정\n",
    "loaded_model.eval()\n",
    "\n",
    "# 2. inference mode 세팅\n",
    "with torch.inference_mode():\n",
    "    \n",
    "    # 3. 모델과 데이터는 동일한 디바이스 위에 있어야 함 (GPU or CPU)\n",
    "    logits = loaded_model(test_data.to(device))\n",
    "    y_predicted = torch.softmax(logits, dim=1).argmax(dim=1) #  logits -> predicted probs -> predicted class nums\n",
    "\n",
    "acc_test = metric_accuracy(y_predicted, test_label.to(device)) \n",
    "\n",
    "print('Test accuracy : {} %'.format(acc_test))"
   ]
  },
  {
   "cell_type": "code",
   "execution_count": null,
   "id": "0fcebe54",
   "metadata": {},
   "outputs": [],
   "source": []
  }
 ],
 "metadata": {
  "kernelspec": {
   "display_name": "Python 3",
   "language": "python",
   "name": "python3"
  },
  "language_info": {
   "codemirror_mode": {
    "name": "ipython",
    "version": 3
   },
   "file_extension": ".py",
   "mimetype": "text/x-python",
   "name": "python",
   "nbconvert_exporter": "python",
   "pygments_lexer": "ipython3",
   "version": "3.8.8"
  }
 },
 "nbformat": 4,
 "nbformat_minor": 5
}
