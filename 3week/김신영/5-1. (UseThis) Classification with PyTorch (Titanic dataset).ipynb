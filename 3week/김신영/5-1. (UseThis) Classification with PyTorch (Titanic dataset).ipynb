{
 "cells": [
  {
   "cell_type": "code",
   "execution_count": 3,
   "id": "d3bc1dc7",
   "metadata": {},
   "outputs": [
    {
     "data": {
      "text/plain": [
       "'2.4.0'"
      ]
     },
     "execution_count": 3,
     "metadata": {},
     "output_type": "execute_result"
    }
   ],
   "source": [
    "import pandas as pd\n",
    "import numpy as np\n",
    "import matplotlib.pyplot as plt\n",
    "\n",
    "from sklearn import model_selection # Scikit-learn (sklearn)\n",
    "\n",
    "import torch\n",
    "from torch import nn # PyTorch's building blocks for neural networks\n",
    "from torchmetrics import Accuracy\n",
    "\n",
    "torch.__version__"
   ]
  },
  {
   "cell_type": "markdown",
   "id": "df98fca8",
   "metadata": {},
   "source": [
    "<br>\n",
    "\n",
    "## 1. Data loading & preprocessing"
   ]
  },
  {
   "cell_type": "code",
   "execution_count": 85,
   "id": "3672eae4",
   "metadata": {},
   "outputs": [
    {
     "data": {
      "text/html": [
       "<div>\n",
       "<style scoped>\n",
       "    .dataframe tbody tr th:only-of-type {\n",
       "        vertical-align: middle;\n",
       "    }\n",
       "\n",
       "    .dataframe tbody tr th {\n",
       "        vertical-align: top;\n",
       "    }\n",
       "\n",
       "    .dataframe thead th {\n",
       "        text-align: right;\n",
       "    }\n",
       "</style>\n",
       "<table border=\"1\" class=\"dataframe\">\n",
       "  <thead>\n",
       "    <tr style=\"text-align: right;\">\n",
       "      <th></th>\n",
       "      <th>PassengerId</th>\n",
       "      <th>Survived</th>\n",
       "      <th>Pclass</th>\n",
       "      <th>Name</th>\n",
       "      <th>Sex</th>\n",
       "      <th>Age</th>\n",
       "      <th>SibSp</th>\n",
       "      <th>Parch</th>\n",
       "      <th>Ticket</th>\n",
       "      <th>Fare</th>\n",
       "      <th>Cabin</th>\n",
       "      <th>Embarked</th>\n",
       "    </tr>\n",
       "  </thead>\n",
       "  <tbody>\n",
       "    <tr>\n",
       "      <th>0</th>\n",
       "      <td>1</td>\n",
       "      <td>0</td>\n",
       "      <td>3</td>\n",
       "      <td>Braund, Mr. Owen Harris</td>\n",
       "      <td>male</td>\n",
       "      <td>22.0</td>\n",
       "      <td>1</td>\n",
       "      <td>0</td>\n",
       "      <td>A/5 21171</td>\n",
       "      <td>7.2500</td>\n",
       "      <td>NaN</td>\n",
       "      <td>S</td>\n",
       "    </tr>\n",
       "    <tr>\n",
       "      <th>1</th>\n",
       "      <td>2</td>\n",
       "      <td>1</td>\n",
       "      <td>1</td>\n",
       "      <td>Cumings, Mrs. John Bradley (Florence Briggs Th...</td>\n",
       "      <td>female</td>\n",
       "      <td>38.0</td>\n",
       "      <td>1</td>\n",
       "      <td>0</td>\n",
       "      <td>PC 17599</td>\n",
       "      <td>71.2833</td>\n",
       "      <td>C85</td>\n",
       "      <td>C</td>\n",
       "    </tr>\n",
       "    <tr>\n",
       "      <th>2</th>\n",
       "      <td>3</td>\n",
       "      <td>1</td>\n",
       "      <td>3</td>\n",
       "      <td>Heikkinen, Miss. Laina</td>\n",
       "      <td>female</td>\n",
       "      <td>26.0</td>\n",
       "      <td>0</td>\n",
       "      <td>0</td>\n",
       "      <td>STON/O2. 3101282</td>\n",
       "      <td>7.9250</td>\n",
       "      <td>NaN</td>\n",
       "      <td>S</td>\n",
       "    </tr>\n",
       "  </tbody>\n",
       "</table>\n",
       "</div>"
      ],
      "text/plain": [
       "   PassengerId  Survived  Pclass  \\\n",
       "0            1         0       3   \n",
       "1            2         1       1   \n",
       "2            3         1       3   \n",
       "\n",
       "                                                Name     Sex   Age  SibSp  \\\n",
       "0                            Braund, Mr. Owen Harris    male  22.0      1   \n",
       "1  Cumings, Mrs. John Bradley (Florence Briggs Th...  female  38.0      1   \n",
       "2                             Heikkinen, Miss. Laina  female  26.0      0   \n",
       "\n",
       "   Parch            Ticket     Fare Cabin Embarked  \n",
       "0      0         A/5 21171   7.2500   NaN        S  \n",
       "1      0          PC 17599  71.2833   C85        C  \n",
       "2      0  STON/O2. 3101282   7.9250   NaN        S  "
      ]
     },
     "execution_count": 85,
     "metadata": {},
     "output_type": "execute_result"
    }
   ],
   "source": [
    "titanic_df = pd.read_csv(\"titanic.csv\")\n",
    "titanic_df.head(3)"
   ]
  },
  {
   "cell_type": "code",
   "execution_count": 87,
   "id": "4debdaa7",
   "metadata": {},
   "outputs": [
    {
     "name": "stderr",
     "output_type": "stream",
     "text": [
      "<>:6: SyntaxWarning: invalid escape sequence '\\.'\n",
      "<>:6: SyntaxWarning: invalid escape sequence '\\.'\n",
      "/var/folders/h8/hl46jg551p96ynf4dwy9ln_80000gn/T/ipykernel_1649/1844474455.py:6: SyntaxWarning: invalid escape sequence '\\.'\n",
      "  titanic_df['Title'] = titanic_df['Name'].str.extract('([A-Za-z]+)\\.', expand=False)\n",
      "/var/folders/h8/hl46jg551p96ynf4dwy9ln_80000gn/T/ipykernel_1649/1844474455.py:51: FutureWarning: A value is trying to be set on a copy of a DataFrame or Series through chained assignment using an inplace method.\n",
      "The behavior will change in pandas 3.0. This inplace method will never work because the intermediate object on which we are setting values always behaves as a copy.\n",
      "\n",
      "For example, when doing 'df[col].method(value, inplace=True)', try using 'df.method({col: value}, inplace=True)' or df[col] = df[col].method(value) instead, to perform the operation inplace on the original object.\n",
      "\n",
      "\n",
      "  titanic_df[\"Age\"].fillna(titanic_df.groupby(\"Title\")[\"Age\"].transform(\"median\"), inplace=True)\n"
     ]
    },
    {
     "data": {
      "text/html": [
       "<div>\n",
       "<style scoped>\n",
       "    .dataframe tbody tr th:only-of-type {\n",
       "        vertical-align: middle;\n",
       "    }\n",
       "\n",
       "    .dataframe tbody tr th {\n",
       "        vertical-align: top;\n",
       "    }\n",
       "\n",
       "    .dataframe thead th {\n",
       "        text-align: right;\n",
       "    }\n",
       "</style>\n",
       "<table border=\"1\" class=\"dataframe\">\n",
       "  <thead>\n",
       "    <tr style=\"text-align: right;\">\n",
       "      <th></th>\n",
       "      <th>Survived</th>\n",
       "      <th>Pclass</th>\n",
       "      <th>Sex</th>\n",
       "      <th>Age</th>\n",
       "      <th>Fare</th>\n",
       "      <th>Embarked</th>\n",
       "      <th>Title</th>\n",
       "      <th>FamilySize</th>\n",
       "      <th>isAlone</th>\n",
       "    </tr>\n",
       "  </thead>\n",
       "  <tbody>\n",
       "    <tr>\n",
       "      <th>0</th>\n",
       "      <td>0</td>\n",
       "      <td>3</td>\n",
       "      <td>0</td>\n",
       "      <td>1.0</td>\n",
       "      <td>0.0</td>\n",
       "      <td>0</td>\n",
       "      <td>3</td>\n",
       "      <td>0.4</td>\n",
       "      <td>0</td>\n",
       "    </tr>\n",
       "    <tr>\n",
       "      <th>1</th>\n",
       "      <td>1</td>\n",
       "      <td>1</td>\n",
       "      <td>1</td>\n",
       "      <td>2.0</td>\n",
       "      <td>0.0</td>\n",
       "      <td>2</td>\n",
       "      <td>4</td>\n",
       "      <td>0.4</td>\n",
       "      <td>0</td>\n",
       "    </tr>\n",
       "    <tr>\n",
       "      <th>2</th>\n",
       "      <td>1</td>\n",
       "      <td>3</td>\n",
       "      <td>1</td>\n",
       "      <td>1.0</td>\n",
       "      <td>0.0</td>\n",
       "      <td>0</td>\n",
       "      <td>2</td>\n",
       "      <td>0.0</td>\n",
       "      <td>1</td>\n",
       "    </tr>\n",
       "  </tbody>\n",
       "</table>\n",
       "</div>"
      ],
      "text/plain": [
       "   Survived  Pclass  Sex  Age  Fare  Embarked  Title  FamilySize  isAlone\n",
       "0         0       3    0  1.0   0.0         0      3         0.4        0\n",
       "1         1       1    1  2.0   0.0         2      4         0.4        0\n",
       "2         1       3    1  1.0   0.0         0      2         0.0        1"
      ]
     },
     "execution_count": 87,
     "metadata": {},
     "output_type": "execute_result"
    }
   ],
   "source": [
    "del titanic_df['Cabin'] # 너무 많은 결측치가 존재\n",
    "del titanic_df['PassengerId'] # Passenger 번호는 큰 의미를 갖고있지 않은 일련번호\n",
    "del titanic_df['Ticket'] # ticket 번호에서 패턴이 확인되지 않음\n",
    "\n",
    "\n",
    "titanic_df['Title'] = titanic_df['Name'].str.extract('([A-Za-z]+)\\.', expand=False)\n",
    "del titanic_df['Name'] # 호칭만 남김\n",
    "\n",
    "rare_title = []\n",
    "for title in set(titanic_df['Title']):\n",
    "    if list(titanic_df['Title']).count(title) < 10:\n",
    "        rare_title.append(title)\n",
    "\n",
    "titanic_df['Title'] = titanic_df['Title'].replace('Mlle', 'Miss') # Mademoiselle\n",
    "titanic_df['Title'] = titanic_df['Title'].replace('Ms', 'Miss') \n",
    "titanic_df['Title'] = titanic_df['Title'].replace('Mme', 'Mrs') # Madame\n",
    "titanic_df['Title'] = titanic_df['Title'].replace(rare_title, 'Rare')\n",
    "\n",
    "title_mapping = {\"Master\":1, \"Miss\":2, \"Mr\":3, \"Mrs\":4, \"Rare\":5 }\n",
    "titanic_df['Title'] = titanic_df['Title'].map(title_mapping)\n",
    "titanic_df['Title'] = titanic_df['Title'].fillna(0)\n",
    "titanic_df['Title'].astype(int)\n",
    "\n",
    "\n",
    "sex_mapping = {\"male\": 0 , \"female\":1} \n",
    "titanic_df['Sex'] = titanic_df['Sex'].map(sex_mapping)\n",
    "\n",
    "\n",
    "titanic_df['Embarked'] = titanic_df['Embarked'].fillna('S')\n",
    "mapping_data ={\"S\":0, \"Q\":1, \"C\":2}\n",
    "titanic_df[\"Embarked\"] = titanic_df[\"Embarked\"].map(mapping_data)\n",
    "\n",
    "\n",
    "titanic_df.loc[ titanic_df['Fare'] <= 102, 'Fare'] = 0\n",
    "titanic_df.loc[(titanic_df['Fare'] > 102) & (titanic_df['Fare'] <= 204), 'Fare'] = 1\n",
    "titanic_df.loc[(titanic_df['Fare'] > 204) & (titanic_df['Fare'] <= 307), 'Fare'] = 2\n",
    "titanic_df.loc[ titanic_df['Fare'] > 307, 'Fare'] = 4\n",
    "\n",
    "\n",
    "titanic_df[\"FamilySize\"] = titanic_df[\"SibSp\"] + titanic_df[\"Parch\"] +1\n",
    "del titanic_df['SibSp']\n",
    "del titanic_df['Parch']\n",
    "\n",
    "titanic_df['isAlone'] = 0\n",
    "titanic_df.loc[titanic_df['FamilySize'] == 1, 'isAlone'] = 1\n",
    "\n",
    "family_mapping = {1: 0, 2: 0.4, 3: 0.8, 4: 1.2, 5: 1.6, 6: 2, 7: 2.4, 8: 2.8, 9: 3.2, 10: 3.6, 11: 4}\n",
    "titanic_df['FamilySize'] = titanic_df['FamilySize'].map(family_mapping)\n",
    "\n",
    "\n",
    "titanic_df[\"Age\"].fillna(titanic_df.groupby(\"Title\")[\"Age\"].transform(\"median\"), inplace=True)\n",
    "\n",
    "titanic_df.loc[ titanic_df['Age'] <= 16, 'Age'] = 0\n",
    "titanic_df.loc[(titanic_df['Age'] > 16) & (titanic_df['Age'] <= 32), 'Age'] = 1\n",
    "titanic_df.loc[(titanic_df['Age'] > 32) & (titanic_df['Age'] <= 48), 'Age'] = 2\n",
    "titanic_df.loc[(titanic_df['Age'] > 48) & (titanic_df['Age'] <= 64), 'Age'] = 3\n",
    "titanic_df.loc[ titanic_df['Age'] > 64, 'Age'] = 4\n",
    "\n",
    "titanic_df.head(3)"
   ]
  },
  {
   "cell_type": "markdown",
   "id": "c7260672",
   "metadata": {},
   "source": [
    "<br>\n",
    "\n",
    "## 2. Devide dataframe into X & Y -> Train X / Test X / Train Y / Test Y"
   ]
  },
  {
   "cell_type": "code",
   "execution_count": 90,
   "id": "96a1a014",
   "metadata": {},
   "outputs": [],
   "source": [
    "titanic_target = titanic_df[['Survived']].copy()\n",
    "titanic_data = titanic_df.copy()\n",
    "\n",
    "del titanic_data['Survived']"
   ]
  },
  {
   "cell_type": "code",
   "execution_count": 92,
   "id": "da982df6",
   "metadata": {},
   "outputs": [
    {
     "data": {
      "text/plain": [
       "tensor([0, 1, 1, 1, 0, 0, 0, 0, 1, 1, 1, 1, 0, 0, 0, 1, 0, 1, 0, 1, 0, 1, 1, 1,\n",
       "        0, 1, 0, 0, 1, 0, 0, 1, 1, 0, 0, 0, 1, 0, 0, 1, 0, 0, 0, 1, 1, 0, 0, 1,\n",
       "        0, 0, 0, 0, 1, 1, 0, 1, 1, 0, 1, 0, 0, 1, 0, 0, 0, 1, 1, 0, 1, 0, 0, 0,\n",
       "        0, 0, 1, 0, 0, 0, 1, 1, 0, 1, 1, 0, 1, 1, 0, 0, 1, 0, 0, 0, 0, 0, 0, 0,\n",
       "        0, 1, 1, 0, 0, 0, 0, 0, 0, 0, 1, 1, 0, 1, 0, 0, 0, 0, 0, 0, 0, 0, 0, 0,\n",
       "        0, 0, 0, 1, 0, 1, 0, 1, 1, 0, 0, 0, 0, 1, 0, 0, 1, 0, 0, 0, 0, 1, 1, 0,\n",
       "        0, 0, 1, 0, 0, 0, 0, 1, 0, 0, 0, 0, 1, 0, 0, 0, 0, 1, 0, 0, 0, 1, 1, 0,\n",
       "        0, 0, 0, 0, 1, 0, 0, 0, 0, 0, 0, 0, 0, 0, 0, 1, 1, 0, 1, 1, 0, 0, 1, 0,\n",
       "        1, 1, 1, 1, 0, 0, 1, 0, 0, 0, 0, 0, 1, 0, 0, 1, 1, 1, 0, 1, 0, 0, 0, 1,\n",
       "        1, 0, 1, 0, 1, 0, 0, 0, 1, 0, 1, 0, 0, 0, 1, 0, 0, 1, 0, 0, 0, 1, 0, 0,\n",
       "        0, 1, 0, 0, 0, 0, 0, 1, 1, 0, 0, 0, 0, 0, 0, 1, 1, 1, 1, 1, 0, 1, 0, 0,\n",
       "        0, 0, 0, 1, 1, 1, 0, 1, 1, 0, 1, 1, 0, 0, 0, 1, 0, 0, 0, 1, 0, 0, 1, 0,\n",
       "        1, 1, 1, 1, 0, 0, 0, 0, 0, 0, 1, 1, 1, 1, 0, 1, 0, 1, 1, 1, 0, 1, 1, 1,\n",
       "        0, 0, 0, 1, 1, 0, 1, 1, 0, 0, 1, 1, 0, 1, 0, 1, 1, 1, 1, 0, 0, 0, 1, 0,\n",
       "        0, 1, 1, 0, 1, 1, 0, 0, 0, 1, 1, 1, 1, 0, 0, 0, 0, 0, 0, 0, 1, 0, 1, 1,\n",
       "        0, 0, 0, 0, 0, 0, 1, 1, 1, 1, 1, 0, 0, 0, 0, 1, 1, 0, 0, 0, 1, 1, 0, 1,\n",
       "        0, 0, 0, 1, 0, 1, 1, 1, 0, 1, 1, 0, 0, 0, 0, 1, 1, 0, 0, 0, 0, 0, 0, 1,\n",
       "        0, 0, 0, 0, 1, 0, 1, 0, 1, 1, 0, 0, 0, 0, 0, 0, 0, 0, 1, 1, 0, 1, 1, 1,\n",
       "        1, 0, 0, 1, 0, 1, 0, 0, 1, 0, 0, 1, 1, 1, 1, 1, 1, 1, 0, 0, 0, 1, 0, 1,\n",
       "        0, 1, 1, 0, 1, 0, 0, 0, 0, 0, 0, 0, 0, 1, 0, 0, 1, 1, 0, 0, 0, 0, 0, 1,\n",
       "        0, 0, 0, 1, 1, 0, 1, 0, 0, 1, 0, 0, 0, 0, 0, 0, 1, 0, 0, 0, 0, 0, 0, 0,\n",
       "        1, 0, 1, 1, 0, 1, 1, 0, 1, 1, 0, 0, 1, 0, 1, 0, 1, 0, 0, 1, 0, 0, 1, 0,\n",
       "        0, 0, 1, 0, 0, 1, 0, 1, 0, 1, 0, 1, 1, 0, 0, 1, 0, 0, 1, 1, 0, 1, 1, 0,\n",
       "        0, 1, 1, 0, 1, 0, 1, 1, 0, 0, 0, 0, 0, 0, 0, 0, 0, 1, 1, 1, 1, 1, 0, 0,\n",
       "        1, 1, 0, 1, 1, 1, 0, 0, 0, 1, 0, 1, 0, 0, 0, 1, 0, 0, 0, 0, 1, 0, 0, 1,\n",
       "        1, 0, 0, 0, 1, 0, 0, 1, 1, 1, 0, 0, 1, 0, 0, 1, 0, 0, 1, 0, 0, 1, 1, 0,\n",
       "        0, 0, 0, 1, 0, 0, 1, 0, 1, 0, 0, 1, 0, 0, 0, 0, 0, 1, 0, 1, 1, 1, 0, 1,\n",
       "        0, 1, 0, 1, 0, 1, 0, 0, 0, 0, 0, 0, 1, 0, 0, 0, 1, 0, 0, 0, 0, 1, 1, 0,\n",
       "        0, 1, 0, 0, 0, 1, 0, 1, 0, 1, 0, 0, 0, 0, 0, 0, 0, 1, 1, 1, 1, 0, 0, 0,\n",
       "        0, 1, 0, 0, 1, 1, 0, 0, 0, 0, 1, 1, 1, 1, 1, 0, 1, 0, 0, 0, 1, 1, 0, 0,\n",
       "        1, 0, 0, 0, 1, 0, 1, 1, 0, 0, 1, 0, 0, 0, 0, 0, 0, 1, 0, 0, 1, 0, 1, 0,\n",
       "        1, 0, 0, 1, 0, 0, 1, 1, 0, 0, 1, 1, 0, 0, 0, 1, 0, 0, 1, 1, 0, 1, 0, 0,\n",
       "        0, 0, 0, 0, 0, 0, 1, 0, 0, 1, 0, 1, 1, 1, 0, 0, 0, 0, 1, 0, 1, 0, 0, 0,\n",
       "        0, 0, 0, 0, 1, 1, 0, 0, 0, 1, 1, 1, 1, 0, 0, 0, 0, 1, 0, 0, 0, 0, 0, 0,\n",
       "        0, 0, 0, 0, 1, 1, 0, 1, 0, 0, 0, 1, 1, 1, 1, 1, 0, 0, 0, 1, 0, 0, 1, 1,\n",
       "        0, 0, 1, 0, 0, 0, 0, 0, 0, 1, 0, 0, 0, 1, 0, 1, 1, 1, 1, 0, 0, 0, 1, 0,\n",
       "        0, 1, 1, 0, 0, 1, 0, 1, 0, 0, 1, 1, 0, 0, 0, 1, 1, 0, 0, 0, 0, 0, 0, 1,\n",
       "        0, 1, 0])"
      ]
     },
     "execution_count": 92,
     "metadata": {},
     "output_type": "execute_result"
    }
   ],
   "source": [
    "X = torch.tensor(np.array(titanic_data)).type(torch.float)\n",
    "y = torch.tensor(np.array(titanic_target)).type(torch.LongTensor) # IntTensor == Int32 vs LongTensor == Int64\n",
    "\n",
    "y = y.reshape(-1) # PyTorch 기반 classification에서는 label을 1차원 배열 형태로 준비,(-1은 1차원형태로 알아서 배열 값을 설정해줌)\n",
    "y"
   ]
  },
  {
   "cell_type": "code",
   "execution_count": 94,
   "id": "a77d60c5",
   "metadata": {},
   "outputs": [
    {
     "name": "stdout",
     "output_type": "stream",
     "text": [
      "torch.Size([623, 8])\n",
      "torch.Size([268, 8])\n",
      "torch.Size([623])\n",
      "torch.Size([268])\n"
     ]
    }
   ],
   "source": [
    "train_data, test_data, train_label, test_label = model_selection.train_test_split(X, y,\n",
    "                                                                                  test_size=0.3,\n",
    "                                                                                  random_state=0)\n",
    "print(train_data.shape)\n",
    "print(test_data.shape)\n",
    "print(train_label.shape)\n",
    "print(test_label.shape)"
   ]
  },
  {
   "cell_type": "markdown",
   "id": "8e44c586",
   "metadata": {},
   "source": [
    "<br>\n",
    "\n",
    "## 3. Build & Train the model "
   ]
  },
  {
   "cell_type": "markdown",
   "id": "0a9a3685",
   "metadata": {},
   "source": [
    "<br>\n",
    "<br>\n",
    "\n",
    "### 1) Build the model"
   ]
  },
  {
   "cell_type": "code",
   "execution_count": 98,
   "id": "f8dbc753",
   "metadata": {},
   "outputs": [
    {
     "data": {
      "text/plain": [
       "'cpu'"
      ]
     },
     "execution_count": 98,
     "metadata": {},
     "output_type": "execute_result"
    }
   ],
   "source": [
    "device = \"cuda\" if torch.cuda.is_available() else \"cpu\"\n",
    "\n",
    "device"
   ]
  },
  {
   "cell_type": "code",
   "execution_count": 100,
   "id": "c5e4cdf2",
   "metadata": {},
   "outputs": [],
   "source": [
    "class MLP_Classifier(nn.Module): # should inherit the class nn.Module\n",
    "    \n",
    "    \n",
    "    def __init__(self, num_features, num_classes, num_nodes=256):\n",
    "        \n",
    "        super().__init__()\n",
    "        \n",
    "        self.sequential_stack = nn.Sequential( # Sequential-stack\n",
    "            nn.Linear(in_features=num_features, out_features=num_nodes),\n",
    "            # nn.BatchNorm1d(num_nodes),\n",
    "            nn.ELU(), # use \"ELU\"\n",
    "            nn.Linear(in_features=num_nodes, out_features=num_nodes * 2),\n",
    "            nn.ELU(), # use \"ELU\"\n",
    "            nn.Linear(in_features=num_nodes * 2, out_features=num_nodes * 2),\n",
    "            nn.ELU(), # use \"ELU\"\n",
    "            nn.Linear(in_features=num_nodes * 2, out_features=num_nodes),\n",
    "            nn.ELU(), # use \"ELU\"\n",
    "            nn.Dropout(0.5), # Drop-out\n",
    "            nn.Linear(in_features=num_nodes, out_features=num_classes),\n",
    "            # We don't need to use nn.Softmax() (check the following source codes)\n",
    "        )\n",
    "    \n",
    "    def forward(self, x): # forward-pass\n",
    "        \n",
    "        return self.sequential_stack(x)"
   ]
  },
  {
   "cell_type": "markdown",
   "id": "0a31123f",
   "metadata": {},
   "source": [
    "<br>\n",
    "<br>\n",
    "\n",
    "### 2) Check the model"
   ]
  },
  {
   "cell_type": "code",
   "execution_count": 103,
   "id": "b005364e",
   "metadata": {},
   "outputs": [],
   "source": [
    "torch.manual_seed(42) # \"Manually\" set the \"seed\" for [ nn.Parameter ]\n",
    "\n",
    "model = MLP_Classifier(num_features=8, \n",
    "                       num_classes=2, \n",
    "                       num_nodes=256).to(device)"
   ]
  },
  {
   "cell_type": "code",
   "execution_count": 105,
   "id": "84a38789",
   "metadata": {},
   "outputs": [
    {
     "name": "stdout",
     "output_type": "stream",
     "text": [
      "tensor([[ 0.0386, -0.1033],\n",
      "        [ 0.0287, -0.1151],\n",
      "        [ 0.0279, -0.0357],\n",
      "        [ 0.0051, -0.1376],\n",
      "        [ 0.0441, -0.1176],\n",
      "        [ 0.0258, -0.1491],\n",
      "        [-0.0019, -0.1038],\n",
      "        [-0.0241, -0.0874],\n",
      "        [ 0.0134, -0.1174],\n",
      "        [ 0.0624, -0.1300]])\n"
     ]
    }
   ],
   "source": [
    "# 모델을 evaluation mode로 설정\n",
    "model.eval()\n",
    "\n",
    "with torch.inference_mode(): # Set \"inference mode\"\n",
    "    \n",
    "    # (x 데이터를 모델에 넣고) 순방향 계산 진행 (forward pass)\n",
    "    untrained_logits = model(test_data.to(device)) # 모델 & 데이터는 동일한 디바이스 위에 위치해있어야 함\n",
    "    \n",
    "print(untrained_logits[:10])"
   ]
  },
  {
   "cell_type": "markdown",
   "id": "b1737e0b",
   "metadata": {},
   "source": [
    "<br>\n",
    "<br>\n",
    "\n",
    "### 3) Train the model"
   ]
  },
  {
   "cell_type": "code",
   "execution_count": 108,
   "id": "f6eb2041",
   "metadata": {},
   "outputs": [],
   "source": [
    "torch.manual_seed(42) # \"Manually\" set the \"seed\" for [ nn.Parameter ]\n",
    "\n",
    "model = MLP_Classifier(num_features=8, \n",
    "                       num_classes=2, \n",
    "                       num_nodes=256).to(device)"
   ]
  },
  {
   "cell_type": "code",
   "execution_count": 110,
   "id": "84863c8c",
   "metadata": {},
   "outputs": [],
   "source": [
    "loss_fn = nn.CrossEntropyLoss() # Softmax + CrossEntropy\n",
    "# loss_fn = nn.BCEWithLogitsLoss() # Binary Cross-entropy + built-in Sigmoid (accepting \"logits\")\n",
    "\n",
    "optimizer = torch.optim.Adam(params=model.parameters(),  # \"parameters\" to optimize (apply gradient descent)\n",
    "                             lr=0.001) # \"l\"earning \"r\"ate \n",
    "\n",
    "metric_accuracy = Accuracy(task='multiclass', num_classes=2).to(device) # from torchmetrics import Accuracy"
   ]
  },
  {
   "cell_type": "code",
   "execution_count": 112,
   "id": "c3911442",
   "metadata": {},
   "outputs": [
    {
     "name": "stdout",
     "output_type": "stream",
     "text": [
      "Epoch: 0 | Loss: 0.68033, Acc: 0.61% | Test loss: 0.79290, Test acc: 0.63%\n",
      "Epoch: 1 | Loss: 0.83202, Acc: 0.61% | Test loss: 0.59008, Test acc: 0.68%\n",
      "Epoch: 2 | Loss: 0.60116, Acc: 0.66% | Test loss: 0.69446, Test acc: 0.37%\n",
      "Epoch: 3 | Loss: 0.68395, Acc: 0.46% | Test loss: 0.61361, Test acc: 0.71%\n",
      "Epoch: 4 | Loss: 0.60765, Acc: 0.74% | Test loss: 0.54329, Test acc: 0.73%\n",
      "Epoch: 5 | Loss: 0.55606, Acc: 0.72% | Test loss: 0.54729, Test acc: 0.71%\n",
      "Epoch: 6 | Loss: 0.57103, Acc: 0.68% | Test loss: 0.52984, Test acc: 0.73%\n",
      "Epoch: 7 | Loss: 0.55771, Acc: 0.70% | Test loss: 0.49249, Test acc: 0.78%\n",
      "Epoch: 8 | Loss: 0.50319, Acc: 0.75% | Test loss: 0.50554, Test acc: 0.75%\n",
      "Epoch: 9 | Loss: 0.49939, Acc: 0.78% | Test loss: 0.52886, Test acc: 0.75%\n",
      "Epoch: 10 | Loss: 0.51214, Acc: 0.76% | Test loss: 0.48698, Test acc: 0.75%\n",
      "Epoch: 11 | Loss: 0.48320, Acc: 0.78% | Test loss: 0.45283, Test acc: 0.79%\n",
      "Epoch: 12 | Loss: 0.47011, Acc: 0.80% | Test loss: 0.45522, Test acc: 0.81%\n",
      "Epoch: 13 | Loss: 0.48728, Acc: 0.80% | Test loss: 0.44849, Test acc: 0.81%\n",
      "Epoch: 14 | Loss: 0.47572, Acc: 0.80% | Test loss: 0.44866, Test acc: 0.80%\n",
      "Epoch: 15 | Loss: 0.45618, Acc: 0.79% | Test loss: 0.47279, Test acc: 0.78%\n",
      "Epoch: 16 | Loss: 0.46136, Acc: 0.78% | Test loss: 0.47931, Test acc: 0.78%\n",
      "Epoch: 17 | Loss: 0.46726, Acc: 0.79% | Test loss: 0.45661, Test acc: 0.80%\n",
      "Epoch: 18 | Loss: 0.45280, Acc: 0.80% | Test loss: 0.44298, Test acc: 0.80%\n",
      "Epoch: 19 | Loss: 0.46031, Acc: 0.80% | Test loss: 0.44498, Test acc: 0.80%\n"
     ]
    }
   ],
   "source": [
    "torch.manual_seed(42)\n",
    "\n",
    "\n",
    "train_data, train_label = train_data.to(device), train_label.to(device)\n",
    "test_data, test_label   = test_data.to(device), test_label.to(device)\n",
    " \n",
    "    \n",
    "loss_train_list = []\n",
    "loss_test_list = []\n",
    "acc_train_list = []\n",
    "acc_test_list = []\n",
    "\n",
    "for epoch in range(20):\n",
    "    \n",
    "    # 모델을 training mode로 설정 (default state)\n",
    "    model.train()\n",
    "\n",
    "    # 1. (x 데이터를 모델에 넣고) 순방향 계산 진행 (forward pass)\n",
    "    logits = model(train_data)\n",
    "    y_predicted = logits.softmax(dim=1).argmax(dim=1) # logits -> predicted probabilities -> predicted class numbers\n",
    "\n",
    "    # 2. Training cost 계산 (Cost function 계산)\n",
    "    loss_train = loss_fn(logits, train_label) # <- nn.CrossEntropyLoss() : built-in Softmax\n",
    "    loss_train_list.append(loss_train.item())\n",
    "    \n",
    "    # 3. Optimizer 내부의 이전 gradient 값 초기화 (Make \"grad\" to \"zero\")\n",
    "    optimizer.zero_grad()\n",
    "\n",
    "    # 4. Back-propagation (\"Backward\" propagation)\n",
    "    loss_train.backward()\n",
    "\n",
    "    # 5. Gradient descent 진행 (Take a \"step\" to update parameters)\n",
    "    optimizer.step()\n",
    "\n",
    "    \n",
    "    # 모델을 evaluation mode로 설정\n",
    "    model.eval()\n",
    "    \n",
    "    with torch.inference_mode(): # Set \"inference mode\"\n",
    "        \n",
    "        # (x 데이터를 모델에 넣고) 순방향 계산 진행 (forward pass)\n",
    "        logits_test = model(test_data)\n",
    "        y_predicted_test = logits_test.softmax(dim=1).argmax(dim=1)\n",
    "        \n",
    "        # Test cost 계산\n",
    "        loss_test = loss_fn(logits_test, test_label)\n",
    "        loss_test_list.append(loss_test.item())\n",
    "        \n",
    "\n",
    "    acc_train = metric_accuracy(y_predicted, train_label) \n",
    "    acc_train_list.append(acc_train.item())\n",
    "    \n",
    "    acc_test  = metric_accuracy(y_predicted_test, test_label)\n",
    "    acc_test_list.append(acc_test.item())\n",
    "    \n",
    "    print(f\"Epoch: {epoch} | Loss: {loss_train:.5f}, Acc: {acc_train:.2f}% | Test loss: {loss_test:.5f}, Test acc: {acc_test:.2f}%\")"
   ]
  },
  {
   "cell_type": "markdown",
   "id": "37e41b95",
   "metadata": {},
   "source": [
    "<br>\n",
    "\n",
    "## 4. Test the model "
   ]
  },
  {
   "cell_type": "code",
   "execution_count": 115,
   "id": "03a5df15",
   "metadata": {},
   "outputs": [
    {
     "name": "stdout",
     "output_type": "stream",
     "text": [
      "Test accuracy : 0.7985074520111084 %\n"
     ]
    }
   ],
   "source": [
    "# 1. 모델을 evaluation mode로 설정\n",
    "model.eval()\n",
    "\n",
    "# 2. inference mode 세팅\n",
    "with torch.inference_mode():\n",
    "    \n",
    "    # 3. 모델과 데이터는 동일한 디바이스 위에 있어야 함 (GPU or CPU)\n",
    "    logits = model(test_data.to(device))\n",
    "    y_predicted = torch.softmax(logits, dim=1).argmax(dim=1) #  logits -> predicted probs -> predicted class nums\n",
    "\n",
    "acc_test = metric_accuracy(y_predicted, test_label.to(device)) \n",
    "\n",
    "print('Test accuracy : {} %'.format(acc_test))"
   ]
  },
  {
   "cell_type": "code",
   "execution_count": 117,
   "id": "c4706ffc",
   "metadata": {},
   "outputs": [
    {
     "data": {
      "image/png": "[encoded data removed]",
      "text/plain": [
       "<Figure size 1500x750 with 1 Axes>"
      ]
     },
     "metadata": {},
     "output_type": "display_data"
    }
   ],
   "source": [
    "epochs = np.arange(len(loss_train_list)) # array of range\n",
    "\n",
    "plt.figure(figsize=(10, 5), dpi=150)\n",
    "\n",
    "plt.plot(epochs, acc_train_list, marker='.', c='blue', label=\"Train-set Acc.\")\n",
    "plt.plot(epochs, acc_test_list, marker='.', c='red', label=\"Test-set Acc.\")\n",
    "\n",
    "plt.legend(loc='lower right')\n",
    "plt.grid()\n",
    "plt.xlabel('epoch')\n",
    "plt.ylabel('Accuracy')\n",
    "plt.show()"
   ]
  },
  {
   "cell_type": "code",
   "execution_count": 119,
   "id": "ec01a213",
   "metadata": {},
   "outputs": [
    {
     "data": {
      "image/png": "[encoded data removed]",
      "text/plain": [
       "<Figure size 1500x750 with 1 Axes>"
      ]
     },
     "metadata": {},
     "output_type": "display_data"
    }
   ],
   "source": [
    "epochs = np.arange(len(loss_train_list))\n",
    "\n",
    "plt.figure(figsize=(10, 5), dpi=150)\n",
    "\n",
    "plt.plot(epochs, loss_train_list, marker='.', c='blue', label=\"Train-set Loss.\")\n",
    "plt.plot(epochs, loss_test_list, marker='.', c='red', label=\"Test-set Loss.\")\n",
    "\n",
    "plt.legend(loc='upper right')\n",
    "plt.grid()\n",
    "plt.xlabel('epoch')\n",
    "plt.ylabel('Accuracy')\n",
    "plt.show()"
   ]
  },
  {
   "cell_type": "code",
   "execution_count": 121,
   "id": "563151b6",
   "metadata": {},
   "outputs": [
    {
     "name": "stdout",
     "output_type": "stream",
     "text": [
      "tensor([[ 1.3709, -1.4622]])\n",
      "tensor([[0.9444, 0.0556]])\n",
      "tensor([0])\n",
      "Not survived\n"
     ]
    }
   ],
   "source": [
    "sample_data = np.array([[3, 0, 0.0, 0.0, 1, 1, 2.0, 0]])\n",
    "data_tensor = torch.tensor(sample_data).type(torch.float)\n",
    "\n",
    "\n",
    "# 1. 모델을 evaluation mode로 설정\n",
    "model.eval()\n",
    "\n",
    "# 2. inference mode 세팅\n",
    "with torch.inference_mode():\n",
    "    \n",
    "    # 3. 모델과 데이터는 동일한 디바이스 위에 있어야 함 (GPU or CPU)\n",
    "    logits = model(data_tensor.to(device))\n",
    "    y_probs = logits.softmax(dim=1)\n",
    "    y_predicted = logits.softmax(dim=1).argmax(dim=1) #  logits -> predicted probs -> predicted class nums\n",
    "\n",
    "\n",
    "print(logits)\n",
    "print(y_probs)\n",
    "print(y_predicted)\n",
    "print(['Not survived', 'Survived'][y_predicted])"
   ]
  },
  {
   "cell_type": "markdown",
   "id": "7dde2aa3",
   "metadata": {},
   "source": [
    "<br>\n",
    "\n",
    "## 5. Save the model "
   ]
  },
  {
   "cell_type": "markdown",
   "id": "ee3f8ba1",
   "metadata": {},
   "source": [
    "<br>\n",
    "\n",
    "#### * 모델을 통째로 저장하고 불러오는 것도 가능 @ https://pytorch.org/tutorials/beginner/saving_loading_models.html\n",
    "\n",
    "#### -> **torch.save(model, PATH)** & **model = torch.load(PATH)**"
   ]
  },
  {
   "cell_type": "code",
   "execution_count": 123,
   "id": "b1189083",
   "metadata": {},
   "outputs": [],
   "source": [
    "# Shorter version\n",
    "\n",
    "torch.save(obj=model.state_dict(), # only parameters\n",
    "           f='models/usethis_classifier.pth')"
   ]
  },
  {
   "cell_type": "code",
   "execution_count": 125,
   "id": "270ba17f",
   "metadata": {},
   "outputs": [],
   "source": [
    "# # Longer version (디렉토리부터 생성)\n",
    "\n",
    "\n",
    "# # 1. 모델 파라미터 파일 저장을 위한 디렉토리 생성 (os.mkdir 함수로 대체하여 사용 가능)\n",
    "\n",
    "# from pathlib import Path\n",
    "# MODEL_PATH = Path(\"models\")\n",
    "# MODEL_PATH.mkdir(parents=True, exist_ok=True)\n",
    "# # parents=True : any missing parents of this path are created as needed.\n",
    "# # exist_ok=True : FileExistsError exceptions will be ignored.\n",
    "\n",
    "\n",
    "# # 2. 모델 파라미터 저장경로 지정 \n",
    "\n",
    "# MODEL_NAME = \"usethis_classifier.pth\" # common convention for PyTorch saved models or objects : .pt or .pth\n",
    "# MODEL_SAVE_PATH = MODEL_PATH / MODEL_NAME # WindowsPath('models/usethis_classifier.pth')\n",
    "\n",
    "\n",
    "# # 3. 모델 파라미터 저장\n",
    "\n",
    "# print('Saving model to :', MODEL_SAVE_PATH)\n",
    "\n",
    "# torch.save(obj=model.state_dict(), # only parameters\n",
    "#            f=MODEL_SAVE_PATH)"
   ]
  },
  {
   "cell_type": "code",
   "execution_count": 131,
   "id": "2ec8a134",
   "metadata": {},
   "outputs": [
    {
     "name": "stderr",
     "output_type": "stream",
     "text": [
      "/var/folders/h8/hl46jg551p96ynf4dwy9ln_80000gn/T/ipykernel_1649/2212451005.py:5: FutureWarning: You are using `torch.load` with `weights_only=False` (the current default value), which uses the default pickle module implicitly. It is possible to construct malicious pickle data which will execute arbitrary code during unpickling (See https://github.com/pytorch/pytorch/blob/main/SECURITY.md#untrusted-models for more details). In a future release, the default value for `weights_only` will be flipped to `True`. This limits the functions that could be executed during unpickling. Arbitrary objects will no longer be allowed to be loaded via this mode unless they are explicitly allowlisted by the user via `torch.serialization.add_safe_globals`. We recommend you start setting `weights_only=True` for any use case where you don't have full control of the loaded file. Please open an issue on GitHub for any issues related to this experimental feature.\n",
      "  loaded_model.load_state_dict(torch.load(f='models/usethis_classifier.pth'))\n"
     ]
    },
    {
     "data": {
      "text/plain": [
       "MLP_Classifier(\n",
       "  (sequential_stack): Sequential(\n",
       "    (0): Linear(in_features=8, out_features=256, bias=True)\n",
       "    (1): ELU(alpha=1.0)\n",
       "    (2): Linear(in_features=256, out_features=512, bias=True)\n",
       "    (3): ELU(alpha=1.0)\n",
       "    (4): Linear(in_features=512, out_features=512, bias=True)\n",
       "    (5): ELU(alpha=1.0)\n",
       "    (6): Linear(in_features=512, out_features=256, bias=True)\n",
       "    (7): ELU(alpha=1.0)\n",
       "    (8): Dropout(p=0.5, inplace=False)\n",
       "    (9): Linear(in_features=256, out_features=2, bias=True)\n",
       "  )\n",
       ")"
      ]
     },
     "execution_count": 131,
     "metadata": {},
     "output_type": "execute_result"
    }
   ],
   "source": [
    "loaded_model = MLP_Classifier(num_features=8, \n",
    "                              num_classes=2, \n",
    "                              num_nodes=256) # 모델 구조 생성 \n",
    "\n",
    "loaded_model.load_state_dict(torch.load(f='models/usethis_classifier.pth')) \n",
    "# pickle 파일을 먼저 load 후 paramter 값들을 꺼내어 모델로 load\n",
    "\n",
    "loaded_model.to(device)"
   ]
  },
  {
   "cell_type": "code",
   "execution_count": 133,
   "id": "1837bc50",
   "metadata": {},
   "outputs": [
    {
     "name": "stdout",
     "output_type": "stream",
     "text": [
      "Test accuracy : 0.7985074520111084 %\n"
     ]
    }
   ],
   "source": [
    "# 1. 모델을 evaluation mode로 설정\n",
    "loaded_model.eval()\n",
    "\n",
    "# 2. inference mode 세팅\n",
    "with torch.inference_mode():\n",
    "    \n",
    "    # 3. 모델과 데이터는 동일한 디바이스 위에 있어야 함 (GPU or CPU)\n",
    "    logits = loaded_model(test_data.to(device))\n",
    "    y_predicted = torch.softmax(logits, dim=1).argmax(dim=1) #  logits -> predicted probs -> predicted class nums\n",
    "\n",
    "acc_test = metric_accuracy(y_predicted, test_label.to(device)) \n",
    "\n",
    "print('Test accuracy : {} %'.format(acc_test))"
   ]
  },
  {
   "cell_type": "code",
   "execution_count": null,
   "id": "2de4b26d",
   "metadata": {},
   "outputs": [],
   "source": []
  }
 ],
 "metadata": {
  "kernelspec": {
   "display_name": "Python 3 (ipykernel)",
   "language": "python",
   "name": "python3"
  },
  "language_info": {
   "codemirror_mode": {
    "name": "ipython",
    "version": 3
   },
   "file_extension": ".py",
   "mimetype": "text/x-python",
   "name": "python",
   "nbconvert_exporter": "python",
   "pygments_lexer": "ipython3",
   "version": "3.12.4"
  }
 },
 "nbformat": 4,
 "nbformat_minor": 5
}
