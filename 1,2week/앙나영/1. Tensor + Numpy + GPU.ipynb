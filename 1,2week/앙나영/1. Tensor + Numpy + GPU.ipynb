{
 "cells": [
  {
   "cell_type": "markdown",
   "id": "16a64a24",
   "metadata": {
    "id": "16a64a24"
   },
   "source": [
    "<br>\n",
    "<br>\n",
    "\n",
    "### (Official) Installation guide @ https://pytorch.org/get-started/locally/"
   ]
  },
  {
   "cell_type": "code",
   "execution_count": null,
   "id": "95aedce1",
   "metadata": {
    "id": "95aedce1"
   },
   "outputs": [],
   "source": [
    "!pip install torch==1.10.2\n",
    "!pip install torchvision==0.11.3\n",
    "!pip install torchaudio==0.10.2\n",
    "\n",
    "# \"액세스가 거부되었습니다\" 에러가 발생하거나 정상적으로 설치가 진행되지 않을 경우,\n",
    "# cmd(명령프롬프트) 우클릭 & 관리자권한으로 실행 후,\n",
    "# 느낌표를 제외한 명령어를 1줄씩 입력 & 실행하여 설치를 진행합니다."
   ]
  },
  {
   "cell_type": "code",
   "execution_count": 6,
   "id": "6086652a",
   "metadata": {
    "id": "6086652a",
    "outputId": "317c5381-1adf-42be-affc-e36b29d0217d"
   },
   "outputs": [
    {
     "name": "stdout",
     "output_type": "stream",
     "text": [
      "1.10.2\n",
      "0.11.3\n",
      "0.10.2\n"
     ]
    }
   ],
   "source": [
    "import torch, torchvision, torchaudio\n",
    "\n",
    "print(torch.__version__)\n",
    "print(torchvision.__version__)\n",
    "print(torchaudio.__version__)"
   ]
  },
  {
   "cell_type": "markdown",
   "id": "343b867e",
   "metadata": {
    "id": "343b867e"
   },
   "source": [
    "<br>\n",
    "<br>\n",
    "\n",
    "# 1. Tensors\n",
    "<br>\n",
    "\n",
    "- (Official) **torch.Tensor** @ https://pytorch.org/docs/stable/tensors.html"
   ]
  },
  {
   "cell_type": "markdown",
   "id": "472e9e15",
   "metadata": {
    "id": "472e9e15"
   },
   "source": [
    "<br>\n",
    "<br>\n",
    "\n",
    "### 1) **Scalar** == a single number == a zero dimension tensor\n",
    "\n",
    "<br>\n",
    "\n",
    "#### \\+ ndim / shape / dtype / device\n",
    "#### \\+ item() / type()"
   ]
  },
  {
   "cell_type": "code",
   "execution_count": null,
   "id": "52a8b8e5",
   "metadata": {
    "id": "52a8b8e5",
    "outputId": "9cc2572e-bccf-47ce-9edf-fab5dbd63295"
   },
   "outputs": [
    {
     "data": {
      "text/plain": [
       "tensor(3)"
      ]
     },
     "execution_count": 6,
     "metadata": {},
     "output_type": "execute_result"
    }
   ],
   "source": [
    "scalar = torch.tensor(3)\n",
    "\n",
    "scalar"
   ]
  },
  {
   "cell_type": "code",
   "execution_count": null,
   "id": "4633c7cf",
   "metadata": {
    "id": "4633c7cf",
    "outputId": "4779dd72-a3ad-48e0-f735-a8d7cabbc946"
   },
   "outputs": [
    {
     "data": {
      "text/plain": [
       "0"
      ]
     },
     "execution_count": 7,
     "metadata": {},
     "output_type": "execute_result"
    }
   ],
   "source": [
    "scalar.ndim # 0차원"
   ]
  },
  {
   "cell_type": "code",
   "execution_count": null,
   "id": "ba824de0",
   "metadata": {
    "id": "ba824de0",
    "outputId": "91f52990-07af-4c01-e411-c70b54621aa7"
   },
   "outputs": [
    {
     "data": {
      "text/plain": [
       "torch.Size([])"
      ]
     },
     "execution_count": 12,
     "metadata": {},
     "output_type": "execute_result"
    }
   ],
   "source": [
    "scalar.shape # == np.ndarray.shape"
   ]
  },
  {
   "cell_type": "code",
   "execution_count": null,
   "id": "e6748756",
   "metadata": {
    "id": "e6748756",
    "outputId": "95d126ad-fe6c-4f2d-f1ee-9f37ec5ab462"
   },
   "outputs": [
    {
     "data": {
      "text/plain": [
       "torch.int64"
      ]
     },
     "execution_count": 27,
     "metadata": {},
     "output_type": "execute_result"
    }
   ],
   "source": [
    "scalar.dtype"
   ]
  },
  {
   "cell_type": "code",
   "execution_count": null,
   "id": "928e5d89",
   "metadata": {
    "id": "928e5d89",
    "outputId": "b74c5679-45a8-4acc-edc6-001de131da6c"
   },
   "outputs": [
    {
     "data": {
      "text/plain": [
       "device(type='cpu')"
      ]
     },
     "execution_count": 36,
     "metadata": {},
     "output_type": "execute_result"
    }
   ],
   "source": [
    "scalar.device"
   ]
  },
  {
   "cell_type": "code",
   "execution_count": null,
   "id": "7254dd9a",
   "metadata": {
    "id": "7254dd9a",
    "outputId": "7650a5ed-a91f-4c1a-ee6e-2f740b6c7b93"
   },
   "outputs": [
    {
     "data": {
      "text/plain": [
       "3"
      ]
     },
     "execution_count": 8,
     "metadata": {},
     "output_type": "execute_result"
    }
   ],
   "source": [
    "scalar.item() # only works with one-element tensors"
   ]
  },
  {
   "cell_type": "code",
   "execution_count": null,
   "id": "8709f332",
   "metadata": {
    "id": "8709f332",
    "outputId": "f1024bcf-b4fd-4266-d1a4-fb919388fe66"
   },
   "outputs": [
    {
     "data": {
      "text/plain": [
       "3.0"
      ]
     },
     "execution_count": 98,
     "metadata": {},
     "output_type": "execute_result"
    }
   ],
   "source": [
    "# Type-casting\n",
    "\n",
    "scalar.type(torch.float16).item()"
   ]
  },
  {
   "cell_type": "markdown",
   "id": "882d1607",
   "metadata": {
    "id": "882d1607"
   },
   "source": [
    "<br>\n",
    "<br>\n",
    "\n",
    "### 2) **vector** == an array == a single dimension tensor"
   ]
  },
  {
   "cell_type": "code",
   "execution_count": null,
   "id": "de26c442",
   "metadata": {
    "id": "de26c442",
    "outputId": "0c8e815e-48f1-4ccb-9e04-075e72c85921"
   },
   "outputs": [
    {
     "data": {
      "text/plain": [
       "tensor([1, 2, 3])"
      ]
     },
     "execution_count": 9,
     "metadata": {},
     "output_type": "execute_result"
    }
   ],
   "source": [
    "vector = torch.tensor([1, 2, 3])\n",
    "\n",
    "vector"
   ]
  },
  {
   "cell_type": "code",
   "execution_count": null,
   "id": "620a3a6a",
   "metadata": {
    "id": "620a3a6a",
    "outputId": "8da48cce-63ad-43fc-f88b-2cfbb912be78"
   },
   "outputs": [
    {
     "data": {
      "text/plain": [
       "1"
      ]
     },
     "execution_count": 11,
     "metadata": {},
     "output_type": "execute_result"
    }
   ],
   "source": [
    "vector.ndim # 1차원 벡터"
   ]
  },
  {
   "cell_type": "code",
   "execution_count": null,
   "id": "44c16f3d",
   "metadata": {
    "id": "44c16f3d",
    "outputId": "5b7658c2-bc14-43f5-ac1c-88c79b68cfb0"
   },
   "outputs": [
    {
     "data": {
      "text/plain": [
       "torch.Size([3])"
      ]
     },
     "execution_count": 13,
     "metadata": {},
     "output_type": "execute_result"
    }
   ],
   "source": [
    "vector.shape # == np.ndarray.shape"
   ]
  },
  {
   "cell_type": "code",
   "execution_count": null,
   "id": "184a472c",
   "metadata": {
    "id": "184a472c",
    "outputId": "ebb51574-6caf-45f7-9039-36c54f8d6c0a"
   },
   "outputs": [
    {
     "ename": "ValueError",
     "evalue": "only one element tensors can be converted to Python scalars",
     "output_type": "error",
     "traceback": [
      "\u001b[1;31m---------------------------------------------------------------------------\u001b[0m",
      "\u001b[1;31mValueError\u001b[0m                                Traceback (most recent call last)",
      "\u001b[1;32m<ipython-input-14-bac96449ccf9>\u001b[0m in \u001b[0;36m<module>\u001b[1;34m\u001b[0m\n\u001b[1;32m----> 1\u001b[1;33m \u001b[0mvector\u001b[0m\u001b[1;33m.\u001b[0m\u001b[0mitem\u001b[0m\u001b[1;33m(\u001b[0m\u001b[1;33m)\u001b[0m\u001b[1;33m\u001b[0m\u001b[1;33m\u001b[0m\u001b[0m\n\u001b[0m",
      "\u001b[1;31mValueError\u001b[0m: only one element tensors can be converted to Python scalars"
     ]
    }
   ],
   "source": [
    "vector.item()"
   ]
  },
  {
   "cell_type": "code",
   "execution_count": null,
   "id": "59b46ef8",
   "metadata": {
    "id": "59b46ef8",
    "outputId": "547bb61b-516e-4911-c6ab-749283d90e24"
   },
   "outputs": [
    {
     "data": {
      "text/plain": [
       "3"
      ]
     },
     "execution_count": 16,
     "metadata": {},
     "output_type": "execute_result"
    }
   ],
   "source": [
    "vector[2].item()"
   ]
  },
  {
   "cell_type": "markdown",
   "id": "57110991",
   "metadata": {
    "id": "57110991"
   },
   "source": [
    "<br>\n",
    "<br>\n",
    "\n",
    "### 3) **matrix** == a multiple dimension tensor"
   ]
  },
  {
   "cell_type": "code",
   "execution_count": null,
   "id": "080aa168",
   "metadata": {
    "id": "080aa168",
    "outputId": "b191cd32-cc8b-4374-97ec-f1c9134a611e"
   },
   "outputs": [
    {
     "data": {
      "text/plain": [
       "tensor([[1, 2, 3],\n",
       "        [4, 5, 6]])"
      ]
     },
     "execution_count": 17,
     "metadata": {},
     "output_type": "execute_result"
    }
   ],
   "source": [
    "matrix = torch.tensor([[1, 2, 3], \n",
    "                       [4, 5, 6]])\n",
    "matrix"
   ]
  },
  {
   "cell_type": "code",
   "execution_count": null,
   "id": "51d9dbdf",
   "metadata": {
    "id": "51d9dbdf",
    "outputId": "037718d3-e7ce-47a6-92a8-655b7c2828ae"
   },
   "outputs": [
    {
     "data": {
      "text/plain": [
       "2"
      ]
     },
     "execution_count": 19,
     "metadata": {},
     "output_type": "execute_result"
    }
   ],
   "source": [
    "matrix.ndim # 2차원 행렬"
   ]
  },
  {
   "cell_type": "code",
   "execution_count": null,
   "id": "83393ba2",
   "metadata": {
    "id": "83393ba2",
    "outputId": "cc2b02ce-3c3b-4e0b-b622-395cd9e36f8e"
   },
   "outputs": [
    {
     "data": {
      "text/plain": [
       "torch.Size([2, 3])"
      ]
     },
     "execution_count": 21,
     "metadata": {},
     "output_type": "execute_result"
    }
   ],
   "source": [
    "matrix.shape # == np.ndarray.shape"
   ]
  },
  {
   "cell_type": "code",
   "execution_count": null,
   "id": "20101c38",
   "metadata": {
    "id": "20101c38",
    "outputId": "c31309c7-6ee9-4818-bf53-c281089da18c"
   },
   "outputs": [
    {
     "data": {
      "text/plain": [
       "6"
      ]
     },
     "execution_count": 22,
     "metadata": {},
     "output_type": "execute_result"
    }
   ],
   "source": [
    "matrix[1, 2].item() # indexing "
   ]
  },
  {
   "cell_type": "markdown",
   "id": "c69fb87a",
   "metadata": {
    "id": "c69fb87a"
   },
   "source": [
    "<br>\n",
    "<br>\n",
    "\n",
    "### 4) random / zeros / ones / arange"
   ]
  },
  {
   "cell_type": "code",
   "execution_count": null,
   "id": "3f0c3c0d",
   "metadata": {
    "id": "3f0c3c0d",
    "outputId": "6154c710-73d6-470d-cc58-ce629f10ee84"
   },
   "outputs": [
    {
     "data": {
      "text/plain": [
       "tensor([[0.0800, 0.0486, 0.4888],\n",
       "        [0.0733, 0.4079, 0.4889]])"
      ]
     },
     "execution_count": 24,
     "metadata": {},
     "output_type": "execute_result"
    }
   ],
   "source": [
    "random_tensor = torch.rand(size=(2, 3))\n",
    "\n",
    "random_tensor"
   ]
  },
  {
   "cell_type": "code",
   "execution_count": null,
   "id": "bfa94b92",
   "metadata": {
    "id": "bfa94b92",
    "outputId": "f3345b6e-172b-4d97-c627-5e89a15be911"
   },
   "outputs": [
    {
     "data": {
      "text/plain": [
       "torch.float32"
      ]
     },
     "execution_count": 25,
     "metadata": {},
     "output_type": "execute_result"
    }
   ],
   "source": [
    "random_tensor.dtype"
   ]
  },
  {
   "cell_type": "code",
   "execution_count": null,
   "id": "575d84a6",
   "metadata": {
    "id": "575d84a6",
    "outputId": "ab24ce01-535f-4efd-d0bb-ded0183e6f48"
   },
   "outputs": [
    {
     "data": {
      "text/plain": [
       "tensor([[0.0010, 0.3740, 0.0352],\n",
       "        [0.0830, 0.2422, 0.5024]], dtype=torch.float16)"
      ]
     },
     "execution_count": 40,
     "metadata": {},
     "output_type": "execute_result"
    }
   ],
   "source": [
    "random_tensor = torch.rand(size=(2, 3), dtype=torch.float16)\n",
    "\n",
    "random_tensor"
   ]
  },
  {
   "cell_type": "code",
   "execution_count": null,
   "id": "06d9c234",
   "metadata": {
    "id": "06d9c234",
    "outputId": "7c95faa5-75c7-4e90-adfe-6b0babaef48e"
   },
   "outputs": [
    {
     "data": {
      "text/plain": [
       "torch.float16"
      ]
     },
     "execution_count": 38,
     "metadata": {},
     "output_type": "execute_result"
    }
   ],
   "source": [
    "random_tensor.dtype"
   ]
  },
  {
   "cell_type": "code",
   "execution_count": null,
   "id": "5e77ed17",
   "metadata": {
    "id": "5e77ed17",
    "outputId": "c2cda6e8-46ff-457e-fec0-fba2a13f9929"
   },
   "outputs": [
    {
     "data": {
      "text/plain": [
       "torch.Size([2, 3])"
      ]
     },
     "execution_count": 29,
     "metadata": {},
     "output_type": "execute_result"
    }
   ],
   "source": [
    "random_tensor.shape # == np.ndarray.shape"
   ]
  },
  {
   "cell_type": "code",
   "execution_count": null,
   "id": "6858ff88",
   "metadata": {
    "id": "6858ff88",
    "outputId": "09a119cb-8757-4aa0-849b-04c50949b0dc"
   },
   "outputs": [
    {
     "data": {
      "text/plain": [
       "tensor([[0., 0., 0.],\n",
       "        [0., 0., 0.]])"
      ]
     },
     "execution_count": 32,
     "metadata": {},
     "output_type": "execute_result"
    }
   ],
   "source": [
    "zeros = torch.zeros(size=(2, 3))\n",
    "\n",
    "zeros"
   ]
  },
  {
   "cell_type": "code",
   "execution_count": null,
   "id": "d4f0200e",
   "metadata": {
    "id": "d4f0200e",
    "outputId": "7c651402-696a-493e-e6c3-411a10b846b7"
   },
   "outputs": [
    {
     "data": {
      "text/plain": [
       "tensor([[1., 1., 1.],\n",
       "        [1., 1., 1.]])"
      ]
     },
     "execution_count": 33,
     "metadata": {},
     "output_type": "execute_result"
    }
   ],
   "source": [
    "ones = torch.ones(size=(2, 3))\n",
    "\n",
    "ones"
   ]
  },
  {
   "cell_type": "code",
   "execution_count": null,
   "id": "2214cde2",
   "metadata": {
    "id": "2214cde2",
    "outputId": "4c1a57f2-12dd-46de-decd-7cfcf89edb91"
   },
   "outputs": [
    {
     "data": {
      "text/plain": [
       "tensor([ 3,  5,  7,  9, 11, 13])"
      ]
     },
     "execution_count": 34,
     "metadata": {},
     "output_type": "execute_result"
    }
   ],
   "source": [
    "arange = torch.arange(3, 15, 2)\n",
    "\n",
    "arange"
   ]
  },
  {
   "cell_type": "code",
   "execution_count": null,
   "id": "a3ad48fd",
   "metadata": {
    "id": "a3ad48fd",
    "outputId": "7fc9beec-d96b-42d8-8db3-799a632867e9"
   },
   "outputs": [
    {
     "data": {
      "text/plain": [
       "tensor([0, 0, 0, 0, 0, 0])"
      ]
     },
     "execution_count": 35,
     "metadata": {},
     "output_type": "execute_result"
    }
   ],
   "source": [
    "zeros_like = torch.zeros_like(arange)\n",
    "\n",
    "zeros_like"
   ]
  },
  {
   "cell_type": "markdown",
   "id": "a9540633",
   "metadata": {
    "id": "a9540633"
   },
   "source": [
    "<br>\n",
    "<br>\n",
    "\n",
    "# 2. Tensor operations\n"
   ]
  },
  {
   "cell_type": "markdown",
   "id": "d1dfa47b",
   "metadata": {
    "id": "d1dfa47b"
   },
   "source": [
    "<br>\n",
    "<br>\n",
    "\n",
    "### Descriptive stats / argmax / matrix calculation / reshape"
   ]
  },
  {
   "cell_type": "code",
   "execution_count": null,
   "id": "b5279b17",
   "metadata": {
    "id": "b5279b17",
    "outputId": "ac675b54-cae2-4f0d-d72b-27d719f7dc5c"
   },
   "outputs": [
    {
     "data": {
      "text/plain": [
       "tensor([[0.9883, 0.6587, 0.0312],\n",
       "        [0.8950, 0.8906, 0.6279]], dtype=torch.float16)"
      ]
     },
     "execution_count": 85,
     "metadata": {},
     "output_type": "execute_result"
    }
   ],
   "source": [
    "random_tensor = torch.rand(size=(2, 3), dtype=torch.float16)\n",
    "\n",
    "random_tensor"
   ]
  },
  {
   "cell_type": "code",
   "execution_count": null,
   "id": "7c8ba16d",
   "metadata": {
    "id": "7c8ba16d",
    "outputId": "f242500e-e016-4806-a15e-6328a7c7596a"
   },
   "outputs": [
    {
     "name": "stdout",
     "output_type": "stream",
     "text": [
      "0.03125\n",
      "0.98828125\n",
      "0.68212890625\n",
      "0.34912109375\n",
      "4.09375\n"
     ]
    }
   ],
   "source": [
    "print(random_tensor.min().item())\n",
    "print(random_tensor.max().item())\n",
    "print(random_tensor.mean().item())\n",
    "print(random_tensor.std().item())\n",
    "print(random_tensor.sum().item())"
   ]
  },
  {
   "cell_type": "code",
   "execution_count": null,
   "id": "69160180",
   "metadata": {
    "id": "69160180",
    "outputId": "4a5cddba-634b-4c44-e797-6790c269cb46"
   },
   "outputs": [
    {
     "name": "stdout",
     "output_type": "stream",
     "text": [
      "0.03125\n",
      "0.98828125\n",
      "0.68212890625\n",
      "0.34912109375\n",
      "4.09375\n"
     ]
    }
   ],
   "source": [
    "print(torch.min(random_tensor).item())\n",
    "print(torch.max(random_tensor).item())\n",
    "print(torch.mean(random_tensor).item())\n",
    "print(torch.std(random_tensor).item())\n",
    "print(torch.sum(random_tensor).item())"
   ]
  },
  {
   "cell_type": "code",
   "execution_count": null,
   "id": "758d2b64",
   "metadata": {
    "id": "758d2b64",
    "outputId": "76c3650d-77a6-4ae0-c8b4-d884e07d6f79"
   },
   "outputs": [
    {
     "data": {
      "text/plain": [
       "tensor([[0.9883, 0.6587, 0.0312],\n",
       "        [0.8950, 0.8906, 0.6279]], dtype=torch.float16)"
      ]
     },
     "execution_count": 92,
     "metadata": {},
     "output_type": "execute_result"
    }
   ],
   "source": [
    "random_tensor"
   ]
  },
  {
   "cell_type": "code",
   "execution_count": null,
   "id": "4973f623",
   "metadata": {
    "id": "4973f623",
    "outputId": "58ffd81d-51c3-4509-ca77-d9a9ce230aa5"
   },
   "outputs": [
    {
     "data": {
      "text/plain": [
       "tensor([0, 1, 1])"
      ]
     },
     "execution_count": 93,
     "metadata": {},
     "output_type": "execute_result"
    }
   ],
   "source": [
    "random_tensor.argmax(dim=0) # 열 방향"
   ]
  },
  {
   "cell_type": "code",
   "execution_count": null,
   "id": "10002d64",
   "metadata": {
    "id": "10002d64",
    "outputId": "374c9456-e8e6-4bfd-824c-3854c497362f"
   },
   "outputs": [
    {
     "data": {
      "text/plain": [
       "tensor([0, 0])"
      ]
     },
     "execution_count": 94,
     "metadata": {},
     "output_type": "execute_result"
    }
   ],
   "source": [
    "random_tensor.argmax(dim=1) # 행 방향"
   ]
  },
  {
   "cell_type": "code",
   "execution_count": null,
   "id": "98fe4d87",
   "metadata": {
    "id": "98fe4d87",
    "outputId": "917e9bd6-a784-43cf-8ee4-113e64e0c0e8"
   },
   "outputs": [
    {
     "data": {
      "text/plain": [
       "tensor([1, 2, 3])"
      ]
     },
     "execution_count": 71,
     "metadata": {},
     "output_type": "execute_result"
    }
   ],
   "source": [
    "tensor = torch.tensor([1, 2, 3])\n",
    "\n",
    "tensor"
   ]
  },
  {
   "cell_type": "code",
   "execution_count": null,
   "id": "cf1f52d1",
   "metadata": {
    "id": "cf1f52d1",
    "outputId": "48190767-5c32-4471-c297-a289e6280675"
   },
   "outputs": [
    {
     "data": {
      "text/plain": [
       "tensor([11, 12, 13])"
      ]
     },
     "execution_count": 43,
     "metadata": {},
     "output_type": "execute_result"
    }
   ],
   "source": [
    "tensor + 10 # numpy-like"
   ]
  },
  {
   "cell_type": "code",
   "execution_count": null,
   "id": "f58e611b",
   "metadata": {
    "id": "f58e611b",
    "outputId": "bebce3d0-de71-4f85-e40c-085b1acc4c7d"
   },
   "outputs": [
    {
     "data": {
      "text/plain": [
       "tensor([10, 20, 30])"
      ]
     },
     "execution_count": 44,
     "metadata": {},
     "output_type": "execute_result"
    }
   ],
   "source": [
    "tensor * 10 # numpy-like"
   ]
  },
  {
   "cell_type": "code",
   "execution_count": null,
   "id": "032d0d95",
   "metadata": {
    "id": "032d0d95",
    "outputId": "74210fa7-304f-4082-d1dd-82bc42ae7a8a"
   },
   "outputs": [
    {
     "name": "stdout",
     "output_type": "stream",
     "text": [
      "tensor([10, 20, 30])\n",
      "tensor([10, 20, 30])\n",
      "tensor([10, 20, 30])\n"
     ]
    }
   ],
   "source": [
    "print(tensor * 10)\n",
    "print(torch.mul(tensor, 10))\n",
    "print(torch.multiply(tensor, 10))"
   ]
  },
  {
   "cell_type": "code",
   "execution_count": null,
   "id": "31c0d776",
   "metadata": {
    "id": "31c0d776",
    "outputId": "4a80c6fe-1b9b-4aad-cfcc-165445502835"
   },
   "outputs": [
    {
     "data": {
      "text/plain": [
       "tensor([[1, 2],\n",
       "        [3, 4]])"
      ]
     },
     "execution_count": 95,
     "metadata": {},
     "output_type": "execute_result"
    }
   ],
   "source": [
    "# Matrix multiplication @ https://www.mathsisfun.com/algebra/matrix-multiplying.html\n",
    "\n",
    "tensor = torch.tensor([[1, 2], [3, 4]])\n",
    "\n",
    "tensor"
   ]
  },
  {
   "cell_type": "code",
   "execution_count": null,
   "id": "a32eb096",
   "metadata": {
    "id": "a32eb096",
    "outputId": "ad1fd7ae-8972-4180-b614-6084b8496184"
   },
   "outputs": [
    {
     "data": {
      "text/plain": [
       "tensor([[1, 3],\n",
       "        [2, 4]])"
      ]
     },
     "execution_count": 74,
     "metadata": {},
     "output_type": "execute_result"
    }
   ],
   "source": [
    "tensor.T # Transpose"
   ]
  },
  {
   "cell_type": "code",
   "execution_count": null,
   "id": "99b9c172",
   "metadata": {
    "id": "99b9c172",
    "outputId": "21807e61-5b89-426f-b2e2-3c2d900ee52d"
   },
   "outputs": [
    {
     "data": {
      "text/plain": [
       "tensor([[ 1,  4],\n",
       "        [ 9, 16]])"
      ]
     },
     "execution_count": 67,
     "metadata": {},
     "output_type": "execute_result"
    }
   ],
   "source": [
    "tensor * tensor # Element-wise multiplication"
   ]
  },
  {
   "cell_type": "code",
   "execution_count": null,
   "id": "2f48f325",
   "metadata": {
    "id": "2f48f325",
    "outputId": "1d219976-eeb5-4368-c904-b855ae4fb6aa"
   },
   "outputs": [
    {
     "data": {
      "text/plain": [
       "tensor([[ 7, 10],\n",
       "        [15, 22]])"
      ]
     },
     "execution_count": 68,
     "metadata": {},
     "output_type": "execute_result"
    }
   ],
   "source": [
    "# Matrix multiplication 1 \n",
    "\n",
    "torch.matmul(tensor, tensor) "
   ]
  },
  {
   "cell_type": "code",
   "execution_count": null,
   "id": "83621056",
   "metadata": {
    "id": "83621056",
    "outputId": "3fc65ada-cd74-4c95-8dc1-d10dadab7396"
   },
   "outputs": [
    {
     "data": {
      "text/plain": [
       "tensor([[ 7, 10],\n",
       "        [15, 22]])"
      ]
     },
     "execution_count": 75,
     "metadata": {},
     "output_type": "execute_result"
    }
   ],
   "source": [
    "# Matrix multiplication 2\n",
    "\n",
    "torch.mm(tensor, tensor)"
   ]
  },
  {
   "cell_type": "code",
   "execution_count": null,
   "id": "d17503e2",
   "metadata": {
    "id": "d17503e2",
    "outputId": "2e7f0e12-0326-4395-b99d-424717f5df5d"
   },
   "outputs": [
    {
     "data": {
      "text/plain": [
       "tensor([[ 7, 10],\n",
       "        [15, 22]])"
      ]
     },
     "execution_count": 69,
     "metadata": {},
     "output_type": "execute_result"
    }
   ],
   "source": [
    "# Matrix multiplication 3\n",
    "\n",
    "tensor @ tensor "
   ]
  },
  {
   "cell_type": "code",
   "execution_count": null,
   "id": "af946549",
   "metadata": {
    "id": "af946549",
    "outputId": "5d97644a-edb2-4735-f8df-94f2c0d428c2"
   },
   "outputs": [
    {
     "data": {
      "text/plain": [
       "tensor([[ 1,  2,  3,  4,  5,  6],\n",
       "        [ 7,  8,  9, 10, 11, 12]])"
      ]
     },
     "execution_count": 102,
     "metadata": {},
     "output_type": "execute_result"
    }
   ],
   "source": [
    "tensor = torch.tensor([[1, 2, 3, 4, 5, 6], [7, 8, 9, 10, 11, 12]])\n",
    "# tensor = torch.arange(1, 13).reshape(2, 6)\n",
    "\n",
    "tensor"
   ]
  },
  {
   "cell_type": "code",
   "execution_count": null,
   "id": "8e45c3b1",
   "metadata": {
    "id": "8e45c3b1",
    "outputId": "3a76b23a-946b-4a15-c506-4fab788f80c0"
   },
   "outputs": [
    {
     "data": {
      "text/plain": [
       "tensor([[ 1,  2,  3,  4],\n",
       "        [ 5,  6,  7,  8],\n",
       "        [ 9, 10, 11, 12]])"
      ]
     },
     "execution_count": 103,
     "metadata": {},
     "output_type": "execute_result"
    }
   ],
   "source": [
    "tensor.reshape(3, 4) # numpy-like"
   ]
  },
  {
   "cell_type": "markdown",
   "id": "f333bac8",
   "metadata": {
    "id": "f333bac8"
   },
   "source": [
    "<br>\n",
    "<br>\n",
    "\n",
    "# 3. Pytorch tensor <-> Numpy array\n"
   ]
  },
  {
   "cell_type": "markdown",
   "id": "a66d0657",
   "metadata": {
    "id": "a66d0657"
   },
   "source": [
    "<br>\n",
    "<br>\n",
    "\n",
    "### 1) Pytorch tensor -> Numpy array \n",
    "<br>\n",
    "\n",
    "#### -> tensor.**numpy**() 활용"
   ]
  },
  {
   "cell_type": "code",
   "execution_count": null,
   "id": "b6e0ca66",
   "metadata": {
    "id": "b6e0ca66",
    "outputId": "ab4ec0ac-fa99-4328-80a9-48695e5b8ad8"
   },
   "outputs": [
    {
     "data": {
      "text/plain": [
       "tensor([[1.7578e-01, 2.2510e-01, 7.5000e-01],\n",
       "        [2.2607e-01, 4.8828e-04, 2.6074e-01]], dtype=torch.float16)"
      ]
     },
     "execution_count": 111,
     "metadata": {},
     "output_type": "execute_result"
    }
   ],
   "source": [
    "random_tensor = torch.rand(size=(2, 3), dtype=torch.float16)\n",
    "\n",
    "random_tensor"
   ]
  },
  {
   "cell_type": "code",
   "execution_count": null,
   "id": "1abbfe77",
   "metadata": {
    "id": "1abbfe77",
    "outputId": "5e0c2bcd-868a-40ce-e0e0-169a7dbcec98"
   },
   "outputs": [
    {
     "data": {
      "text/plain": [
       "array([[1.758e-01, 2.251e-01, 7.500e-01],\n",
       "       [2.261e-01, 4.883e-04, 2.607e-01]], dtype=float16)"
      ]
     },
     "execution_count": 113,
     "metadata": {},
     "output_type": "execute_result"
    }
   ],
   "source": [
    "np_array = random_tensor.numpy()\n",
    "\n",
    "np_array "
   ]
  },
  {
   "cell_type": "code",
   "execution_count": null,
   "id": "fb744d3e",
   "metadata": {
    "id": "fb744d3e",
    "outputId": "01ffe642-fe46-49a1-d56b-da3205b8e2f2"
   },
   "outputs": [
    {
     "data": {
      "text/plain": [
       "numpy.ndarray"
      ]
     },
     "execution_count": 114,
     "metadata": {},
     "output_type": "execute_result"
    }
   ],
   "source": [
    "type(np_array)"
   ]
  },
  {
   "cell_type": "markdown",
   "id": "316748af",
   "metadata": {
    "id": "316748af"
   },
   "source": [
    "<br>\n",
    "<br>\n",
    "\n",
    "### 2) Numpy array -> Pytorch tensor\n",
    "<br>\n",
    "\n",
    "#### -> torch.**from_numpy**() 활용"
   ]
  },
  {
   "cell_type": "code",
   "execution_count": null,
   "id": "a57a4218",
   "metadata": {
    "id": "a57a4218"
   },
   "outputs": [],
   "source": [
    "import numpy as np"
   ]
  },
  {
   "cell_type": "code",
   "execution_count": null,
   "id": "8fe356c1",
   "metadata": {
    "id": "8fe356c1",
    "outputId": "51bdc848-63d7-484e-95ad-4e9394faddc4"
   },
   "outputs": [
    {
     "data": {
      "text/plain": [
       "array([[ 0.,  1.,  2.,  3.,  4.,  5.],\n",
       "       [ 6.,  7.,  8.,  9., 10., 11.]])"
      ]
     },
     "execution_count": 116,
     "metadata": {},
     "output_type": "execute_result"
    }
   ],
   "source": [
    "array = np.arange(12.0).reshape(2, 6)\n",
    "\n",
    "array"
   ]
  },
  {
   "cell_type": "code",
   "execution_count": null,
   "id": "8d3ad547",
   "metadata": {
    "id": "8d3ad547",
    "outputId": "e20d5848-8319-4cde-f18a-5253f81e3cfe"
   },
   "outputs": [
    {
     "data": {
      "text/plain": [
       "tensor([[ 0.,  1.,  2.,  3.,  4.,  5.],\n",
       "        [ 6.,  7.,  8.,  9., 10., 11.]], dtype=torch.float64)"
      ]
     },
     "execution_count": 117,
     "metadata": {},
     "output_type": "execute_result"
    }
   ],
   "source": [
    "torch_tensor = torch.from_numpy(array)\n",
    "\n",
    "torch_tensor"
   ]
  },
  {
   "cell_type": "code",
   "execution_count": null,
   "id": "b075d33c",
   "metadata": {
    "id": "b075d33c",
    "outputId": "696e344e-1b1d-4a47-efeb-274a5d318919"
   },
   "outputs": [
    {
     "data": {
      "text/plain": [
       "torch.Tensor"
      ]
     },
     "execution_count": 118,
     "metadata": {},
     "output_type": "execute_result"
    }
   ],
   "source": [
    "type(torch_tensor)"
   ]
  },
  {
   "cell_type": "markdown",
   "id": "3bac5fe1",
   "metadata": {
    "id": "3bac5fe1"
   },
   "source": [
    "<br>\n",
    "<br>\n",
    "\n",
    "# (Appendix 1) Reproducibility \n"
   ]
  },
  {
   "cell_type": "code",
   "execution_count": 3,
   "id": "58c3d1a8",
   "metadata": {
    "colab": {
     "base_uri": "https://localhost:8080/"
    },
    "id": "58c3d1a8",
    "outputId": "ef7c04b2-b4d9-4b50-c0bb-0e3b63db9108"
   },
   "outputs": [
    {
     "data": {
      "text/plain": [
       "<torch._C.Generator at 0x7f8a1d049d50>"
      ]
     },
     "execution_count": 3,
     "metadata": {},
     "output_type": "execute_result"
    }
   ],
   "source": [
    "seed = 42 \n",
    "\n",
    "torch.manual_seed(seed=seed) \n",
    "\n",
    "# torch.cuda.manual_seed(seed=seed) # for GPU "
   ]
  },
  {
   "cell_type": "code",
   "execution_count": null,
   "id": "fc571c9d",
   "metadata": {
    "id": "fc571c9d",
    "outputId": "ff733d32-862d-4e38-def5-5e88786f1f5c"
   },
   "outputs": [
    {
     "data": {
      "text/plain": [
       "tensor([[0.8823, 0.9150, 0.3829, 0.9593],\n",
       "        [0.3904, 0.6009, 0.2566, 0.7936],\n",
       "        [0.9408, 0.1332, 0.9346, 0.5936]])"
      ]
     },
     "execution_count": 129,
     "metadata": {},
     "output_type": "execute_result"
    }
   ],
   "source": [
    "torch.manual_seed(seed=seed) \n",
    "\n",
    "random_tensor_1 = torch.rand(3, 4)\n",
    "\n",
    "random_tensor_1"
   ]
  },
  {
   "cell_type": "code",
   "execution_count": null,
   "id": "c4f7a3e2",
   "metadata": {
    "id": "c4f7a3e2",
    "outputId": "99a52c4a-4a81-4829-c739-7a9f441ca38d"
   },
   "outputs": [
    {
     "data": {
      "text/plain": [
       "tensor([[0.8823, 0.9150, 0.3829, 0.9593],\n",
       "        [0.3904, 0.6009, 0.2566, 0.7936],\n",
       "        [0.9408, 0.1332, 0.9346, 0.5936]])"
      ]
     },
     "execution_count": 130,
     "metadata": {},
     "output_type": "execute_result"
    }
   ],
   "source": [
    "# rand() 함수 호출 시마다 seed 값을 다시금 세팅해주어야 합니다. (아래 라인 주석 처리 시 다른 tensor가 만들어짐)\n",
    "torch.manual_seed(seed=seed) \n",
    "\n",
    "random_tensor_2 = torch.rand(3, 4)\n",
    "\n",
    "random_tensor_2"
   ]
  },
  {
   "cell_type": "markdown",
   "id": "5d00a467",
   "metadata": {
    "id": "5d00a467"
   },
   "source": [
    "<br>\n",
    "<br>\n",
    "\n",
    "# (Appendix 2) Using GPUs\n",
    "<br>\n",
    "\n",
    "### Colab (GPU로 런타임 변경 필요) 혹은 Nvidia GPU가 있는 로컬환경에서 실행해주세요. \n",
    "#### (PyTorch installation guide @ https://pytorch.org/get-started/locally/)"
   ]
  },
  {
   "cell_type": "code",
   "execution_count": 4,
   "id": "CHytqcqa1pTn",
   "metadata": {
    "colab": {
     "base_uri": "https://localhost:8080/"
    },
    "id": "CHytqcqa1pTn",
    "outputId": "1aae6271-22aa-4d8b-86a4-8fc47f92bddc"
   },
   "outputs": [
    {
     "name": "stdout",
     "output_type": "stream",
     "text": [
      "Tue Nov 15 05:19:14 2022       \n",
      "+-----------------------------------------------------------------------------+\n",
      "| NVIDIA-SMI 460.32.03    Driver Version: 460.32.03    CUDA Version: 11.2     |\n",
      "|-------------------------------+----------------------+----------------------+\n",
      "| GPU  Name        Persistence-M| Bus-Id        Disp.A | Volatile Uncorr. ECC |\n",
      "| Fan  Temp  Perf  Pwr:Usage/Cap|         Memory-Usage | GPU-Util  Compute M. |\n",
      "|                               |                      |               MIG M. |\n",
      "|===============================+======================+======================|\n",
      "|   0  Tesla T4            Off  | 00000000:00:04.0 Off |                    0 |\n",
      "| N/A   59C    P8     9W /  70W |      0MiB / 15109MiB |      0%      Default |\n",
      "|                               |                      |                  N/A |\n",
      "+-------------------------------+----------------------+----------------------+\n",
      "                                                                               \n",
      "+-----------------------------------------------------------------------------+\n",
      "| Processes:                                                                  |\n",
      "|  GPU   GI   CI        PID   Type   Process name                  GPU Memory |\n",
      "|        ID   ID                                                   Usage      |\n",
      "|=============================================================================|\n",
      "|  No running processes found                                                 |\n",
      "+-----------------------------------------------------------------------------+\n"
     ]
    }
   ],
   "source": [
    "!nvidia-smi"
   ]
  },
  {
   "cell_type": "code",
   "execution_count": 2,
   "id": "573c2107",
   "metadata": {
    "id": "573c2107"
   },
   "outputs": [],
   "source": [
    "import torch"
   ]
  },
  {
   "cell_type": "code",
   "execution_count": 5,
   "id": "bJZy9tjz1Q1F",
   "metadata": {
    "colab": {
     "base_uri": "https://localhost:8080/"
    },
    "id": "bJZy9tjz1Q1F",
    "outputId": "e1114166-8d54-4c99-d6d4-c6c5e673ea46"
   },
   "outputs": [
    {
     "data": {
      "text/plain": [
       "True"
      ]
     },
     "execution_count": 5,
     "metadata": {},
     "output_type": "execute_result"
    }
   ],
   "source": [
    "# Check the availability of Nvidia GPU & CUDA (Nvidia GPUs' computing toolkit)\n",
    "\n",
    "torch.cuda.is_available()"
   ]
  },
  {
   "cell_type": "code",
   "execution_count": 6,
   "id": "MeolAQPQ2dgs",
   "metadata": {
    "colab": {
     "base_uri": "https://localhost:8080/"
    },
    "id": "MeolAQPQ2dgs",
    "outputId": "20ba4e01-6344-411e-e0ae-6fd67ce59867"
   },
   "outputs": [
    {
     "data": {
      "text/plain": [
       "1"
      ]
     },
     "execution_count": 6,
     "metadata": {},
     "output_type": "execute_result"
    }
   ],
   "source": [
    "# Check the number of GPUs\n",
    "\n",
    "torch.cuda.device_count()"
   ]
  },
  {
   "cell_type": "code",
   "execution_count": 7,
   "id": "kzbYkIai1ogl",
   "metadata": {
    "colab": {
     "base_uri": "https://localhost:8080/",
     "height": 35
    },
    "id": "kzbYkIai1ogl",
    "outputId": "d3b5727d-b5a0-43a1-8d3c-b606b131945a"
   },
   "outputs": [
    {
     "data": {
      "application/vnd.google.colaboratory.intrinsic+json": {
       "type": "string"
      },
      "text/plain": [
       "'cuda'"
      ]
     },
     "execution_count": 7,
     "metadata": {},
     "output_type": "execute_result"
    }
   ],
   "source": [
    "# Set the variable \"device\" with \"cuda\" or \"cpu\"\n",
    "\n",
    "device = \"cuda\" if torch.cuda.is_available() else \"cpu\"\n",
    "\n",
    "device"
   ]
  },
  {
   "cell_type": "markdown",
   "id": "wTjpAQ38vG7M",
   "metadata": {
    "id": "wTjpAQ38vG7M"
   },
   "source": [
    "<br>\n",
    "<br>\n",
    "\n",
    "### Putting tensors (and models) on the GPU \n",
    "<br>\n",
    "\n",
    "#### -> tensor.**to(device)** 활용"
   ]
  },
  {
   "cell_type": "code",
   "execution_count": 9,
   "id": "vl2PHUgm2FCa",
   "metadata": {
    "colab": {
     "base_uri": "https://localhost:8080/"
    },
    "id": "vl2PHUgm2FCa",
    "outputId": "fd573a70-6987-4983-a0a5-dbb565f6e931"
   },
   "outputs": [
    {
     "name": "stdout",
     "output_type": "stream",
     "text": [
      "tensor([1, 2, 3])\n",
      "cpu\n"
     ]
    }
   ],
   "source": [
    "tensor = torch.tensor([1, 2, 3])\n",
    "\n",
    "print(tensor)\n",
    "print(tensor.device)"
   ]
  },
  {
   "cell_type": "code",
   "execution_count": 10,
   "id": "tD5DzYcQvPfG",
   "metadata": {
    "colab": {
     "base_uri": "https://localhost:8080/"
    },
    "id": "tD5DzYcQvPfG",
    "outputId": "e40ad736-8bb8-452d-9ba4-0d213464410c"
   },
   "outputs": [
    {
     "data": {
      "text/plain": [
       "tensor([1, 2, 3], device='cuda:0')"
      ]
     },
     "execution_count": 10,
     "metadata": {},
     "output_type": "execute_result"
    }
   ],
   "source": [
    "tensor_on_gpu = tensor.to(device)\n",
    "\n",
    "tensor_on_gpu"
   ]
  },
  {
   "cell_type": "code",
   "execution_count": 12,
   "id": "Bc7Nb2Uavcii",
   "metadata": {
    "id": "Bc7Nb2Uavcii"
   },
   "outputs": [],
   "source": [
    "# tensor # To overwrite tensors, we should reassign them."
   ]
  },
  {
   "cell_type": "code",
   "execution_count": 13,
   "id": "3rPF9D4qvdGp",
   "metadata": {
    "colab": {
     "base_uri": "https://localhost:8080/",
     "height": 166
    },
    "id": "3rPF9D4qvdGp",
    "outputId": "049b5cad-fc73-4807-dc92-d07d95cc4896"
   },
   "outputs": [
    {
     "ename": "TypeError",
     "evalue": "ignored",
     "output_type": "error",
     "traceback": [
      "\u001b[0;31m---------------------------------------------------------------------------\u001b[0m",
      "\u001b[0;31mTypeError\u001b[0m                                 Traceback (most recent call last)",
      "\u001b[0;32m<ipython-input-13-e0c96c7436fd>\u001b[0m in \u001b[0;36m<module>\u001b[0;34m\u001b[0m\n\u001b[0;32m----> 1\u001b[0;31m \u001b[0mtensor_on_gpu\u001b[0m\u001b[0;34m.\u001b[0m\u001b[0mnumpy\u001b[0m\u001b[0;34m(\u001b[0m\u001b[0;34m)\u001b[0m\u001b[0;34m\u001b[0m\u001b[0;34m\u001b[0m\u001b[0m\n\u001b[0m",
      "\u001b[0;31mTypeError\u001b[0m: can't convert cuda:0 device type tensor to numpy. Use Tensor.cpu() to copy the tensor to host memory first."
     ]
    }
   ],
   "source": [
    "# GPU에 올라간 Tensor는 Numpy array로 변환 불가 (CPU로 되돌려야 함)\n",
    "\n",
    "tensor_on_gpu.numpy()"
   ]
  },
  {
   "cell_type": "code",
   "execution_count": 14,
   "id": "PpIWK5gkv6CL",
   "metadata": {
    "colab": {
     "base_uri": "https://localhost:8080/"
    },
    "id": "PpIWK5gkv6CL",
    "outputId": "41253230-3302-432d-a6e6-f153ecbfe7f4"
   },
   "outputs": [
    {
     "data": {
      "text/plain": [
       "array([1, 2, 3])"
      ]
     },
     "execution_count": 14,
     "metadata": {},
     "output_type": "execute_result"
    }
   ],
   "source": [
    "tensor_on_cpu = tensor_on_gpu.cpu() # returns a copy of the GPU tensor in CPU memory (the original tensor)\n",
    "\n",
    "tensor_on_cpu.numpy()"
   ]
  },
  {
   "cell_type": "code",
   "execution_count": null,
   "id": "6lMB5lUBwI16",
   "metadata": {
    "id": "6lMB5lUBwI16"
   },
   "outputs": [],
   "source": []
  }
 ],
 "metadata": {
  "accelerator": "GPU",
  "colab": {
   "collapsed_sections": [
    "57110991",
    "c69fb87a",
    "d1dfa47b",
    "316748af"
   ],
   "provenance": []
  },
  "gpuClass": "standard",
  "kernelspec": {
   "display_name": "Python 3",
   "language": "python",
   "name": "python3"
  },
  "language_info": {
   "codemirror_mode": {
    "name": "ipython",
    "version": 3
   },
   "file_extension": ".py",
   "mimetype": "text/x-python",
   "name": "python",
   "nbconvert_exporter": "python",
   "pygments_lexer": "ipython3",
   "version": "3.8.8"
  }
 },
 "nbformat": 4,
 "nbformat_minor": 5
}
