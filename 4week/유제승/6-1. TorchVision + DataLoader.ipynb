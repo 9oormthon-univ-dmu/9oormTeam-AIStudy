{
 "cells": [
  {
   "cell_type": "markdown",
   "id": "233d345c",
   "metadata": {},
   "source": [
    "<br><br>\n",
    "\n",
    "<p style=\"color:red; font-size:1.3em;\">종종 Jupyter notebook에서 <b>Kernel Dead</b> 메시지가 뜨면서 강제로 kernel이 종료될 수 있습니다.</p><br>\n",
    "<p style=\"font-size:1.3em;\">이 현상은 이미지 파일 등을 처리할 때 컴퓨터의 메모리 부족 등의 이유로 발생할 수 있으며,<br><br>\n",
    "만일 Kernel Dead 메시지가 뜨면 <span style=\"color:red;\"> <b>다시 첫번째 Cell부터 실행하며 내려가다가 해당 Cell을 제외하고 실행</b>시켜주세요!</span></p>\n",
    "    \n",
    "<br><br>"
   ]
  },
  {
   "cell_type": "markdown",
   "id": "9a080336",
   "metadata": {},
   "source": [
    "<hr>\n",
    "<br>\n",
    "\n",
    "#### **torchvision** <br><br> :\t Computer vision 문제들에서 활용되는 datasets / model architectures / image transformations / etc. 들이 들어있는 **라이브러리**\n",
    "<br>\n",
    "\n",
    "<hr>\n",
    "<br>\n",
    "\n",
    "#### torchvision.**datasets** <br><br> :  Computer vision 관련 예시 데이터셋 (image classification / object detection / image captioning / video classification / etc.)<br><br> + Custom dataset 을 만들기 위한 base class들도 포함되어 있음\n",
    "<br>\n",
    "\n",
    "<hr>\n",
    "<br>\n",
    "\n",
    "#### torchvision.**models** <br><br> :  Computer vision 관련 Pre-trained models\n",
    "<br>\n",
    "\n",
    "<hr>\n",
    "<br>\n",
    "\n",
    "#### torchvision.**transforms** <br><br> :  Image transformation 관련 도구들\n",
    "<br>\n",
    "\n",
    "<hr>\n",
    "<br>\n",
    "\n",
    "#### torch.**utils.data.Dataset** <br><br> :  PyTorch의 기본 Dataset 클래스\n",
    "<br>\n",
    "\n",
    "<hr>\n",
    "<br>\n",
    "\n",
    "#### torch.**utils.data.DataLoader** <br><br> : torch.utils.data.Dataset 클래스 변수를 바탕으로 python iterable을 생성해주는 클래스\n",
    "<br>\n",
    "\n",
    "<hr>\n",
    "<br>"
   ]
  },
  {
   "cell_type": "code",
   "execution_count": 2,
   "id": "692e55ba",
   "metadata": {},
   "outputs": [
    {
     "name": "stdout",
     "output_type": "stream",
     "text": [
      "2.1.0\n",
      "0.16.0\n"
     ]
    }
   ],
   "source": [
    "import numpy as np\n",
    "import pandas as pd\n",
    "import matplotlib.pyplot as plt\n",
    "\n",
    "# tqdm.auto : automatically set the kind of progress bar (Jupyter Notebook vs. Python script)\n",
    "from tqdm.auto import tqdm \n",
    "\n",
    "import torch\n",
    "from torch import nn\n",
    "\n",
    "from torchmetrics import Accuracy\n",
    "\n",
    "import torchvision # Py\"torch\" for computer \"vision\"\n",
    "from torchvision import transforms\n",
    "\n",
    "print(torch.__version__)\n",
    "print(torchvision.__version__)"
   ]
  },
  {
   "cell_type": "markdown",
   "id": "71fdd730",
   "metadata": {},
   "source": [
    "<br>\n",
    "<br>\n",
    "\n",
    "# 1. Preparing the dataset"
   ]
  },
  {
   "cell_type": "markdown",
   "id": "7d7f8d74",
   "metadata": {},
   "source": [
    "<br>\n",
    "<br>\n",
    "\n",
    "## 1) Download & browse the dataset"
   ]
  },
  {
   "cell_type": "code",
   "execution_count": 3,
   "id": "f3fe6d9c",
   "metadata": {},
   "outputs": [],
   "source": [
    "train_data = torchvision.datasets.FashionMNIST( # FashionMNIST 데이터 활용\n",
    "    root=\"data\", # 데이터를 다운로드할 디렉토리\n",
    "    train=True, # get \"train\" data\n",
    "    download=True,\n",
    "    transform=transforms.ToTensor(), # (Original) PIL format -> PyTorch tensors (\"to tensor\")\n",
    "    target_transform=None # target(label) 데이터 역시도 원할 경우 transform 가능\n",
    ")\n",
    "\n",
    "# Setup testing data\n",
    "test_data = torchvision.datasets.FashionMNIST(\n",
    "    root=\"data\",\n",
    "    train=False, # get test data\n",
    "    download=True,\n",
    "    transform=transforms.ToTensor() # (Original) PIL format -> PyTorch tensors\n",
    ")"
   ]
  },
  {
   "cell_type": "markdown",
   "id": "2faa1a64",
   "metadata": {},
   "source": [
    "<br>\n",
    "\n",
    "### * train_data & test_data \n",
    "<br>\n",
    "\n",
    "#### - train_data.**data** : X <br>\n",
    "#### - train_data.**targets** : y<br>\n",
    "#### - train_data.**classes** : original names of classes<br>\n",
    "#### - train_data**[0]** : first X & y"
   ]
  },
  {
   "cell_type": "code",
   "execution_count": 6,
   "id": "a3eea6a0",
   "metadata": {},
   "outputs": [
    {
     "data": {
      "text/plain": [
       "tensor([9, 0, 0,  ..., 3, 0, 5])"
      ]
     },
     "execution_count": 6,
     "metadata": {},
     "output_type": "execute_result"
    }
   ],
   "source": [
    "# X\n",
    "\n",
    "train_data.targets #.shape "
   ]
  },
  {
   "cell_type": "code",
   "execution_count": 7,
   "id": "5fefcb00",
   "metadata": {},
   "outputs": [
    {
     "data": {
      "text/plain": [
       "tensor([9, 0, 0,  ..., 3, 0, 5])"
      ]
     },
     "execution_count": 7,
     "metadata": {},
     "output_type": "execute_result"
    }
   ],
   "source": [
    "# y\n",
    "\n",
    "train_data.targets #.shape"
   ]
  },
  {
   "cell_type": "code",
   "execution_count": 8,
   "id": "11ab947d",
   "metadata": {},
   "outputs": [
    {
     "data": {
      "text/plain": [
       "['T-shirt/top',\n",
       " 'Trouser',\n",
       " 'Pullover',\n",
       " 'Dress',\n",
       " 'Coat',\n",
       " 'Sandal',\n",
       " 'Shirt',\n",
       " 'Sneaker',\n",
       " 'Bag',\n",
       " 'Ankle boot']"
      ]
     },
     "execution_count": 8,
     "metadata": {},
     "output_type": "execute_result"
    }
   ],
   "source": [
    "train_data.classes"
   ]
  },
  {
   "cell_type": "code",
   "execution_count": 9,
   "id": "cc8d2150",
   "metadata": {},
   "outputs": [
    {
     "data": {
      "text/plain": [
       "{'T-shirt/top': 0,\n",
       " 'Trouser': 1,\n",
       " 'Pullover': 2,\n",
       " 'Dress': 3,\n",
       " 'Coat': 4,\n",
       " 'Sandal': 5,\n",
       " 'Shirt': 6,\n",
       " 'Sneaker': 7,\n",
       " 'Bag': 8,\n",
       " 'Ankle boot': 9}"
      ]
     },
     "execution_count": 9,
     "metadata": {},
     "output_type": "execute_result"
    }
   ],
   "source": [
    "train_data.class_to_idx"
   ]
  },
  {
   "cell_type": "code",
   "execution_count": 10,
   "id": "f07f0841",
   "metadata": {},
   "outputs": [
    {
     "data": {
      "text/plain": [
       "(tensor([[[0.0000, 0.0000, 0.0000, 0.0000, 0.0000, 0.0000, 0.0000, 0.0000,\n",
       "           0.0000, 0.0000, 0.0000, 0.0000, 0.0000, 0.0000, 0.0000, 0.0000,\n",
       "           0.0000, 0.0000, 0.0000, 0.0000, 0.0000, 0.0000, 0.0000, 0.0000,\n",
       "           0.0000, 0.0000, 0.0000, 0.0000],\n",
       "          [0.0000, 0.0000, 0.0000, 0.0000, 0.0000, 0.0000, 0.0000, 0.0000,\n",
       "           0.0000, 0.0000, 0.0000, 0.0000, 0.0000, 0.0000, 0.0000, 0.0000,\n",
       "           0.0000, 0.0000, 0.0000, 0.0000, 0.0000, 0.0000, 0.0000, 0.0000,\n",
       "           0.0000, 0.0000, 0.0000, 0.0000],\n",
       "          [0.0000, 0.0000, 0.0000, 0.0000, 0.0000, 0.0000, 0.0000, 0.0000,\n",
       "           0.0000, 0.0000, 0.0000, 0.0000, 0.0000, 0.0000, 0.0000, 0.0000,\n",
       "           0.0000, 0.0000, 0.0000, 0.0000, 0.0000, 0.0000, 0.0000, 0.0000,\n",
       "           0.0000, 0.0000, 0.0000, 0.0000],\n",
       "          [0.0000, 0.0000, 0.0000, 0.0000, 0.0000, 0.0000, 0.0000, 0.0000,\n",
       "           0.0000, 0.0000, 0.0000, 0.0000, 0.0039, 0.0000, 0.0000, 0.0510,\n",
       "           0.2863, 0.0000, 0.0000, 0.0039, 0.0157, 0.0000, 0.0000, 0.0000,\n",
       "           0.0000, 0.0039, 0.0039, 0.0000],\n",
       "          [0.0000, 0.0000, 0.0000, 0.0000, 0.0000, 0.0000, 0.0000, 0.0000,\n",
       "           0.0000, 0.0000, 0.0000, 0.0000, 0.0118, 0.0000, 0.1412, 0.5333,\n",
       "           0.4980, 0.2431, 0.2118, 0.0000, 0.0000, 0.0000, 0.0039, 0.0118,\n",
       "           0.0157, 0.0000, 0.0000, 0.0118],\n",
       "          [0.0000, 0.0000, 0.0000, 0.0000, 0.0000, 0.0000, 0.0000, 0.0000,\n",
       "           0.0000, 0.0000, 0.0000, 0.0000, 0.0235, 0.0000, 0.4000, 0.8000,\n",
       "           0.6902, 0.5255, 0.5647, 0.4824, 0.0902, 0.0000, 0.0000, 0.0000,\n",
       "           0.0000, 0.0471, 0.0392, 0.0000],\n",
       "          [0.0000, 0.0000, 0.0000, 0.0000, 0.0000, 0.0000, 0.0000, 0.0000,\n",
       "           0.0000, 0.0000, 0.0000, 0.0000, 0.0000, 0.0000, 0.6078, 0.9255,\n",
       "           0.8118, 0.6980, 0.4196, 0.6118, 0.6314, 0.4275, 0.2510, 0.0902,\n",
       "           0.3020, 0.5098, 0.2824, 0.0588],\n",
       "          [0.0000, 0.0000, 0.0000, 0.0000, 0.0000, 0.0000, 0.0000, 0.0000,\n",
       "           0.0000, 0.0000, 0.0000, 0.0039, 0.0000, 0.2706, 0.8118, 0.8745,\n",
       "           0.8549, 0.8471, 0.8471, 0.6392, 0.4980, 0.4745, 0.4784, 0.5725,\n",
       "           0.5529, 0.3451, 0.6745, 0.2588],\n",
       "          [0.0000, 0.0000, 0.0000, 0.0000, 0.0000, 0.0000, 0.0000, 0.0000,\n",
       "           0.0000, 0.0039, 0.0039, 0.0039, 0.0000, 0.7843, 0.9098, 0.9098,\n",
       "           0.9137, 0.8980, 0.8745, 0.8745, 0.8431, 0.8353, 0.6431, 0.4980,\n",
       "           0.4824, 0.7686, 0.8980, 0.0000],\n",
       "          [0.0000, 0.0000, 0.0000, 0.0000, 0.0000, 0.0000, 0.0000, 0.0000,\n",
       "           0.0000, 0.0000, 0.0000, 0.0000, 0.0000, 0.7176, 0.8824, 0.8471,\n",
       "           0.8745, 0.8941, 0.9216, 0.8902, 0.8784, 0.8706, 0.8784, 0.8667,\n",
       "           0.8745, 0.9608, 0.6784, 0.0000],\n",
       "          [0.0000, 0.0000, 0.0000, 0.0000, 0.0000, 0.0000, 0.0000, 0.0000,\n",
       "           0.0000, 0.0000, 0.0000, 0.0000, 0.0000, 0.7569, 0.8941, 0.8549,\n",
       "           0.8353, 0.7765, 0.7059, 0.8314, 0.8235, 0.8275, 0.8353, 0.8745,\n",
       "           0.8627, 0.9529, 0.7922, 0.0000],\n",
       "          [0.0000, 0.0000, 0.0000, 0.0000, 0.0000, 0.0000, 0.0000, 0.0000,\n",
       "           0.0000, 0.0039, 0.0118, 0.0000, 0.0471, 0.8588, 0.8627, 0.8314,\n",
       "           0.8549, 0.7529, 0.6627, 0.8902, 0.8157, 0.8549, 0.8784, 0.8314,\n",
       "           0.8863, 0.7725, 0.8196, 0.2039],\n",
       "          [0.0000, 0.0000, 0.0000, 0.0000, 0.0000, 0.0000, 0.0000, 0.0000,\n",
       "           0.0000, 0.0000, 0.0235, 0.0000, 0.3882, 0.9569, 0.8706, 0.8627,\n",
       "           0.8549, 0.7961, 0.7765, 0.8667, 0.8431, 0.8353, 0.8706, 0.8627,\n",
       "           0.9608, 0.4667, 0.6549, 0.2196],\n",
       "          [0.0000, 0.0000, 0.0000, 0.0000, 0.0000, 0.0000, 0.0000, 0.0000,\n",
       "           0.0000, 0.0157, 0.0000, 0.0000, 0.2157, 0.9255, 0.8941, 0.9020,\n",
       "           0.8941, 0.9412, 0.9098, 0.8353, 0.8549, 0.8745, 0.9176, 0.8510,\n",
       "           0.8510, 0.8196, 0.3608, 0.0000],\n",
       "          [0.0000, 0.0000, 0.0039, 0.0157, 0.0235, 0.0275, 0.0078, 0.0000,\n",
       "           0.0000, 0.0000, 0.0000, 0.0000, 0.9294, 0.8863, 0.8510, 0.8745,\n",
       "           0.8706, 0.8588, 0.8706, 0.8667, 0.8471, 0.8745, 0.8980, 0.8431,\n",
       "           0.8549, 1.0000, 0.3020, 0.0000],\n",
       "          [0.0000, 0.0118, 0.0000, 0.0000, 0.0000, 0.0000, 0.0000, 0.0000,\n",
       "           0.0000, 0.2431, 0.5686, 0.8000, 0.8941, 0.8118, 0.8353, 0.8667,\n",
       "           0.8549, 0.8157, 0.8275, 0.8549, 0.8784, 0.8745, 0.8588, 0.8431,\n",
       "           0.8784, 0.9569, 0.6235, 0.0000],\n",
       "          [0.0000, 0.0000, 0.0000, 0.0000, 0.0706, 0.1725, 0.3216, 0.4196,\n",
       "           0.7412, 0.8941, 0.8627, 0.8706, 0.8510, 0.8863, 0.7843, 0.8039,\n",
       "           0.8275, 0.9020, 0.8784, 0.9176, 0.6902, 0.7373, 0.9804, 0.9725,\n",
       "           0.9137, 0.9333, 0.8431, 0.0000],\n",
       "          [0.0000, 0.2235, 0.7333, 0.8157, 0.8784, 0.8667, 0.8784, 0.8157,\n",
       "           0.8000, 0.8392, 0.8157, 0.8196, 0.7843, 0.6235, 0.9608, 0.7569,\n",
       "           0.8078, 0.8745, 1.0000, 1.0000, 0.8667, 0.9176, 0.8667, 0.8275,\n",
       "           0.8627, 0.9098, 0.9647, 0.0000],\n",
       "          [0.0118, 0.7922, 0.8941, 0.8784, 0.8667, 0.8275, 0.8275, 0.8392,\n",
       "           0.8039, 0.8039, 0.8039, 0.8627, 0.9412, 0.3137, 0.5882, 1.0000,\n",
       "           0.8980, 0.8667, 0.7373, 0.6039, 0.7490, 0.8235, 0.8000, 0.8196,\n",
       "           0.8706, 0.8941, 0.8824, 0.0000],\n",
       "          [0.3843, 0.9137, 0.7765, 0.8235, 0.8706, 0.8980, 0.8980, 0.9176,\n",
       "           0.9765, 0.8627, 0.7608, 0.8431, 0.8510, 0.9451, 0.2549, 0.2863,\n",
       "           0.4157, 0.4588, 0.6588, 0.8588, 0.8667, 0.8431, 0.8510, 0.8745,\n",
       "           0.8745, 0.8784, 0.8980, 0.1137],\n",
       "          [0.2941, 0.8000, 0.8314, 0.8000, 0.7569, 0.8039, 0.8275, 0.8824,\n",
       "           0.8471, 0.7255, 0.7725, 0.8078, 0.7765, 0.8353, 0.9412, 0.7647,\n",
       "           0.8902, 0.9608, 0.9373, 0.8745, 0.8549, 0.8314, 0.8196, 0.8706,\n",
       "           0.8627, 0.8667, 0.9020, 0.2627],\n",
       "          [0.1882, 0.7961, 0.7176, 0.7608, 0.8353, 0.7725, 0.7255, 0.7451,\n",
       "           0.7608, 0.7529, 0.7922, 0.8392, 0.8588, 0.8667, 0.8627, 0.9255,\n",
       "           0.8824, 0.8471, 0.7804, 0.8078, 0.7294, 0.7098, 0.6941, 0.6745,\n",
       "           0.7098, 0.8039, 0.8078, 0.4510],\n",
       "          [0.0000, 0.4784, 0.8588, 0.7569, 0.7020, 0.6706, 0.7176, 0.7686,\n",
       "           0.8000, 0.8235, 0.8353, 0.8118, 0.8275, 0.8235, 0.7843, 0.7686,\n",
       "           0.7608, 0.7490, 0.7647, 0.7490, 0.7765, 0.7529, 0.6902, 0.6118,\n",
       "           0.6549, 0.6941, 0.8235, 0.3608],\n",
       "          [0.0000, 0.0000, 0.2902, 0.7412, 0.8314, 0.7490, 0.6863, 0.6745,\n",
       "           0.6863, 0.7098, 0.7255, 0.7373, 0.7412, 0.7373, 0.7569, 0.7765,\n",
       "           0.8000, 0.8196, 0.8235, 0.8235, 0.8275, 0.7373, 0.7373, 0.7608,\n",
       "           0.7529, 0.8471, 0.6667, 0.0000],\n",
       "          [0.0078, 0.0000, 0.0000, 0.0000, 0.2588, 0.7843, 0.8706, 0.9294,\n",
       "           0.9373, 0.9490, 0.9647, 0.9529, 0.9569, 0.8667, 0.8627, 0.7569,\n",
       "           0.7490, 0.7020, 0.7137, 0.7137, 0.7098, 0.6902, 0.6510, 0.6588,\n",
       "           0.3882, 0.2275, 0.0000, 0.0000],\n",
       "          [0.0000, 0.0000, 0.0000, 0.0000, 0.0000, 0.0000, 0.0000, 0.1569,\n",
       "           0.2392, 0.1725, 0.2824, 0.1608, 0.1373, 0.0000, 0.0000, 0.0000,\n",
       "           0.0000, 0.0000, 0.0000, 0.0000, 0.0000, 0.0000, 0.0000, 0.0000,\n",
       "           0.0000, 0.0000, 0.0000, 0.0000],\n",
       "          [0.0000, 0.0000, 0.0000, 0.0000, 0.0000, 0.0000, 0.0000, 0.0000,\n",
       "           0.0000, 0.0000, 0.0000, 0.0000, 0.0000, 0.0000, 0.0000, 0.0000,\n",
       "           0.0000, 0.0000, 0.0000, 0.0000, 0.0000, 0.0000, 0.0000, 0.0000,\n",
       "           0.0000, 0.0000, 0.0000, 0.0000],\n",
       "          [0.0000, 0.0000, 0.0000, 0.0000, 0.0000, 0.0000, 0.0000, 0.0000,\n",
       "           0.0000, 0.0000, 0.0000, 0.0000, 0.0000, 0.0000, 0.0000, 0.0000,\n",
       "           0.0000, 0.0000, 0.0000, 0.0000, 0.0000, 0.0000, 0.0000, 0.0000,\n",
       "           0.0000, 0.0000, 0.0000, 0.0000]]]),\n",
       " 9)"
      ]
     },
     "execution_count": 10,
     "metadata": {},
     "output_type": "execute_result"
    }
   ],
   "source": [
    "train_data[0]"
   ]
  },
  {
   "cell_type": "code",
   "execution_count": 11,
   "id": "a4c80f64",
   "metadata": {},
   "outputs": [
    {
     "data": {
      "text/plain": [
       "torch.Size([1, 28, 28])"
      ]
     },
     "execution_count": 11,
     "metadata": {},
     "output_type": "execute_result"
    }
   ],
   "source": [
    "train_data[0][0].shape # num_channels, height, width"
   ]
  },
  {
   "cell_type": "code",
   "execution_count": 12,
   "id": "e7ae7dd4",
   "metadata": {},
   "outputs": [
    {
     "data": {
      "text/plain": [
       "9"
      ]
     },
     "execution_count": 12,
     "metadata": {},
     "output_type": "execute_result"
    }
   ],
   "source": [
    "train_data[0][1]"
   ]
  },
  {
   "cell_type": "code",
   "execution_count": 13,
   "id": "059bcdd2",
   "metadata": {},
   "outputs": [
    {
     "data": {
      "text/plain": [
       "['T-shirt/top',\n",
       " 'Trouser',\n",
       " 'Pullover',\n",
       " 'Dress',\n",
       " 'Coat',\n",
       " 'Sandal',\n",
       " 'Shirt',\n",
       " 'Sneaker',\n",
       " 'Bag',\n",
       " 'Ankle boot']"
      ]
     },
     "execution_count": 13,
     "metadata": {},
     "output_type": "execute_result"
    }
   ],
   "source": [
    "train_data.classes"
   ]
  },
  {
   "cell_type": "code",
   "execution_count": 14,
   "id": "ee41ff41",
   "metadata": {},
   "outputs": [
    {
     "data": {
      "image/png": "[encoded data removed]",
      "text/plain": [
       "<Figure size 500x500 with 1 Axes>"
      ]
     },
     "metadata": {},
     "output_type": "display_data"
    }
   ],
   "source": [
    "image, label_num = train_data[0]\n",
    "\n",
    "image = image.reshape(28, 28) # [1, 28, 28] -> [28, 28]\n",
    "label = train_data.classes[label_num] # class names @ train_data.classes\n",
    "\n",
    "plt.figure(figsize=(5, 5), dpi=100)\n",
    "plt.imshow(image) # image show\n",
    "plt.title(label)\n",
    "plt.show()"
   ]
  },
  {
   "cell_type": "code",
   "execution_count": 16,
   "id": "9ba1cf10",
   "metadata": {},
   "outputs": [
    {
     "data": {
      "image/png": "[encoded data removed]",
      "text/plain": [
       "<Figure size 500x500 with 1 Axes>"
      ]
     },
     "metadata": {},
     "output_type": "display_data"
    }
   ],
   "source": [
    "plt.figure(figsize=(5, 5), dpi=100)\n",
    "plt.imshow(image, cmap='gray_r') # Original image (gray-reversed)\n",
    "plt.title(label)\n",
    "plt.show()"
   ]
  },
  {
   "cell_type": "code",
   "execution_count": 17,
   "id": "8539cc0e",
   "metadata": {},
   "outputs": [
    {
     "data": {
      "text/plain": [
       "tensor([6])"
      ]
     },
     "execution_count": 17,
     "metadata": {},
     "output_type": "execute_result"
    }
   ],
   "source": [
    "torch.randint(0,10,size=[1])"
   ]
  },
  {
   "cell_type": "code",
   "execution_count": 20,
   "id": "5275217f",
   "metadata": {},
   "outputs": [
    {
     "data": {
      "image/png": "[encoded data removed]",
      "text/plain": [
       "<Figure size 1050x1050 with 25 Axes>"
      ]
     },
     "metadata": {},
     "output_type": "display_data"
    }
   ],
   "source": [
    "torch.manual_seed(42) # \"Manually\" set the \"seed\"\n",
    "\n",
    "fig = plt.figure(figsize=(7, 7), dpi=150)\n",
    "\n",
    "for i in range(1, 26): # i == Subplot number == 1->25 \n",
    "    \n",
    "    random_idx = torch.randint(0, len(train_data), size=[1]).item() # random integer (0~60000 중 랜덤한 정수값) -> plain number\n",
    "    img, label_num = train_data[random_idx]\n",
    "    \n",
    "    img = img.reshape(28, 28) # [1, 28, 28] -> [28, 28]\n",
    "    label = train_data.classes[label_num] # class names @ train_data.classes\n",
    "\n",
    "    subplot = fig.add_subplot(5, 5, i) # i == 1->25\n",
    "    plt.imshow(img, cmap=\"gray_r\")\n",
    "    plt.title(label)\n",
    "    subplot.axis('off')"
   ]
  },
  {
   "cell_type": "markdown",
   "id": "a0660e04",
   "metadata": {},
   "source": [
    "<br>\n",
    "<br>\n",
    "\n",
    "## 2) Prepare the **DataLoader**\n",
    "<br>\n",
    "\n",
    "### : a **large Dataset** -> a Python iterable of **smaller chunks** (== **mini-batches**) <br>"
   ]
  },
  {
   "cell_type": "code",
   "execution_count": 21,
   "id": "22cbe00e",
   "metadata": {},
   "outputs": [],
   "source": [
    "from torch.utils.data import DataLoader"
   ]
  },
  {
   "cell_type": "markdown",
   "id": "05f0c24e",
   "metadata": {},
   "source": [
    "<br>\n",
    "\n",
    "### 2-1) Set-up the DataLoader"
   ]
  },
  {
   "cell_type": "code",
   "execution_count": 22,
   "id": "c55305fc",
   "metadata": {},
   "outputs": [],
   "source": [
    "# Dataset -> Batches (iterable)\n",
    "\n",
    "dataloader_train = DataLoader(train_data, # train_data <- X & y included\n",
    "    batch_size=32, # 32, 64, 128, 256, 512, ...\n",
    "    shuffle=True # per epoch\n",
    ")\n",
    "\n",
    "dataloader_test = DataLoader(test_data, # test_data <- X & y included\n",
    "    batch_size=32,\n",
    "    shuffle=False # 테스트 데이터는 shuffling할 필요가 없습니다.\n",
    ")"
   ]
  },
  {
   "cell_type": "code",
   "execution_count": 23,
   "id": "20d1bd19",
   "metadata": {},
   "outputs": [
    {
     "data": {
      "text/plain": [
       "1875"
      ]
     },
     "execution_count": 23,
     "metadata": {},
     "output_type": "execute_result"
    }
   ],
   "source": [
    "len(dataloader_train)"
   ]
  },
  {
   "cell_type": "code",
   "execution_count": 24,
   "id": "0f283850",
   "metadata": {},
   "outputs": [
    {
     "data": {
      "text/plain": [
       "60000"
      ]
     },
     "execution_count": 24,
     "metadata": {},
     "output_type": "execute_result"
    }
   ],
   "source": [
    "1875 * 32 # number of batches * batch size "
   ]
  },
  {
   "cell_type": "code",
   "execution_count": 25,
   "id": "e5ad40e7",
   "metadata": {},
   "outputs": [
    {
     "data": {
      "text/plain": [
       "60000"
      ]
     },
     "execution_count": 25,
     "metadata": {},
     "output_type": "execute_result"
    }
   ],
   "source": [
    "len(train_data)"
   ]
  },
  {
   "cell_type": "markdown",
   "id": "7d4a04de",
   "metadata": {},
   "source": [
    "<br>\n",
    "\n",
    "### 2-2) Use the DataLoader to get one batch"
   ]
  },
  {
   "cell_type": "code",
   "execution_count": 27,
   "id": "aa5ceda3",
   "metadata": {},
   "outputs": [
    {
     "name": "stdout",
     "output_type": "stream",
     "text": [
      "1\n",
      "2\n",
      "3\n",
      "4\n",
      "5\n"
     ]
    }
   ],
   "source": [
    "iterable = iter([1, 2, 3, 4, 5]) # Data -> Iterable (use function \"iter\")\n",
    "\n",
    "print(next(iterable)) # next : get a next value from a Iterable\n",
    "print(next(iterable))\n",
    "print(next(iterable))\n",
    "print(next(iterable))\n",
    "print(next(iterable))"
   ]
  },
  {
   "cell_type": "code",
   "execution_count": 28,
   "id": "3bcb8c55",
   "metadata": {},
   "outputs": [
    {
     "data": {
      "text/plain": [
       "[tensor([[[[0.0000, 0.0000, 0.0000,  ..., 0.0000, 0.0000, 0.0000],\n",
       "           [0.0000, 0.0000, 0.0000,  ..., 0.0000, 0.0000, 0.0000],\n",
       "           [0.0000, 0.0000, 0.0000,  ..., 0.0000, 0.0000, 0.0000],\n",
       "           ...,\n",
       "           [0.0000, 0.9137, 0.9176,  ..., 0.0000, 0.0157, 0.0000],\n",
       "           [0.0000, 0.7882, 1.0000,  ..., 0.0000, 0.0000, 0.0000],\n",
       "           [0.0000, 0.1451, 0.3020,  ..., 0.0000, 0.0000, 0.0000]]],\n",
       " \n",
       " \n",
       "         [[[0.0000, 0.0000, 0.0000,  ..., 0.0000, 0.0000, 0.0000],\n",
       "           [0.0000, 0.0000, 0.0000,  ..., 0.0000, 0.0000, 0.0000],\n",
       "           [0.0000, 0.0000, 0.0000,  ..., 0.0000, 0.0000, 0.0000],\n",
       "           ...,\n",
       "           [0.0000, 0.0000, 0.0000,  ..., 0.0000, 0.0000, 0.0000],\n",
       "           [0.0000, 0.0000, 0.0000,  ..., 0.0000, 0.0000, 0.0000],\n",
       "           [0.0000, 0.0000, 0.0000,  ..., 0.0000, 0.0000, 0.0000]]],\n",
       " \n",
       " \n",
       "         [[[0.0000, 0.0000, 0.0000,  ..., 0.0000, 0.0000, 0.0000],\n",
       "           [0.0000, 0.0000, 0.0000,  ..., 0.0000, 0.0000, 0.0000],\n",
       "           [0.0000, 0.0000, 0.0000,  ..., 0.0000, 0.0000, 0.0000],\n",
       "           ...,\n",
       "           [0.0000, 0.0000, 0.0000,  ..., 0.0000, 0.0000, 0.0000],\n",
       "           [0.0000, 0.0000, 0.0000,  ..., 0.0000, 0.0000, 0.0000],\n",
       "           [0.0000, 0.0000, 0.0000,  ..., 0.0000, 0.0000, 0.0000]]],\n",
       " \n",
       " \n",
       "         ...,\n",
       " \n",
       " \n",
       "         [[[0.0000, 0.0000, 0.0000,  ..., 0.0000, 0.0000, 0.0000],\n",
       "           [0.0000, 0.0000, 0.0000,  ..., 0.0000, 0.0000, 0.0000],\n",
       "           [0.0000, 0.0000, 0.0000,  ..., 0.0000, 0.0000, 0.0000],\n",
       "           ...,\n",
       "           [0.0000, 0.0000, 0.0000,  ..., 0.0000, 0.0000, 0.0000],\n",
       "           [0.0000, 0.0000, 0.0000,  ..., 0.0000, 0.0000, 0.0000],\n",
       "           [0.0000, 0.0000, 0.0000,  ..., 0.0000, 0.0000, 0.0000]]],\n",
       " \n",
       " \n",
       "         [[[0.0000, 0.0000, 0.0000,  ..., 0.0000, 0.0000, 0.0000],\n",
       "           [0.0000, 0.0000, 0.0000,  ..., 0.0000, 0.0000, 0.0000],\n",
       "           [0.0078, 0.0000, 0.0824,  ..., 0.0157, 0.0000, 0.0000],\n",
       "           ...,\n",
       "           [0.0000, 0.0078, 0.0000,  ..., 0.0078, 0.0000, 0.0000],\n",
       "           [0.0000, 0.0000, 0.0000,  ..., 0.0078, 0.0000, 0.0000],\n",
       "           [0.0000, 0.0000, 0.0000,  ..., 0.0000, 0.0000, 0.0000]]],\n",
       " \n",
       " \n",
       "         [[[0.0000, 0.0000, 0.0000,  ..., 0.0000, 0.0000, 0.0000],\n",
       "           [0.0000, 0.0000, 0.0000,  ..., 0.0000, 0.0000, 0.0000],\n",
       "           [0.0000, 0.0000, 0.0000,  ..., 0.0000, 0.0000, 0.0000],\n",
       "           ...,\n",
       "           [0.0000, 0.0000, 0.0000,  ..., 0.0000, 0.0000, 0.0000],\n",
       "           [0.0000, 0.0000, 0.0000,  ..., 0.0000, 0.0000, 0.0000],\n",
       "           [0.0000, 0.0000, 0.0000,  ..., 0.0000, 0.0000, 0.0000]]]]),\n",
       " tensor([8, 5, 8, 8, 6, 5, 1, 6, 8, 3, 6, 1, 1, 9, 4, 6, 3, 9, 4, 6, 1, 3, 1, 2,\n",
       "         9, 7, 2, 4, 8, 9, 6, 2])]"
      ]
     },
     "execution_count": 28,
     "metadata": {},
     "output_type": "execute_result"
    }
   ],
   "source": [
    "next(iter(dataloader_train)) # dataloader_train -> iterable -> get a next value"
   ]
  },
  {
   "cell_type": "code",
   "execution_count": 29,
   "id": "ccb4d1f8",
   "metadata": {},
   "outputs": [
    {
     "name": "stdout",
     "output_type": "stream",
     "text": [
      "torch.Size([32, 1, 28, 28])\n",
      "torch.Size([32])\n"
     ]
    }
   ],
   "source": [
    "batch_X, batch_y = next(iter(dataloader_train))\n",
    "\n",
    "print(batch_X.shape)\n",
    "print(batch_y.shape)"
   ]
  },
  {
   "cell_type": "code",
   "execution_count": 30,
   "id": "c36ecc19",
   "metadata": {},
   "outputs": [
    {
     "data": {
      "image/png": "[encoded data removed]",
      "text/plain": [
       "<Figure size 500x500 with 1 Axes>"
      ]
     },
     "metadata": {},
     "output_type": "display_data"
    }
   ],
   "source": [
    "img, label_num = batch_X[0], batch_y[0]\n",
    "\n",
    "image = img.reshape(28, 28) # [1, 28, 28] -> [28, 28]\n",
    "label = train_data.classes[label_num]\n",
    "\n",
    "plt.figure(figsize=(5, 5), dpi=100)\n",
    "plt.imshow(image, cmap='gray_r')\n",
    "plt.title(label)\n",
    "plt.show()"
   ]
  },
  {
   "cell_type": "markdown",
   "id": "e7a1fd8c",
   "metadata": {},
   "source": [
    "<br>\n",
    "<br>\n",
    "\n",
    "# 2. Linear-model **without Activation-functions**"
   ]
  },
  {
   "cell_type": "markdown",
   "id": "ff33f01a",
   "metadata": {},
   "source": [
    "<br>\n",
    "<br>\n",
    "\n",
    "## 1)  Build the model"
   ]
  },
  {
   "cell_type": "markdown",
   "id": "3990f8fc",
   "metadata": {},
   "source": [
    "#### -> We will use a **nn.Flatten()** layer (== tf.keras.layers.Flatten())"
   ]
  },
  {
   "cell_type": "code",
   "execution_count": 32,
   "id": "503ffafa",
   "metadata": {},
   "outputs": [
    {
     "data": {
      "text/plain": [
       "torch.Size([1, 28, 28])"
      ]
     },
     "execution_count": 32,
     "metadata": {},
     "output_type": "execute_result"
    }
   ],
   "source": [
    "batch_X[0].shape"
   ]
  },
  {
   "cell_type": "code",
   "execution_count": 31,
   "id": "f0102f1f",
   "metadata": {},
   "outputs": [],
   "source": [
    "flatten_layer = nn.Flatten() # == tf.keras.layers.Flatten()\n",
    "\n",
    "x = batch_X[0]\n",
    "\n",
    "flatten_output = flatten_layer(x) "
   ]
  },
  {
   "cell_type": "code",
   "execution_count": 33,
   "id": "9d7a6980",
   "metadata": {},
   "outputs": [
    {
     "name": "stdout",
     "output_type": "stream",
     "text": [
      "torch.Size([1, 28, 28])\n",
      "torch.Size([1, 784])\n"
     ]
    }
   ],
   "source": [
    "print(x.shape)              # num_channels, height, width\n",
    "print(flatten_output.shape) # num_channels, height * width"
   ]
  },
  {
   "cell_type": "code",
   "execution_count": 34,
   "id": "c91aa3a9",
   "metadata": {},
   "outputs": [],
   "source": [
    "class FMNIST_LinearModel(nn.Module): # should inherit the class nn.Module\n",
    "    \n",
    "    \n",
    "    def __init__(self, num_features, num_nodes, num_classes):\n",
    "        \n",
    "        super().__init__()\n",
    "        \n",
    "        self.sequential_stack = nn.Sequential( # Create a sequential model\n",
    "            nn.Flatten(), # Flatten the input data\n",
    "            nn.Linear(in_features=num_features, out_features=num_nodes), # 784 -> num_nodes(ex. 128)\n",
    "            nn.Linear(in_features=num_nodes, out_features=num_classes)   # num_nodes(ex. 128) -> 10\n",
    "            # We don't need to use nn.Softmax()\n",
    "        )\n",
    "    \n",
    "    \n",
    "    def forward(self, x): # should override the method \"forward\"\n",
    "        \n",
    "        return self.sequential_stack(x)"
   ]
  },
  {
   "cell_type": "markdown",
   "id": "94dcbdb6",
   "metadata": {},
   "source": [
    "<br>\n",
    "<br>\n",
    "\n",
    "## 2) Train the model"
   ]
  },
  {
   "cell_type": "code",
   "execution_count": 35,
   "id": "d570d539",
   "metadata": {},
   "outputs": [
    {
     "data": {
      "text/plain": [
       "'cpu'"
      ]
     },
     "execution_count": 35,
     "metadata": {},
     "output_type": "execute_result"
    }
   ],
   "source": [
    "device = \"cuda\" if torch.cuda.is_available() else \"cpu\" # \"cuda\"가 사용 가능하다면 (if it \"is available\")\n",
    "\n",
    "device"
   ]
  },
  {
   "cell_type": "code",
   "execution_count": 36,
   "id": "8710e2fd",
   "metadata": {},
   "outputs": [
    {
     "data": {
      "text/plain": [
       "FMNIST_LinearModel(\n",
       "  (sequential_stack): Sequential(\n",
       "    (0): Flatten(start_dim=1, end_dim=-1)\n",
       "    (1): Linear(in_features=784, out_features=10, bias=True)\n",
       "    (2): Linear(in_features=10, out_features=10, bias=True)\n",
       "  )\n",
       ")"
      ]
     },
     "execution_count": 36,
     "metadata": {},
     "output_type": "execute_result"
    }
   ],
   "source": [
    "torch.manual_seed(42) # \"Manually\" set the \"seed\"\n",
    "\n",
    "model = FMNIST_LinearModel(\n",
    "    num_features=784, \n",
    "    num_nodes=10, \n",
    "    num_classes=len(train_data.classes)).to(device) # class names @ train_data.classes\n",
    "    \n",
    "model"
   ]
  },
  {
   "cell_type": "code",
   "execution_count": 39,
   "id": "735cf9ea",
   "metadata": {},
   "outputs": [],
   "source": [
    "loss_fn = nn.CrossEntropyLoss() # Softmax + CrossEntropy (built-in Softmax)\n",
    "\n",
    "optimizer = torch.optim.Adam(params=model.parameters(),  # \"parameters\" to optimize (apply gradient descent)\n",
    "                             lr=0.01) # \"l\"earning \"r\"ate\n",
    "\n",
    "metric_accuracy = Accuracy(task='multiclass',num_classes=10).to(device) # from torchmetrics import Accuracy"
   ]
  },
  {
   "cell_type": "code",
   "execution_count": 40,
   "id": "9ec05a7c",
   "metadata": {},
   "outputs": [
    {
     "data": {
      "application/vnd.jupyter.widget-view+json": {
       "model_id": "e51bce6f654a40719a7dc29bc65cf4b5",
       "version_major": 2,
       "version_minor": 0
      },
      "text/plain": [
       "  0%|          | 0/5 [00:00<?, ?it/s]"
      ]
     },
     "metadata": {},
     "output_type": "display_data"
    },
    {
     "name": "stdout",
     "output_type": "stream",
     "text": [
      "Epoch : 0 \n",
      "--------------\n",
      "\n",
      "Train loss: 0.56452 | Test loss: 0.50877, Test acc: 0.82%\n",
      "\n",
      "Epoch : 1 \n",
      "--------------\n",
      "\n",
      "Train loss: 0.50134 | Test loss: 0.48985, Test acc: 0.83%\n",
      "\n",
      "Epoch : 2 \n",
      "--------------\n",
      "\n",
      "Train loss: 0.48092 | Test loss: 0.57256, Test acc: 0.80%\n",
      "\n",
      "Epoch : 3 \n",
      "--------------\n",
      "\n",
      "Train loss: 0.47964 | Test loss: 0.53968, Test acc: 0.82%\n",
      "\n",
      "Epoch : 4 \n",
      "--------------\n",
      "\n",
      "Train loss: 0.47799 | Test loss: 0.49451, Test acc: 0.83%\n",
      "\n"
     ]
    }
   ],
   "source": [
    "torch.manual_seed(42)\n",
    "\n",
    "epochs = 5\n",
    "\n",
    "for epoch in tqdm(range(epochs)): # Use TQDM to show pregress bar\n",
    "    \n",
    "    print(\"Epoch :\", epoch, \"\\n--------------\")\n",
    "    \n",
    "    loss_train = 0 # epoch 내 batch 당 평균 train cost 계산을 위한 변수\n",
    "    loss_test  = 0 # epoch 내 batch 당 평균 test  cost 계산을 위한 변수\n",
    "    acc_test   = 0 # epoch 내 batch 당 평균 test  acc  계산을 위한 변수\n",
    "    \n",
    "    for batch_idx, (X, y) in enumerate(dataloader_train): # get an item from DataLoader with it's index number\n",
    "        \n",
    "        # X & y == a single batch\n",
    "        X = X.to(device)\n",
    "        y = y.to(device)\n",
    "        \n",
    "        # 모델을 training mode로 설정 (default state)\n",
    "        model.train() \n",
    "        \n",
    "        # 1. (x 데이터를 모델에 넣고) 순방향 계산 진행 (forward pass)\n",
    "        y_pred = model(X)\n",
    "        \n",
    "        # 2. Training cost 계산 (Cost function 계산)\n",
    "        loss = loss_fn(y_pred, y) # cost of batch <- nn.CrossEntropyLoss() : built-in Softmax\n",
    "        loss_train += loss \n",
    "\n",
    "        # 3. Optimizer 내부의 이전 gradient 값 초기화 (Make \"grad\" to \"zero\")\n",
    "        optimizer.zero_grad()\n",
    "\n",
    "        # 4. Back-propagation (\"Backward\" propagation)\n",
    "        loss.backward()\n",
    "\n",
    "        # 5. Gradient descent 진행 (Take a \"step\" to update parameters)\n",
    "        optimizer.step()\n",
    "    \n",
    "    \n",
    "    # 모델을 evaluation mode로 설정\n",
    "    model.eval()\n",
    "    \n",
    "    with torch.inference_mode(): # Set \"inference mode\"\n",
    "        \n",
    "        for X, y in dataloader_test: # get an item from DataLoader\n",
    "            \n",
    "            X = X.to(device)\n",
    "            y = y.to(device)\n",
    "            \n",
    "            # (x 데이터를 모델에 넣고) 순방향 계산 진행 (forward pass)\n",
    "            test_pred = model(X)\n",
    "            \n",
    "            # Test cost 계산\n",
    "            loss_test += loss_fn(test_pred, y) # cost of batch \n",
    "            acc_test  += metric_accuracy(test_pred.argmax(dim=1), y) # Softmax 적용 여부는 argmax 결과에 영향을 미치지 않음\n",
    "        \n",
    "        loss_test_avg = loss_test / len(dataloader_test) # cost of batches / num of batches (calculate average)\n",
    "        acc_test_avg  = acc_test  / len(dataloader_test) # acc  of batches / num of batches (calculate average)\n",
    "\n",
    "\n",
    "    loss_train_avg = loss_train / len(dataloader_train) # cost of batches / num of batches (calculate average)\n",
    "    \n",
    "    print(f\"\\nTrain loss: {loss_train_avg:.5f} | Test loss: {loss_test_avg:.5f}, Test acc: {acc_test_avg:.2f}%\\n\")"
   ]
  },
  {
   "cell_type": "markdown",
   "id": "49f74def",
   "metadata": {},
   "source": [
    "<br>\n",
    "<br>\n",
    "\n",
    "## 3) Evaluate the model"
   ]
  },
  {
   "cell_type": "code",
   "execution_count": 41,
   "id": "a44fe2a1",
   "metadata": {},
   "outputs": [],
   "source": [
    "torch.manual_seed(42)\n",
    "\n",
    "loss_test = 0\n",
    "acc_test  = 0\n",
    "\n",
    "\n",
    "# 1. 모델을 evaluation mode로 설정\n",
    "model.eval()\n",
    "\n",
    "# 2. inference mode 세팅\n",
    "with torch.inference_mode(): \n",
    "    \n",
    "    # 3. Batch-data 준비\n",
    "    for X, y in dataloader_test:\n",
    "        \n",
    "        X = X.to(device)\n",
    "        y = y.to(device)\n",
    "        \n",
    "        # 4. (x 데이터를 모델에 넣고) 순방향 계산 진행 (forward pass)\n",
    "        y_pred = model(X)\n",
    "\n",
    "        # 5. Test cost 계산\n",
    "        loss_test += loss_fn(y_pred, y) # cost of batch \n",
    "        acc_test  += metric_accuracy(y_pred.argmax(dim=1), y) # Softmax 적용 여부는 argmax 결과에 영향을 미치지 않음\n",
    "\n",
    "    # Calculate the average loss/acc per batch\n",
    "    loss_test_avg = loss_test / len(dataloader_test) \n",
    "    acc_test_avg  = acc_test  / len(dataloader_test) "
   ]
  },
  {
   "cell_type": "code",
   "execution_count": 42,
   "id": "70fce3cf",
   "metadata": {},
   "outputs": [
    {
     "data": {
      "text/plain": [
       "tensor(0.4945)"
      ]
     },
     "execution_count": 42,
     "metadata": {},
     "output_type": "execute_result"
    }
   ],
   "source": [
    "# 결과\n",
    "loss_test_avg"
   ]
  },
  {
   "cell_type": "code",
   "execution_count": 43,
   "id": "af61f852",
   "metadata": {},
   "outputs": [
    {
     "data": {
      "text/plain": [
       "tensor(0.8317)"
      ]
     },
     "execution_count": 43,
     "metadata": {},
     "output_type": "execute_result"
    }
   ],
   "source": [
    "# 결과\n",
    "acc_test_avg"
   ]
  },
  {
   "cell_type": "code",
   "execution_count": 44,
   "id": "049b833f",
   "metadata": {},
   "outputs": [
    {
     "data": {
      "text/plain": [
       "'FMNIST_LinearModel'"
      ]
     },
     "execution_count": 44,
     "metadata": {},
     "output_type": "execute_result"
    }
   ],
   "source": [
    "# 모델 이름 출력\n",
    "model.__class__.__name__"
   ]
  },
  {
   "cell_type": "code",
   "execution_count": 45,
   "id": "f3730753",
   "metadata": {},
   "outputs": [
    {
     "data": {
      "text/plain": [
       "{'model_name': 'FMNIST_LinearModel',\n",
       " 'model_loss': 0.49450814723968506,\n",
       " 'model_acc': 0.8316693305969238}"
      ]
     },
     "execution_count": 45,
     "metadata": {},
     "output_type": "execute_result"
    }
   ],
   "source": [
    "model_result_1 = {\"model_name\": model.__class__.__name__, # 'FMNIST_LinearModel'\n",
    "                  \"model_loss\": loss_test_avg.item(), # get a plain number\n",
    "                  \"model_acc\": acc_test_avg.item()}\n",
    "\n",
    "model_result_1"
   ]
  },
  {
   "cell_type": "markdown",
   "id": "91d36585",
   "metadata": {},
   "source": [
    "<br>\n",
    "<br>\n",
    "\n",
    "# 3. Linear-model **with Activation-functions** (== Dense-network) "
   ]
  },
  {
   "cell_type": "markdown",
   "id": "8e538656",
   "metadata": {},
   "source": [
    "<br>\n",
    "<br>\n",
    "\n",
    "## 1)  Build the model"
   ]
  },
  {
   "cell_type": "code",
   "execution_count": 47,
   "id": "5449f85c",
   "metadata": {},
   "outputs": [],
   "source": [
    "class FMNIST_NonLinearModel(nn.Module): # should inherit the class nn.Module\n",
    "    \n",
    "    \n",
    "    def __init__(self, num_features, num_nodes, num_classes):\n",
    "        \n",
    "        super().__init__()\n",
    "        \n",
    "        self.sequential_stack = nn.Sequential( # Create a sequential model\n",
    "            nn.Flatten(), # Flatten the data\n",
    "            nn.Linear(in_features=num_features, out_features=num_nodes), # 784 -> num_nodes(ex. 128)\n",
    "            nn.ReLU(), # Use activation function 'ReLU'\n",
    "            nn.Linear(in_features=num_nodes, out_features=num_classes),   # num_nodes(ex. 128) -> num_nodes(ex. 128)\n",
    "            nn.ReLU(), \n",
    "            nn.Linear(in_features=num_nodes, out_features=num_classes)   # num_nodes(ex. 128) -> 10\n",
    "            # We don't need to use nn.Softmax()\n",
    "        )\n",
    "    \n",
    "    \n",
    "    def forward(self, x): # should override the method \"forward\"\n",
    "        \n",
    "        return self.sequential_stack(x)"
   ]
  },
  {
   "cell_type": "markdown",
   "id": "45d08b0c",
   "metadata": {},
   "source": [
    "<br>\n",
    "<br>\n",
    "\n",
    "## 2) Train the model"
   ]
  },
  {
   "cell_type": "code",
   "execution_count": 48,
   "id": "0b20ce60",
   "metadata": {},
   "outputs": [
    {
     "data": {
      "text/plain": [
       "'cpu'"
      ]
     },
     "execution_count": 48,
     "metadata": {},
     "output_type": "execute_result"
    }
   ],
   "source": [
    "device = \"cuda\" if torch.cuda.is_available() else \"cpu\" # \"cuda\"가 사용 가능하다면 (if it \"is available\")\n",
    "\n",
    "device"
   ]
  },
  {
   "cell_type": "code",
   "execution_count": 49,
   "id": "5e77499d",
   "metadata": {},
   "outputs": [
    {
     "data": {
      "text/plain": [
       "FMNIST_NonLinearModel(\n",
       "  (sequential_stack): Sequential(\n",
       "    (0): Flatten(start_dim=1, end_dim=-1)\n",
       "    (1): Linear(in_features=784, out_features=10, bias=True)\n",
       "    (2): ReLU()\n",
       "    (3): Linear(in_features=10, out_features=10, bias=True)\n",
       "    (4): ReLU()\n",
       "    (5): Linear(in_features=10, out_features=10, bias=True)\n",
       "  )\n",
       ")"
      ]
     },
     "execution_count": 49,
     "metadata": {},
     "output_type": "execute_result"
    }
   ],
   "source": [
    "torch.manual_seed(42) # \"Manually\" set the \"seed\"\n",
    "\n",
    "model = FMNIST_NonLinearModel(\n",
    "    num_features=784, \n",
    "    num_nodes=10,\n",
    "    num_classes=len(train_data.classes)).to(device)\n",
    "    \n",
    "model"
   ]
  },
  {
   "cell_type": "code",
   "execution_count": 50,
   "id": "df642cdd",
   "metadata": {},
   "outputs": [],
   "source": [
    "loss_fn = nn.CrossEntropyLoss() # Softmax + CrossEntropy (built-in Softmax)\n",
    "\n",
    "optimizer = torch.optim.Adam(params=model.parameters(),  # \"parameters\" to optimize (apply gradient descent)\n",
    "                             lr=0.01) # \"l\"earning \"r\"ate \n",
    "    \n",
    "metric_accuracy = Accuracy(task='multiclass',num_classes=10).to(device)"
   ]
  },
  {
   "cell_type": "code",
   "execution_count": 52,
   "id": "169e83ac",
   "metadata": {},
   "outputs": [
    {
     "data": {
      "application/vnd.jupyter.widget-view+json": {
       "model_id": "41079dcbdb124f3aa62643fb14f6db5e",
       "version_major": 2,
       "version_minor": 0
      },
      "text/plain": [
       "  0%|          | 0/5 [00:00<?, ?it/s]"
      ]
     },
     "metadata": {},
     "output_type": "display_data"
    },
    {
     "name": "stdout",
     "output_type": "stream",
     "text": [
      "Epoch : 0 \n",
      "--------------\n",
      "\n",
      "Train loss: 0.58868 | Test loss: 0.49272, Test acc: 0.83%\n",
      "\n",
      "Epoch : 1 \n",
      "--------------\n",
      "\n",
      "Train loss: 0.48833 | Test loss: 0.47456, Test acc: 0.84%\n",
      "\n",
      "Epoch : 2 \n",
      "--------------\n",
      "\n",
      "Train loss: 0.45992 | Test loss: 0.54279, Test acc: 0.80%\n",
      "\n",
      "Epoch : 3 \n",
      "--------------\n",
      "\n",
      "Train loss: 0.45141 | Test loss: 0.54062, Test acc: 0.83%\n",
      "\n",
      "Epoch : 4 \n",
      "--------------\n",
      "\n",
      "Train loss: 0.44549 | Test loss: 0.51921, Test acc: 0.82%\n",
      "\n"
     ]
    }
   ],
   "source": [
    "torch.manual_seed(42)\n",
    "\n",
    "epochs = 5\n",
    "\n",
    "for epoch in tqdm(range(epochs)):\n",
    "    \n",
    "    print(\"Epoch :\", epoch, \"\\n--------------\")\n",
    "    \n",
    "    loss_train = 0 # epoch 내 batch 당 평균 train cost 계산을 위한 변수\n",
    "    loss_test  = 0 # epoch 내 batch 당 평균 test  cost 계산을 위한 변수\n",
    "    acc_test   = 0 # epoch 내 batch 당 평균 test  acc  계산을 위한 변수\n",
    "    \n",
    "    for batch_idx, (X, y) in enumerate(dataloader_train): # X & y == a single batch\n",
    "        \n",
    "        X = X.to(device)\n",
    "        y = y.to(device)\n",
    "        \n",
    "        # 모델을 training mode로 설정 (default state)\n",
    "        model.train() \n",
    "        \n",
    "        # 1. (x 데이터를 모델에 넣고) 순방향 계산 진행 (forward pass)\n",
    "        y_pred = model(X)\n",
    "        \n",
    "        # 2. Training cost 계산 (Cost function 계산)\n",
    "        loss = loss_fn(y_pred, y) # cost of batch <- nn.CrossEntropyLoss() : built-in Softmax\n",
    "        loss_train += loss \n",
    "\n",
    "        # 3. Optimizer 내부의 이전 gradient 값 초기화 (Make \"grad\" to \"zero\")\n",
    "        optimizer.zero_grad()\n",
    "\n",
    "        # 4. Back-propagation (\"Backward\" propagation)\n",
    "        loss.backward()\n",
    "\n",
    "        # 5. Gradient descent 진행 (Take a \"step\" to update parameters)\n",
    "        optimizer.step()\n",
    "    \n",
    "    \n",
    "    # 모델을 evaluation mode로 설정\n",
    "    model.eval()\n",
    "    \n",
    "    with torch.inference_mode(): # Set \"inference mode\"\n",
    "        \n",
    "        for X, y in dataloader_test:\n",
    "            \n",
    "            X = X.to(device)\n",
    "            y = y.to(device)\n",
    "            \n",
    "            # (x 데이터를 모델에 넣고) 순방향 계산 진행 (forward pass)\n",
    "            test_pred = model(X)\n",
    "            \n",
    "            # Test cost 계산\n",
    "            loss_test += loss_fn(test_pred, y) # cost of batch \n",
    "            acc_test  += metric_accuracy(test_pred.argmax(dim=1), y) # Softmax 적용 여부는 argmax 결과에 영향을 미치지 않음\n",
    "        \n",
    "        loss_test_avg = loss_test / len(dataloader_test) # cost of batches / num of batches (calculate average)\n",
    "        acc_test_avg  = acc_test  / len(dataloader_test) # acc  of batches / num of batches (calculate average)\n",
    "\n",
    "\n",
    "    loss_train_avg = loss_train / len(dataloader_train) # cost of batches / num of batches (calculate average)\n",
    "    \n",
    "    print(f\"\\nTrain loss: {loss_train_avg:.5f} | Test loss: {loss_test_avg:.5f}, Test acc: {acc_test_avg:.2f}%\\n\")"
   ]
  },
  {
   "cell_type": "markdown",
   "id": "5176ab29",
   "metadata": {},
   "source": [
    "<br>\n",
    "<br>\n",
    "\n",
    "## 3) Evaluate the model"
   ]
  },
  {
   "cell_type": "code",
   "execution_count": 53,
   "id": "e5da0847",
   "metadata": {},
   "outputs": [],
   "source": [
    "torch.manual_seed(42)\n",
    "\n",
    "loss_test = 0\n",
    "acc_test  = 0\n",
    "\n",
    "\n",
    "# 1. 모델을 evaluation mode로 설정\n",
    "model.eval()\n",
    "\n",
    "# 2. inference mode 세팅\n",
    "with torch.inference_mode(): \n",
    "    \n",
    "    # 3. Batch-data 준비\n",
    "    for X, y in dataloader_test:\n",
    "        \n",
    "        X = X.to(device)\n",
    "        y = y.to(device)\n",
    "        \n",
    "        # 4. (x 데이터를 모델에 넣고) 순방향 계산 진행 (forward pass)\n",
    "        y_pred = model(X)\n",
    "\n",
    "        # 5. Test cost 계산\n",
    "        loss_test += loss_fn(y_pred, y) # cost of batch \n",
    "        acc_test  += metric_accuracy(y_pred.argmax(dim=1), y) # Softmax 적용 여부는 argmax 결과에 영향을 미치지 않음\n",
    "\n",
    "    # Calculate the average loss/acc per batch\n",
    "    loss_test_avg = loss_test / len(dataloader_test) \n",
    "    acc_test_avg  = acc_test  / len(dataloader_test) "
   ]
  },
  {
   "cell_type": "code",
   "execution_count": 54,
   "id": "b88420a2",
   "metadata": {},
   "outputs": [
    {
     "data": {
      "text/plain": [
       "tensor(0.5192)"
      ]
     },
     "execution_count": 54,
     "metadata": {},
     "output_type": "execute_result"
    }
   ],
   "source": [
    "loss_test_avg"
   ]
  },
  {
   "cell_type": "code",
   "execution_count": 55,
   "id": "9178c8d3",
   "metadata": {},
   "outputs": [
    {
     "data": {
      "text/plain": [
       "tensor(0.8211)"
      ]
     },
     "execution_count": 55,
     "metadata": {},
     "output_type": "execute_result"
    }
   ],
   "source": [
    "acc_test_avg"
   ]
  },
  {
   "cell_type": "code",
   "execution_count": 56,
   "id": "6bfc67ce",
   "metadata": {},
   "outputs": [
    {
     "data": {
      "text/plain": [
       "{'model_name': 'FMNIST_NonLinearModel',\n",
       " 'model_loss': 0.5192051529884338,\n",
       " 'model_acc': 0.8210862874984741}"
      ]
     },
     "execution_count": 56,
     "metadata": {},
     "output_type": "execute_result"
    }
   ],
   "source": [
    "model_result_2 = {\"model_name\": model.__class__.__name__, # 'FMNIST_NonLinearModel'\n",
    "                  \"model_loss\": loss_test_avg.item(), # get a plain number\n",
    "                  \"model_acc\": acc_test_avg.item()}\n",
    "\n",
    "model_result_2"
   ]
  },
  {
   "cell_type": "code",
   "execution_count": 57,
   "id": "f261a00f",
   "metadata": {
    "scrolled": true
   },
   "outputs": [
    {
     "data": {
      "text/plain": [
       "{'model_name': 'FMNIST_LinearModel',\n",
       " 'model_loss': 0.49450814723968506,\n",
       " 'model_acc': 0.8316693305969238}"
      ]
     },
     "execution_count": 57,
     "metadata": {},
     "output_type": "execute_result"
    }
   ],
   "source": [
    "model_result_1 # 성능 향상이 크게 이뤄지지 않음"
   ]
  },
  {
   "cell_type": "markdown",
   "id": "cb923d32",
   "metadata": {},
   "source": [
    "<br>\n",
    "<br>\n",
    "\n",
    "# 4. Save the result"
   ]
  },
  {
   "cell_type": "code",
   "execution_count": 59,
   "id": "1d313e94",
   "metadata": {},
   "outputs": [],
   "source": [
    "import pickle # save & load python objects as pickle files"
   ]
  },
  {
   "cell_type": "code",
   "execution_count": 60,
   "id": "f59e6fe1",
   "metadata": {},
   "outputs": [],
   "source": [
    "with open('model_result_1.pkl', 'wb') as f:\n",
    "    pickle.dump(model_result_1, f)\n",
    "\n",
    "with open('model_result_2.pkl', 'wb') as f:\n",
    "    pickle.dump(model_result_2, f)"
   ]
  },
  {
   "cell_type": "code",
   "execution_count": null,
   "id": "1702dcc0",
   "metadata": {},
   "outputs": [],
   "source": []
  }
 ],
 "metadata": {
  "kernelspec": {
   "display_name": "Python 3 (ipykernel)",
   "language": "python",
   "name": "python3"
  },
  "language_info": {
   "codemirror_mode": {
    "name": "ipython",
    "version": 3
   },
   "file_extension": ".py",
   "mimetype": "text/x-python",
   "name": "python",
   "nbconvert_exporter": "python",
   "pygments_lexer": "ipython3",
   "version": "3.11.3"
  }
 },
 "nbformat": 4,
 "nbformat_minor": 5
}
